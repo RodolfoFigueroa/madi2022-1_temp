{
  "nbformat": 4,
  "nbformat_minor": 0,
  "metadata": {
    "colab": {
      "name": "Programación dinámica.ipynb",
      "provenance": [],
      "collapsed_sections": [],
      "include_colab_link": true
    },
    "kernelspec": {
      "name": "python3",
      "display_name": "Python 3"
    }
  },
  "cells": [
    {
      "cell_type": "markdown",
      "metadata": {
        "id": "view-in-github",
        "colab_type": "text"
      },
      "source": [
        "<a href=\"https://colab.research.google.com/github/RodolfoFigueroa/madi2022-1/blob/main/6_Programacion_dinamica.ipynb\" target=\"_parent\"><img src=\"https://colab.research.google.com/assets/colab-badge.svg\" alt=\"Open In Colab\"/></a>"
      ]
    },
    {
      "cell_type": "markdown",
      "metadata": {
        "id": "Wl-EeONALQe_"
      },
      "source": [
        "El principio de la programación dinámica consiste en utilizar recursiones, haciendo uso de la memorización. Esto con la finalidad de no computar más de una vez determinada acción más de una vez. Veamos algunos ejemplos de esta técnica en el diseño de ciertos algoritmos."
      ]
    },
    {
      "cell_type": "markdown",
      "metadata": {
        "id": "oJN6PhFGMCRd"
      },
      "source": [
        "**Ejemplo 1.** Recordando uno de los ejemplos vistos en la sesión de algoritmos voraces, se tienen monedas con denominaciones $\\{m_1, m_2, \\dots, m_k\\}$, y queremos determinar un algoritmo que permita determinar si podemos formar cierto número $n$ a partir de estas denominaciones, y en caso afirmativo, encontrar la menor cantidad de monedas necesarias para esto. \n",
        "\n",
        "Sea `min_coin(r)` la menor cantidad de monedas necesarias para formar el entero $r$ (la función valdrá $-1$ si esto no es posible). Se tiene la siguiente recursión: `min_coin(r) = min{min_coin(r-m_1), min_coin(r-m_2), ..., min_coin(r-m_k)} + 1`, donde el mínimo se toma sobre los valores que sepamos que sí se pueden formar con las denominaciones dadas.\n",
        "\n",
        "Notemos que esto lo podemos resolver haciendo backtracking, ¿podemos mejorar esto? Supongamos que tenemos $\\{3, 4, 7\\}$ como denominaciones de nuestras monedas, y preguntamos por el valor $n = 15$, entonces en nuestra recursión estaremos preguntando por los valores de min_coin de $8, 11, 12$, posteriormente, para encontrar dicho valor para $12$, preguntaremos por los valores de $5, 8, 9$, notemos que habremos preguntado hasta al momento al menos dos veces el valor de min_coin de $8$, el que a su vez calcula todos los valores necesarios para determinar el número de monedas correspondiente. Podemos entonces guardar los valores que ya hayamos calculado, con la finalidad de volver a calcular valores que ya han sido previamente calculados."
      ]
    },
    {
      "cell_type": "code",
      "metadata": {
        "colab": {
          "base_uri": "https://localhost:8080/"
        },
        "id": "2Z0WseCdKdii",
        "outputId": "6e51a803-60d0-4f00-a7d3-dcb4e547cb13"
      },
      "source": [
        "L = [5, 7, 10, 15]\n",
        "\n",
        "dp = [-2]*100000 # -2 nos va a indicar que no hemos calculado el respectivo valor\n",
        "\n",
        "def min_coin(n):\n",
        "  if(dp[n] != -2):\n",
        "    return dp[n] # Checa si el valor ya fue previamente calculado\n",
        "  if(n == 0):\n",
        "    return 0\n",
        "  if(n < 2):\n",
        "    return -1\n",
        "  mini = n+1 #  Guarda el menor número de monedas posible, lo iniciamos con una cota superior\n",
        "  for i in range(0, len(L)):\n",
        "    if(n - L[i] >= 0):\n",
        "      curr = min_coin(n - L[i])\n",
        "      if(curr > -1 and curr < mini):\n",
        "        mini = curr + 1\n",
        "  if(mini < n+1):\n",
        "    dp[n] = mini\n",
        "  else:\n",
        "    dp[n] = -1\n",
        "  return dp[n]\n",
        "\n",
        "\n",
        "print(min_coin(14))\n",
        "print(min_coin(15))\n",
        "print(min_coin(17))\n",
        "print(min_coin(16))"
      ],
      "execution_count": null,
      "outputs": [
        {
          "output_type": "stream",
          "text": [
            "2\n",
            "1\n",
            "2\n",
            "-1\n"
          ],
          "name": "stdout"
        }
      ]
    },
    {
      "cell_type": "markdown",
      "metadata": {
        "id": "FzZhd4PdM4A0"
      },
      "source": [
        "**Ejemplo 2.** *Subsecuencia creciente más larga (LIS).* Consideremos una lista $L$ de números reales, queremos encontrar la longitud de la subsecuencia (no necesariamente formada por elementos contiguos de la lista) más larga posible de modo que los elementos seleccionados se encuentren en orden creciente. Como ejemplo, consideremos $L = [1, 0, 3, 2, 5, 4, 9]$, la subsecuencia creciente más larga de $L$ es $\\{1, 3, 5, 9\\}$.\n",
        "\n",
        "¿Cómo podemos resolver este problema? Notemos que podemos llegar a una recursión, si llamamos $lis(i)$ al tamaño de la subsecuencia creciente más larga entre los primeros $i$ elementos de $L$. Se tiene entonces que $lis(j)$ será igual a el mayor entre $lis(i) + 1$ tal que $i < j$ y $L[i] < L[j]$.\n",
        "\n",
        "La implementación de este algoritmo queda como ejercicio.\n",
        "\n",
        "La complejidad en tiempo es de $O(n^2)$ mientras que en espacio es de $O(n)$. La complejidad para este problema se puede mejorar, se tiene un algoritmo cuya complejidad es $O(n \\; log n)$ en tiempo. No veremos este algoritmo a profundidad, pero las ideas centrales son que para cada longitud posible se guarde el menor valor posible del elemento hasta la derecha de una subsecuencia creciente de dicha longitud, y esto se vaya actualizando al ir iterando sobre los elementos de la lista, y para saber dónde colocar el nuevo elemento de la lista se hace una búsqueda binaria sobre estos elementos que se van guardando.\n",
        "\n",
        "Para más detalles sobre este algoritmo, se puede consultar https://www.geeksforgeeks.org/longest-monotonically-increasing-subsequence-size-n-log-n/ .\n",
        "\n"
      ]
    },
    {
      "cell_type": "markdown",
      "metadata": {
        "id": "SDZ8zEuEnVQ2"
      },
      "source": [
        "**Ejemplo 3.** Dado un conjunto de $n$ elementos, queremos determinar de cuántas formas se puede particionar, de modo que cada partición tenga $1$ o $2$ elementos. Por ejemplo, dado el conjunto $\\{0, 1, 2\\}$, las siguientes son todas las particiones válidas:\n",
        "\n",
        "*   $\\{0\\}, \\{1\\}, \\{2\\}$\n",
        "*   $\\{0, 1\\}, \\{2\\}$\n",
        "*   $\\{0, 2\\}, \\{1\\}$\n",
        "*   $\\{0\\}, \\{1, 2\\}$\n",
        "\n",
        "Que en total son 4.\n",
        "\n",
        "Notemos que la única información relevante para nuestro problema sobre el conjunto es la cantidad de elementos. Podemos entonces definir $part(k)$, que nos diga el total de particiones válidas para un conjunto de $k$ elementos. Consideremos un elemento de nuestro conjunto inicial, en caso de que no sea emparejado, se tienen $part(k-1)$ particiones válidas, mientras que si lo emparejamos, se tienen un total de $(k-1)\\cdot part(k-2)$ particiones válidas, pues se puede emparejar con uno de los $k-1$ elementos restantes. Entonces se tiene la recursión $part(k) = part(k-1) + (k-1)part(k-2)$. Donde además podemos ver los casos base $part(0) = 1, part(1) = 1$.\n",
        "\n",
        "Veamos una implementación de este algoritmo.\n"
      ]
    },
    {
      "cell_type": "code",
      "metadata": {
        "colab": {
          "base_uri": "https://localhost:8080/"
        },
        "id": "R1axKwbRvrof",
        "outputId": "c1a2c821-bc7b-4ff8-cfb6-cc046b70e887"
      },
      "source": [
        "n = 8\n",
        "dp = [-1]*(n+1)\n",
        "dp[0] = 1\n",
        "dp[1] = 1\n",
        "\n",
        "def part(k):\n",
        "  if(dp[k] != -1):\n",
        "    return dp[k]\n",
        "  dp[k] = part(k-1) + (k-1)*part(k-2)\n",
        "  return dp[k]\n",
        "\n",
        "print(part(n))"
      ],
      "execution_count": null,
      "outputs": [
        {
          "output_type": "stream",
          "text": [
            "764\n"
          ],
          "name": "stdout"
        }
      ]
    },
    {
      "cell_type": "markdown",
      "metadata": {
        "id": "F_R_5nwMwZFt"
      },
      "source": [
        "¿Cuáles son las complejidades de esta implementación? En espacio se tiene $O(n)$, pues cada valor se calcula una vez, las demás veces se accede a la memoria y no se expande todo el árbol de nuevo, mientras que en memoria es $O(n)$, pues tanto en la pila de recursión como en $dp$ ocupamos $O(n)$. ¿Se puede mejorar esto? ¿Qué pasa si hacemos una implementación que sea iterativa? Notemos, que a diferencia de los ejemplos anteriores, nuestra recursión depende únicamente de dos valores previos, no de todos los anteriores, por lo que podemos optimizar la memoria guardando únicamente dos valores que iremos actualizando."
      ]
    },
    {
      "cell_type": "code",
      "metadata": {
        "colab": {
          "base_uri": "https://localhost:8080/"
        },
        "id": "Qt4Cy0n1xIxx",
        "outputId": "4f5517f3-6d0c-4f1c-d662-904526ddea68"
      },
      "source": [
        "dp2 = [1, 1]\n",
        "\n",
        "def part2(k):\n",
        "  if(k <= 1):\n",
        "    return 1\n",
        "  idx = 2\n",
        "  while(idx <= k):\n",
        "    aux = dp2[idx%2]\n",
        "    dp2[idx%2] = dp2[(idx+1)%2] + (idx - 1)*aux\n",
        "    idx += 1\n",
        "  return dp2[k%2]\n",
        "\n",
        "print(part2(n))"
      ],
      "execution_count": null,
      "outputs": [
        {
          "output_type": "stream",
          "text": [
            "764\n"
          ],
          "name": "stdout"
        }
      ]
    },
    {
      "cell_type": "markdown",
      "metadata": {
        "id": "xXMcW8svxy9v"
      },
      "source": [
        "Notemos que se pudo mejorar la complejidad en espacio, de lineal a constante, pues hay una cantidad constante de variables almacenadas y no ocupamos más que un espacio constante en la pila de recursión. La complejidad en tiempo se mantiene en lineal, pues vamos iterando desde $2$ hasta $n$ haciendo una cantidad constante de operaciones en cada paso. Esta es una de las ventajas que hemos visto anteriormente que tienen los algoritmos iterativos sobre los que son recursivos."
      ]
    },
    {
      "cell_type": "markdown",
      "metadata": {
        "id": "G_4f0rvtySwO"
      },
      "source": [
        "**Ejemplo 4.** Dados un entero $d$ y un dado $m$ caras (numeradas del $1$ al $m$), determina de cuántas formas se puede obtener un valor $n$ como suma de los resultados al tirar el dado $d$ veces (importando el orden, por ejemplo, si en la primer tirada se tiene $1$ y en la segunda $2$ se considera diferente a obtener $2$ en la primer tirada y $1$ en la segunda).\n",
        "\n",
        "En este ejemplo, tendremos que asegurarnos de involucrar de forma correcta la información que se nos da. Si intentamos copiar la idea del problema de las monedas, tendríamos `sum_d(k)` que nos dice de cuántas formas se puede sumar $k$ usando $d$ tiradas del dado. Sin embargo, la restricción de tener que usar $d$ dados no nos permite crear una recursión que involucre únicamente estos valores, quisieramos saber valores de sumas con menos tiradas. Esto motiva la idea de ahora considerar `sum_dice(k, s)`, que representa las formas de sumar $k$ usando $s$ tiradas del dado (de $m$ caras), notemos que se obtiene la siguiente recursión: \n",
        "\n",
        "`sum_dice(k,s) = sum_dice(k-1,s-1) + sum_dice(k-2, s-1) + ... + sum_dice(k-m, s-1)`,\n",
        "\n",
        "lo cual podemos ir calculando y memorizando. Veamos una implementación de este algoritmo.\n",
        "\n",
        "\n"
      ]
    },
    {
      "cell_type": "code",
      "metadata": {
        "colab": {
          "base_uri": "https://localhost:8080/"
        },
        "id": "mS027QfMkiwN",
        "outputId": "da1753b1-a3e5-4bd2-f9ff-afd22aaf4ff9"
      },
      "source": [
        "m = 6\n",
        "d = 5\n",
        "n = 20\n",
        "dp = [[-1 for x in range(d+1)] for y in range(n+1)]\n",
        "\n",
        "def sum_dice(k, s):\n",
        "  if(k <= 0):\n",
        "    return 0\n",
        "  if(s == 1):\n",
        "    if(k <= m):\n",
        "      return 1\n",
        "    else:\n",
        "      return 0\n",
        "  if(dp[k][s]!= -1):\n",
        "    return dp[k][s]\n",
        "  dp[k][s] = 0\n",
        "  for i in range(1, m+1):\n",
        "    dp[k][s] += sum_dice(k-i, s-1)\n",
        "  return dp[k][s]\n",
        "\n",
        "print(sum_dice(n, d))\n"
      ],
      "execution_count": null,
      "outputs": [
        {
          "output_type": "stream",
          "text": [
            "651\n"
          ],
          "name": "stdout"
        }
      ]
    },
    {
      "cell_type": "markdown",
      "metadata": {
        "id": "7XKbvyRkiYEA"
      },
      "source": [
        "**Ejercicios.**\n",
        "\n",
        "1.   Implementa el algoritmo mencionado (de complejidad $O(n^2)$ en tiempo) para encontrar la longitud de la subsecuencia creciente más larga en una lista dada. Comprueba tu resultado con las listas $L = [2, 0, 3, 4, 1, 5], L = [-10, 0, -5, -15, 15, 0, 5, 10]$.\n",
        "2.   Dados un entero positivo $m$, y una lista $L$ con $n$ enteros, describe e implementa un algoritmo con complejidad en tiempo menor que $O(2^n)$ que nos permita determinar si existe algún subconjunto de $L$ tal que la suma de sus elementos sea múltiplo de $m$. Comprueba tu algoritmo con las lista $L = [1, 4, 9, 16, 25, 36, 49, 64]$, y los valores $m = 75, 15, 81$.\n",
        "3.   (Reto, no obligatorio) Muestra que en el ejercicio anterior, si se tiene que $n > m$ entonces podemos garantizar la existencia del subconjunto buscado. \n",
        "\n"
      ]
    },
    {
      "cell_type": "markdown",
      "metadata": {
        "id": "38Xr-ehV4y_7"
      },
      "source": [
        "*Ejercicio 1.* "
      ]
    },
    {
      "cell_type": "code",
      "metadata": {
        "id": "tDfTo1h743e_"
      },
      "source": [
        "# Aquí va el código solicitado para el ejercicio 1"
      ],
      "execution_count": null,
      "outputs": []
    },
    {
      "cell_type": "markdown",
      "metadata": {
        "id": "0S3zs6rf5W4O"
      },
      "source": [
        "*Ejercicio 2.* Describe a continuación el algoritmo solicitado. (Hint : ¿Es posible determinar en cada momento (al iterar sobre los elementos de L) ir guardando qué congruencias módulo $m$ se pueden obtener con los elementos que se han visitado hasta el momento?)"
      ]
    },
    {
      "cell_type": "code",
      "metadata": {
        "id": "2mD6r5vM5dn7"
      },
      "source": [
        "# Aquí va la implementación del algoritmo descrito anteriormente"
      ],
      "execution_count": null,
      "outputs": []
    },
    {
      "cell_type": "markdown",
      "metadata": {
        "id": "-jmvrr_F56Bs"
      },
      "source": [
        "*Ejercicio 3.* Aquí va la demostración del ejercicio 3."
      ]
    }
  ]
}