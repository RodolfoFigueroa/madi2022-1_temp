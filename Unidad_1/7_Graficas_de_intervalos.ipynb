{
  "nbformat": 4,
  "nbformat_minor": 0,
  "metadata": {
    "colab": {
      "name": "Gráficas de intervalos.ipynb",
      "provenance": [],
      "collapsed_sections": [],
      "include_colab_link": true
    },
    "kernelspec": {
      "name": "python3",
      "display_name": "Python 3"
    }
  },
  "cells": [
    {
      "cell_type": "markdown",
      "metadata": {
        "id": "view-in-github",
        "colab_type": "text"
      },
      "source": [
        "<a href=\"https://colab.research.google.com/github/RodolfoFigueroa/madi2022-1/blob/main/7_Graficas_de_intervalos.ipynb\" target=\"_parent\"><img src=\"https://colab.research.google.com/assets/colab-badge.svg\" alt=\"Open In Colab\"/></a>"
      ]
    },
    {
      "cell_type": "code",
      "metadata": {
        "id": "5UYSgqQ7O58V"
      },
      "source": [
        "import networkx as nx"
      ],
      "execution_count": null,
      "outputs": []
    },
    {
      "cell_type": "markdown",
      "metadata": {
        "id": "84vkoBwQO422"
      },
      "source": [
        "En esta sesión exploraremos el concepto de *gráfica de intervalos*. \n",
        "\n",
        "*Definición.* Una gráfica de intervalos es una gráfica tal que existe al menos un conjunto de intervalos de la forma $[a,b]$ tal que los intervalos se asocian biyectivamente con los vértices de la gráfica, y dos vértices son adyacentes si y solo si los intervalos correspondientes se intersectan.\n",
        "\n",
        "De esta definición, después de explorar un poco surgen dos preguntas naturales:\n",
        "\n",
        "\n",
        "*   Dado un arreglo de intervalos, ¿cómo crear la gráfica de intervalos correspondiente? (De intervalos a gráfica).\n",
        "*   Dada una gráfica, ¿cómo saber si es una gráfica de intervalos? En caso de que sí lo sea, ¿cómo construir un arreglo de intervalos correspondiente a la gráfica? (De gráfica a intervalos).\n",
        "\n",
        "Daremos un algoritmo para la primer pregunta, (como nota, no será el más eficiente que existe, pero rescata ideas y observaciones importantes). Respecto a la segunda pregunta, existen varios teoremas que nos permiten saber cuándo una gráfica es de intervalos, veremos uno de ellos, que nos permitirá conocer una forma de construir un arreglo de intervalos correspondiente a la gráfica en caso de que exista.\n",
        "\n"
      ]
    },
    {
      "cell_type": "markdown",
      "metadata": {
        "id": "KQASgsjtT1pc"
      },
      "source": [
        "**De intervalos a gráfica.** Dado un arreglo de intervalos $[a_1,b_1], [a_2, b_2], \\dots, [a_n, b_n]$, veamos cómo crear la gráfica correspondiente. Seguiremos los siguientes pasos:\n",
        "\n",
        "*   Ordenamos los intervalos según su extremo izquierdo. Podemos entonces suponer que $a_1 \\leq a_2 \\leq \\dots \\leq a_n$. (Usaremos por ahora la función *sort*, en un futuro no muy lejano veremos algoritmos de ordenamiento).\n",
        "*   Notemos que si $a_i \\leq a_j$, entonces el intervalo $[a_i, b_i]$ intersecta al intervalo $[a_j, b_j]$ si y solo si $a_j < b_i$.\n",
        "*   Notemos también que dados tres intervalos $[a_i, b_i], [a_j, b_j], [a_k, b_k]$ con $a_i \\leq a_j \\leq a_k$, si $[a_j, b_j]$ no intersecta a $[a_i, b_i]$ entonces $[a_k, b_k]$ tampoco intersecta a $[a_i, b_i]$.\n",
        "*   Considerando lo anterior, basta con revisar si los extremos izquierdos de los segmentos se intersectan con alguno de los segmentos que aparecen antes (pues ya fueron ordenados). Para esto, hacemos un conjunto, en donde metemos a $[a_1, b_1]$, y en cada paso lo que hacemos es verificar en qué intervalos del conjunto $a_i$ está contenido, y en los que no aparezca los eliminamos del conjunto, y metemos $[a_i, b_i]$ al conjunto. Iteramos este proceso para cada $i$, y vamos conectando los vértices según corresponda.\n",
        "\n"
      ]
    },
    {
      "cell_type": "code",
      "metadata": {
        "id": "irFxYdTCZE1V",
        "colab": {
          "base_uri": "https://localhost:8080/",
          "height": 319
        },
        "outputId": "33a341ee-3f9c-4cbd-d00b-49a2fb268c1d"
      },
      "source": [
        "# Los primeros dos números son los extremos del intervalo, el tercero es la etiqueta\n",
        "Interv = [(1, 2, 0), (4,5, 1), (3,4, 2), (8,15,3), (0,5,4), (3,6,5)]\n",
        "\n",
        "#add discard\n",
        "Interv.sort()\n",
        "S = {Interv[0]}\n",
        "G = nx.Graph()\n",
        "to_erase = set()\n",
        "\n",
        "G.add_node(Interv[0][2])\n",
        "\n",
        "for i in range (1, len(Interv)):\n",
        "  G.add_node(Interv[i][2])\n",
        "  for R in S:\n",
        "    if(Interv[i][0] <= R[1]):\n",
        "      G.add_edge(Interv[i][2], R[2])\n",
        "    else:\n",
        "      to_erase.add(R)\n",
        "  for R in to_erase:\n",
        "    S.discard(R)\n",
        "  to_erase.clear()\n",
        "  S.add(Interv[i])\n",
        "\n",
        "nx.draw(G, with_labels=True, font_weight='bold', node_color='#71A125')\n"
      ],
      "execution_count": null,
      "outputs": [
        {
          "output_type": "display_data",
          "data": {
            "image/png": "[encoded data removed]",
            "text/plain": [
              "<Figure size 432x288 with 1 Axes>"
            ]
          },
          "metadata": {
            "tags": []
          }
        }
      ]
    },
    {
      "cell_type": "markdown",
      "metadata": {
        "id": "UMVgkOR2ewDY"
      },
      "source": [
        "**De gráfica a intervalos.** Esta pregunta es considerablemente más complicada. Nos dedicaremos a estudiar un teorema y algoritmo relacionados, sin realizar las implementaciones correspondientes. Para esto, daremos algunas definiciones antes de entrar en materia.\n",
        "\n",
        "*Orden parcial estricto.* Un orden parcial estricto sobre un conjunto $S$ es una relación binaria $\\rightarrow$ que satisface:\n",
        "*   $a\\rightarrow a$ no está definido. Es decir, $a$ no es comparable con $a$.\n",
        "*   Si $a \\rightarrow b$ entonces no pasa que $b \\rightarrow a$.\n",
        "*   Si $a\\rightarrow b$ y $b \\rightarrow c$, entonces $a\\rightarrow c$.\n",
        "\n",
        "*Transitividad en una gráfica.* Diremos que una gráfica posee orden transitivo si existe al menos una forma de darle dirección a sus aristas de modo que representen un orden parcial estricto.\n",
        "\n",
        "Algunos ejemplos de orden parcial estricto son:\n",
        "*   La relación $\"<\"$ (menor que)\n",
        "*   La relación $\\rightarrow$ sobre los enteros positivos dada por $a \\rightarrow b$ si $a \\neq b$ y $a$ divide a $b$.\n",
        "\n",
        "Con esto en mente, podemos asignarle un orden parcial estricto de la siguiente forma: si $[a, b], [c, d]$ son intervalos en el arreglo que no se intersectan, entonces $[a,b] \\rightarrow [c, d]$ si $a < c$. \n",
        "\n",
        "\n",
        "Diremos entonces que un orden parcial estricto sobre un conjunto $S = \\{s_1, s_2, \\dots, s_n\\}$ (en el futuro vamos a decirle copo por comodidad, por conjunto parcialmente ordenado) es un *orden de intervalos* si para cada $s_i \\in S$, existe un intervalo $[a_{s_i}, b_{s_i}]$, de modo que los intervalos asignados a los elementos de $S$ cumplan que su orden parcial asignado (el mencionado en el párrafo anterior) sea igual al copo con el que empezamos.\n",
        "\n",
        "\n",
        "*$\\underline{\\text{Teorema.}}$* Un copo $(S, \\rightarrow)$ es un orden de intervalos si y solo si se cumple que no existen elementos distintos $a_1, a_2, b_1, b_2 \\in S$ tales que:\n",
        "*   $a_1 \\rightarrow a_2$\n",
        "*   $b_1 \\rightarrow b_2$\n",
        "\n",
        "Y estas son las únicas relaciones que se dan entre los elementos $a_1, a_2, b_1, b_2$. Si existen $a_1, a_2, b_1, b_2$ tales que se cumple lo anterior, diremos que forman un cuarteto malo.\n",
        "\n",
        "No daremos la demostración de este teorema, a modo de hint, nota que si dos elementos no se relacionan es porque los intervalos asociados se intersectan, en particular para el regreso del si y solo si, considerar un elemento maximal del copo puede ser útil.\n",
        "\n",
        "\n",
        "Teniendo en cuenta el teorema anterior, dado un copo $C = (S, \\rightarrow)$ podemos determinar algortítmicamente si es un orden de intervalos o no. Para esto, vamos a hacer uso de dos definiciones: \n",
        "*   Sea $s \\in S$, se define el conjunto $D(s) = \\{t | \\; t \\in S, t \\rightarrow s\\}$.\n",
        "*   Sea $s \\in S$, se define el conjunto $U(s) = \\{t | \\; t \\in S, s \\rightarrow t\\}$.\n",
        "\n",
        "Notemos que si existen $s_1, s_2 \\in S$ tales que $D(s_1), D(s_2)$ no son comparablees por inclusión (es decir, ninguno es subconjunto del otro), entonces tendremos que existen $t_1 \\in D(s_1) - D(s_2), t_2 \\in D(s_2) - D(s_1)$, y entonces $t_1, s_1, t_2, s_2$ forman un cuarteto malo. De aquí, concluimos que si todos los conjuntos $D(s)$ con $s \\in S$ son comparables por inclusión, entonces $C$ es un orden de intervalos.\n",
        "<!-- \n",
        "$t_1 \\in D(s_1)-D(s_2) \\subset D(s_1) \\Rightarrow t_1 \\righarrow s_1$, análogamente, $t_2 \\rightarrow s_2$.\n",
        "\n",
        "Supongamos que $s_1 \\rightarrow s_2$, si tenemos $c \\rightaroow s_1$, por transitividad vamos a tener que $c \\rightarrow s_2$, entonces $D(s_1) \\subset D(s_2)$, contradicci\\'on.  -->\n",
        "\n",
        "\n",
        "\n",
        "\n",
        "\n",
        "\n",
        "¿Cómo encontrar intervalos que cumplan con el orden que indica $C$? Seguimos los siguientes pasos:\n",
        "\n",
        "1.   Ordenamos los conjuntos $D(s)$ con $s \\in S$ de menor a mayor (según la inclusión), y al $k$-ésimo conjunto le asignamos el entero $k$. \n",
        "2.   Hacemos lo mismo que en el paso 1, pero con los conjuntos $U(s)$ con $s \\in S$, y se ordenan de mayor a menor.\n",
        "3.   A cada $s \\in S$ le asignamos el intervalo $[a, b]$, donde $a$ es el valor asignado a $D(s)$, y $b$ el valor asignado a $U(s)$.\n",
        "\n"
      ]
    },
    {
      "cell_type": "markdown",
      "metadata": {
        "id": "Z2nVNE21yRHb"
      },
      "source": [
        "¿De qué nos sirve todo esto para determinar si una gráfica representa una gráfica de intervalos? \n",
        "\n",
        "Dada una gráfica $G$, consideremos su complemento $\\overline{G}$. Si $\\overline{G}$ no posee orden transitivo entonces $G$ no puede ser una gráfica de intervalos, pues si lo fuera, el copo inducido por los intervalos correspondientes inducirían un orden transitivo en el complemento de $G$. Si $\\overline{G}$ posee orden transitivo puede que $G$ sí sea una gráfica de intervalos.\n",
        "\n",
        "Si $\\overline{G}$ posee orden transitivo, sea $C$ el copo asociado al orden que determina $\\overline{G}$, y como vimos anteriormente, podemos determinar si $C$ es un orden de intervalos o no, en caso de que no lo sea, concluimos que $G$ no es gráfica de intervalos, y en caso de que sí sea orden de intervalos, el acomodo correspondiente a $C$, también es una representación de intervalos que nos dan a $G$ como la gráfica de intervalos asociada."
      ]
    },
    {
      "cell_type": "markdown",
      "metadata": {
        "id": "QBCOxwEaBtyY"
      },
      "source": [
        "Pueden consultar más al respecto en https://sites.gatech.edu/math3012openresources/lecture-videos/lecture-16/"
      ]
    },
    {
      "cell_type": "markdown",
      "metadata": {
        "id": "i1cEUvZ20gEK"
      },
      "source": [
        "**Ejercicios**\n",
        "\n",
        "1.   Dado un arreglo de rectángulos en $\\mathbb{R}^2$ con lados paralelos a los ejes. Crea su gráfica de intersecciones. Los cuadrados estarán dados por $((a_1, b_1), (a_2, b_2), c)$, donde $(a_1, b_1)$ es la esquina inferior izquierda, $(a_2, b_2)$ la esquina superior derecha, y $c$ la etiqueta del rectángulo correspondiente.\n",
        "\n",
        "2.   Muestra que una gráfica de intervalos no contiene ciclos irreducibles con más de $3$ vértices. (Un ciclo es irreducible en una gráfica si no existen ciclos en los subconjuntos propios de los vértices del ciclo inicial). "
      ]
    },
    {
      "cell_type": "markdown",
      "metadata": {
        "id": "zofxPNSQawSa"
      },
      "source": [
        "*Ejercicio 1.* Escribe aquí tu código (recuerda cómo se hizo para el caso de intervalos, te puede ser bastante útil)."
      ]
    },
    {
      "cell_type": "code",
      "metadata": {
        "id": "-P6__F78a5it"
      },
      "source": [
        "(Aquí va tu código)"
      ],
      "execution_count": null,
      "outputs": []
    },
    {
      "cell_type": "markdown",
      "metadata": {
        "id": "VjI8klxPa_LW"
      },
      "source": [
        "Comprueba tu código con el siguiente ejemplo: $[((0,1), (4, 5), 1), ((2, 1), (10, 15), 2), ((12, 5), (14, 8), 3), ((-2, -1), (0,0), 4), ((-4, -5), (1, 2), 5)]$"
      ]
    },
    {
      "cell_type": "markdown",
      "metadata": {
        "id": "mSl1E_Xcb48e"
      },
      "source": [
        "*Ejercicio 2.* Escribe aquí o sube una foto de tu demostración."
      ]
    }
  ]
}