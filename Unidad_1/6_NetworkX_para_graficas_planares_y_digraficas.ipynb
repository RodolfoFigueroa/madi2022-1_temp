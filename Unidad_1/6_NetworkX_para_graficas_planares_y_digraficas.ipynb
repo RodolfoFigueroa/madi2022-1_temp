{
  "nbformat": 4,
  "nbformat_minor": 0,
  "metadata": {
    "colab": {
      "name": "NetworkX para gráficas planares y digráficas.ipynb",
      "provenance": [],
      "collapsed_sections": [],
      "include_colab_link": true
    },
    "kernelspec": {
      "name": "python3",
      "display_name": "Python 3"
    }
  },
  "cells": [
    {
      "cell_type": "markdown",
      "metadata": {
        "id": "view-in-github",
        "colab_type": "text"
      },
      "source": [
        "<a href=\"https://colab.research.google.com/github/RodolfoFigueroa/madi2022-1/blob/main/6_NetworkX_para_graficas_planares_y_digraficas.ipynb\" target=\"_parent\"><img src=\"https://colab.research.google.com/assets/colab-badge.svg\" alt=\"Open In Colab\"/></a>"
      ]
    },
    {
      "cell_type": "code",
      "metadata": {
        "id": "2TUZkoNz6G8Y"
      },
      "source": [
        "import networkx as nx"
      ],
      "execution_count": null,
      "outputs": []
    },
    {
      "cell_type": "markdown",
      "metadata": {
        "id": "th2nvOFL40S9"
      },
      "source": [
        "En esta sesión veremos cómo trabajar aspectos de planaridad y gráficas dirigidas usando la librería NetworkX. Previamente ya habíamos visto algunos ejemplos con gráficas dirigidas, que recordaremos aquí también."
      ]
    },
    {
      "cell_type": "markdown",
      "metadata": {
        "id": "GHQpq3-D5K6H"
      },
      "source": [
        "**Gráficas dirigidas.** NetworkX nos permite dar dirección a las aristas, y también nos permite conocer características tales como el ingrado y el exgrado de cada vértice."
      ]
    },
    {
      "cell_type": "code",
      "metadata": {
        "id": "o4_viy8w6EjS",
        "colab": {
          "base_uri": "https://localhost:8080/",
          "height": 605
        },
        "outputId": "2088b385-9ff0-4300-880a-9f176bd687c9"
      },
      "source": [
        "DG = nx.DiGraph()\n",
        "\n",
        "DG.add_nodes_from(['a', 'b', 1, 2, 3, 4])\n",
        "DG.add_edges_from([(1, 2), ('c', 'b'), (4, 1), ('a', 2), ('a', 'b'), (1, 'a'), (2, 3)])\n",
        "\n",
        "print(\"Los vértices de la digráfica son : \", DG.nodes, '\\n')\n",
        "print(\"Las aristas de la digráfica son : \", DG.edges, '\\n')\n",
        "print(\"Lista de los ingrados por cada vértice:\", DG.in_degree, '\\n')\n",
        "print(\"Lista de los exgrados por cada vértice:\", DG.out_degree, '\\n')\n",
        "print(\"Ingrado de un vértice en particular:\", DG.in_degree[1], '\\n')\n",
        "print(\"Lista de vértices adyacentes a 1 :\", list(DG.successors(1)), '\\n')\n",
        "print(\"Lista de vértices adyacentes a 1, con atributos :\", DG.adj[1], '\\n')\n",
        "print(\"Lista de aristas que entran a 2 : \", DG.in_edges(2), '\\n')\n",
        "print(\"Lista de predecesores de 2 : \", list(DG.predecessors(2)))\n",
        "nx.draw(DG, with_labels=True, font_weight='bold', node_color='#71A125')"
      ],
      "execution_count": null,
      "outputs": [
        {
          "output_type": "stream",
          "text": [
            "Los vértices de la digráfica son :  ['a', 'b', 1, 2, 3, 4, 'c'] \n",
            "\n",
            "Las aristas de la digráfica son :  [('a', 2), ('a', 'b'), (1, 2), (1, 'a'), (2, 3), (4, 1), ('c', 'b')] \n",
            "\n",
            "Lista de los ingrados por cada vértice: [('a', 1), ('b', 2), (1, 1), (2, 2), (3, 1), (4, 0), ('c', 0)] \n",
            "\n",
            "Lista de los exgrados por cada vértice: [('a', 2), ('b', 0), (1, 2), (2, 1), (3, 0), (4, 1), ('c', 1)] \n",
            "\n",
            "Ingrado de un vértice en particular: 1 \n",
            "\n",
            "Lista de vértices adyacentes a 1 : [2, 'a'] \n",
            "\n",
            "Lista de vértices adyacentes a 1, con atributos : {2: {}, 'a': {}} \n",
            "\n",
            "Lista de aristas que entran a 2 :  [(1, 2), ('a', 2)] \n",
            "\n",
            "Lista de predecesores de 2 :  [1, 'a']\n"
          ],
          "name": "stdout"
        },
        {
          "output_type": "display_data",
          "data": {
            "image/png": "[encoded data removed]",
            "text/plain": [
              "<Figure size 432x288 with 1 Axes>"
            ]
          },
          "metadata": {
            "tags": []
          }
        }
      ]
    },
    {
      "cell_type": "markdown",
      "metadata": {
        "id": "EfGDHLWw6aTq"
      },
      "source": [
        "En particular, dados dos vértices $u, v$ podemos agregar tanto una arista que va de $u$ a $v$ como una que va de $v$ a $u$ : \n"
      ]
    },
    {
      "cell_type": "code",
      "metadata": {
        "id": "3yNK_05d6lFo",
        "colab": {
          "base_uri": "https://localhost:8080/",
          "height": 319
        },
        "outputId": "b4c83c46-b645-47d2-aa0c-79ac551a7189"
      },
      "source": [
        "D = nx.DiGraph()\n",
        "\n",
        "D.add_edge(1, 2)\n",
        "D.add_edge(2, 1)\n",
        "\n",
        "nx.draw(D, with_labels=True, font_weight='bold', node_color='#71A125')"
      ],
      "execution_count": null,
      "outputs": [
        {
          "output_type": "display_data",
          "data": {
            "image/png": "[encoded data removed]",
            "text/plain": [
              "<Figure size 432x288 with 1 Axes>"
            ]
          },
          "metadata": {
            "tags": []
          }
        }
      ]
    },
    {
      "cell_type": "markdown",
      "metadata": {
        "id": "s8-M1QClS4MB"
      },
      "source": [
        "**Gráficas planares.** NetworkX tiene funciones ya integradas que nos permiten tanto checar si la gráfica es aplanable o no, y también nos muestra un encaje de la gráfica en caso de que esta sea aplanable."
      ]
    },
    {
      "cell_type": "code",
      "metadata": {
        "id": "XHqbSDuOS2BE",
        "colab": {
          "base_uri": "https://localhost:8080/",
          "height": 353
        },
        "outputId": "0cb4f975-50ad-4d71-8f08-f25739b24658"
      },
      "source": [
        "a = 5\n",
        "b = 0.8\n",
        "PL = nx.gnp_random_graph(a, b)\n",
        "# nx.draw(PL, with_labels=True, font_weight='bold', node_color='#71A125')\n",
        "print(list(nx.check_planarity(PL)))\n",
        "\n",
        "if(nx.check_planarity(PL)[0]):\n",
        "  print(\"Aplanable\")\n",
        "  nx.draw_planar(PL, with_labels=True, font_weight='bold', node_color='#71A125')\n",
        "else:\n",
        "  print(\"No es aplanable\")\n",
        "  nx.draw(PL, with_labels=True, font_weight='bold', node_color='#71A125')"
      ],
      "execution_count": null,
      "outputs": [
        {
          "output_type": "stream",
          "text": [
            "[True, <networkx.algorithms.planarity.PlanarEmbedding object at 0x7f7b54aaac18>]\n",
            "Aplanable\n"
          ],
          "name": "stdout"
        },
        {
          "output_type": "display_data",
          "data": {
            "image/png": "[encoded data removed]",
            "text/plain": [
              "<Figure size 432x288 with 1 Axes>"
            ]
          },
          "metadata": {
            "tags": []
          }
        }
      ]
    },
    {
      "cell_type": "markdown",
      "metadata": {
        "id": "hbXhoQa5YBGy"
      },
      "source": [
        "**Ejercicios.** \n",
        "\n",
        "1.   Crea una gráfica dirigida que pueda ser representada como un polígono de $n$ lados, y que la gráfica sea un ciclo.\n",
        "2.   Crea una gráfica que represente un torneo de $n$ equipos (todos juegan contra todos, exactamente una vez), y que este sea transitivo, es decir, si $A$ le gana a $B$ y $B$ le gana a $C$, entonces $A$ le gana a $C$. En tu gráfica una arista debe ir de $A$ a $B$ si $A$ le gana a $B$.\n",
        "3.   (Reto, no obligatorio) Muestra que en un torneo transitivo siempre hay alguien que le gana a todos los demás. Da un ejemplo de un torneo no transitivo donde esto no se cumpla.\n",
        "\n"
      ]
    },
    {
      "cell_type": "markdown",
      "metadata": {
        "id": "h6S2PrSeZAfB"
      },
      "source": [
        "*Ejercicio 1.* En la siguiente celda escribe el código para la gráfica solicitada. (Recuerda que puedes apoyarte en los residuos módulo $n$ para construirla)."
      ]
    },
    {
      "cell_type": "code",
      "metadata": {
        "id": "2XdxToUyZTbn"
      },
      "source": [
        "(Aquí va tu código)"
      ],
      "execution_count": null,
      "outputs": []
    },
    {
      "cell_type": "markdown",
      "metadata": {
        "id": "CFqgmSQBZVTu"
      },
      "source": [
        "*Ejercicio 2.* En la siguiente celda escribe el código para la gráfica solicitada. (Trata de ver cómo contruir la gráfica a partir de un vértice que le haya ganado a todos)."
      ]
    },
    {
      "cell_type": "code",
      "metadata": {
        "id": "DjhURZdDZ_Xa"
      },
      "source": [
        "(Aquí va tu código)"
      ],
      "execution_count": null,
      "outputs": []
    },
    {
      "cell_type": "markdown",
      "metadata": {
        "id": "7yGa1EpRaDk0"
      },
      "source": [
        "*Ejercicio 3.* (Reto) Escribe o sube una foto en esta celda de tu prueba y el ejemplo solicitado."
      ]
    }
  ]
}