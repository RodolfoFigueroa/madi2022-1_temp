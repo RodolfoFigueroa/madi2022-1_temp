{
  "nbformat": 4,
  "nbformat_minor": 0,
  "metadata": {
    "colab": {
      "name": "Búsqueda binaria y más allá.ipynb",
      "provenance": [],
      "collapsed_sections": [],
      "include_colab_link": true
    },
    "kernelspec": {
      "name": "python3",
      "display_name": "Python 3"
    }
  },
  "cells": [
    {
      "cell_type": "markdown",
      "metadata": {
        "id": "view-in-github",
        "colab_type": "text"
      },
      "source": [
        "<a href=\"https://colab.research.google.com/github/RodolfoFigueroa/madi2022-1/blob/main/2_Busqueda_binaria_y_mas_alla.ipynb\" target=\"_parent\"><img src=\"https://colab.research.google.com/assets/colab-badge.svg\" alt=\"Open In Colab\"/></a>"
      ]
    },
    {
      "cell_type": "markdown",
      "metadata": {
        "id": "ZEP-Y6N37H50"
      },
      "source": [
        "En esta sesión profundizaremos un poco más en aplicaciones que tienen algoritmos basados en búsqueda binaria. También veremos algunos ejemplos más donde se utilizan ideas del estilo 'divide y vencerás'.\n"
      ]
    },
    {
      "cell_type": "markdown",
      "metadata": {
        "id": "xT0MXIpA7cu9"
      },
      "source": [
        "**Ejemplo 1.** Consideremos una lista $L$ de números enteros en orden estrictamente creciente. Nuestro objetivo será determinar si existen o no puntos fijos, es decir, si existen elementos tales que $i = L[i]$.\n",
        "\n",
        "Podemos utilizar búsqueda binaria para este problema, ya que si estamos parados en un índice $i$, tenemos tres posibilidades:\n",
        "\n",
        "*   $i = L[i]$, en cuyo caso hemos terminado.\n",
        "*   $i < L[i]$, dado que $L$ tiene puros enteros, y están en orden creciente, se tiene que para cualquier $j > i$, $j < L[j]$, por lo que nos queda restringirnos a los índices menores que $i$.\n",
        "*   $i > L[i]$ de manera análoga al caso anterior se tiene que podemos restringir nuestra búsqueda a los índices mayores que $i$.\n",
        "\n",
        "Veamos una implementación de este algoritmo.\n",
        "\n"
      ]
    },
    {
      "cell_type": "code",
      "metadata": {
        "id": "G6OjtMibE5s5",
        "colab": {
          "base_uri": "https://localhost:8080/"
        },
        "outputId": "dfaed938-e348-4344-d58a-bb722594be97"
      },
      "source": [
        "Lista = [-4, -1, 0, 1, 4, 6, 8]\n",
        "\n",
        "def fixed_point(L):\n",
        "  l = 0\n",
        "  r = len(L) - 1\n",
        "  while(l <= r):\n",
        "    m = (l+r)//2\n",
        "    if(m == L[m]):\n",
        "      return m\n",
        "    elif(m < L[m]):\n",
        "      r = m-1\n",
        "    elif(m > L[m]):\n",
        "      l = m+1\n",
        "  return False\n",
        "\n",
        "\n",
        "ans = fixed_point(Lista)\n",
        "if(ans):\n",
        "  print('El punto fijo está en el lugar:', ans)\n",
        "else:\n",
        "  print('No hay punto fijo')"
      ],
      "execution_count": null,
      "outputs": [
        {
          "output_type": "stream",
          "text": [
            "El punto fijo está en el lugar: 4\n"
          ],
          "name": "stdout"
        }
      ]
    },
    {
      "cell_type": "markdown",
      "metadata": {
        "id": "qtl9uhZhHVww"
      },
      "source": [
        "**Ejemplo 2.** Hasta ahora hemos visto ejemplos de búsqueda binaria en casos discretos, ¿se puede hacer búsqueda binaria en casos no discretos? Un ejemplo de esto es que podemos encontrar el valor de $\\sqrt{x}$ usando estas ideas, ya que se cumplen las propiedades para poder hacer este tipo de búsqueda:\n",
        "\n",
        "*   Si $a^2 < x$, entonces podemos restringir nuestra búsqueda a números mayores que $a$.\n",
        "*   Si $a^2 > x$, podemos restringir la búsqueda a números mayores que $a$.\n",
        "*   Si $a^2 = x$, hemos terminado.\n",
        "\n",
        "Antes de proceder a la implementación, debemos cosiderar dos cosas. La primera es que no podemos ser tan optimistas de encontrar el valor exacto de $\\sqrt{x}$, por lo que debemos definir un margen de error. La segunda es que primero debemos deifnir nuestro intervalo de búsqueda. ¿Es $[0,x]$ un buen intervalo para empezar nuestra búsqueda?\n",
        "\n",
        "Procedamos a la implementación.\n",
        "\n"
      ]
    },
    {
      "cell_type": "code",
      "metadata": {
        "id": "Nd3IbGOgLt7j",
        "colab": {
          "base_uri": "https://localhost:8080/"
        },
        "outputId": "d53ecefd-f387-4831-c0b3-15b5509b150c"
      },
      "source": [
        "error = 1e-5\n",
        "\n",
        "def sqrt(x, error):\n",
        "  if(x < 0):\n",
        "    print(\"El número no tiene raíz cuadrada en los reales\")\n",
        "  elif(x >= 1):\n",
        "    l = 1\n",
        "    r = x\n",
        "    while(l < r):\n",
        "      m = (l+r)/2\n",
        "      aux = m*m\n",
        "      if(abs(aux - x) < error):\n",
        "        return m\n",
        "      elif(aux > x):\n",
        "        r = m\n",
        "      elif(aux < x):\n",
        "        l = m\n",
        "    return l\n",
        "  elif(x < 1):\n",
        "    l = 0\n",
        "    r = 1\n",
        "    while(l < r):\n",
        "      m = (l+r)/2\n",
        "      aux = m*m\n",
        "      if(abs(aux - x) < error):\n",
        "        return m\n",
        "      elif(aux > x):\n",
        "        r = m\n",
        "      elif(aux < x):\n",
        "        l = m\n",
        "    return l\n",
        "\n",
        "\n",
        "print(sqrt(144, error))"
      ],
      "execution_count": null,
      "outputs": [
        {
          "output_type": "stream",
          "text": [
            "12.000000409781933\n"
          ],
          "name": "stdout"
        }
      ]
    },
    {
      "cell_type": "markdown",
      "metadata": {
        "id": "7cmTBlVpPRq2"
      },
      "source": [
        "**Ejemplo 3.** Aupongamos ahora que tenemos una lista (con al menos tres elementos) en forma de pico, es decir, que existe un elemento tal que todos los elementos antes de él estan en orden creciente, y todos los elementos posteriores están en orden decreciente. ¿Cómo encontrar el elemento más grande de $L$?\n",
        "\n",
        "Notemos que el elemento más grande es justamente el que está en el pico, y para encontrarlo podemos usar búsqueda binaria, considerando las siguientes observaciones. Si estamos parados en el $i-$ésimo elemento, se tienen tres casos:\n",
        "\n",
        "*   $L[i-1] < L[i] < L[i+1]$, en este caso, sabemos que el 'pico' se encuentra a la derecha de $i$.\n",
        "*   $L[i-1] > L[i] > L[i+1]$, en este caso, sabemos que el 'pico' se encuentra a la izquierda de $i$.\n",
        "*   $L[i-1] < L[i]$ y $L[i] > L[i+1]$, en este caso hemos encontrado el 'pico' de la lista, pues es el único elemento que cumple ambas desigualdades.\n",
        "\n",
        "Veamos la implementación de este algoritmo. Notemos que debemos tener cuidado con que $i$ sea algún valor de los extremos de la lista.\n",
        "\n"
      ]
    },
    {
      "cell_type": "code",
      "metadata": {
        "id": "gdp5pyCThy0W",
        "colab": {
          "base_uri": "https://localhost:8080/"
        },
        "outputId": "d3391254-911f-4034-f64d-01e020dfdade"
      },
      "source": [
        "Lista = [1, 2, 3, 4, 5, 6, 4, 2, 0]\n",
        "# Lista = [0, 1, 2, 3, 4, 5, 7, 9]\n",
        "\n",
        "def peak(L):\n",
        "  l = 0\n",
        "  r = len(L) - 1\n",
        "  while(l <= r):\n",
        "    m = (l+r)//2\n",
        "    if(m == 0):\n",
        "      if(L[0] < L[1]):\n",
        "        return 1\n",
        "      else:\n",
        "        return 0\n",
        "    elif(m == len(L) - 1):\n",
        "      if(L[m] > L[m-1]):\n",
        "        return m\n",
        "      else:\n",
        "        return m-1\n",
        "    else:\n",
        "      if(L[m-1] < L[m]):\n",
        "        if(L[m] < L[m+1]):\n",
        "          l = m+1\n",
        "        else:\n",
        "          return m\n",
        "      else:\n",
        "        r = m-1\n",
        "  return l\n",
        "\n",
        "idx = peak(Lista)\n",
        "print('El pico está en la posición', idx, 'y es', Lista[idx])"
      ],
      "execution_count": null,
      "outputs": [
        {
          "output_type": "stream",
          "text": [
            "El pico está en la posición 5 y es 6\n"
          ],
          "name": "stdout"
        }
      ]
    },
    {
      "cell_type": "markdown",
      "metadata": {
        "id": "jPbNU9CSj7JI"
      },
      "source": [
        "Notemos que lo pudimos haber resuelto con un tipo de 'counting sort', conservando en cada momento el mayor valor que hemos visto al recorrer la lista, sin embargo hacer esto tiene complejidad $O(n)$ en tiempo, mientras que con la búsqueda binaria se reduce a $O(log \\; n)$.\n",
        "\n",
        "En el espíritu del ejemplo anterior, ¿podemos pasar de este algoritmo a un ejemplo que no sea discreto? Es decir, supongamos que se tiene una función $f : [a,b] \\rightarrow \\mathbb{R}$ tal que existe $c \\in [a,b]$ que cumple que para cualesquiera $x < y \\in [a,c]$ se tiene $f(x) < f(y)$ mientras que para cualesquiera $x < y \\in [c, b]$ se tiene que $f(x) > f(y)$. ¿Podemos encontrar el valor de $c$ con búsqueda binaria?\n",
        "\n",
        "Después de analizar este problema un rato, podemos notar que la búsqueda binaria nos permite únicamente investigar por un elemento a la vez, lo que no es suficiente en nuestro caso, ¿qué pasa si en lugar de investigar por un único elemento, investigamos por dos? Es decir, en lugar de analizar el elemento de enmedio y con esto tomar una decisión, analizaremos los elementos que surgen de partir el intervalo en tres, y esto nos permitirá eliminar una de las terceras partes en las que se partió el intervalo.\n",
        "\n",
        "Para poder hacer todo esto, sean $m_1, m_2$ los puntos que dividen al intervalo $[l,r]$ en tres, hagamos algunas observaciones:\n",
        "\n",
        "*   Si $f(m_1) < f(m_2)$, se tiene que podemos descartar el intervalo $[l, m_1]$.\n",
        "\n",
        "*   Si $f(m_1) > f(m_2)$, se tiene que podemos descartar el intervalo $[m_2, r]$\n",
        "*   Si $f(m_1) = f(m_2)$, podemos descartar tanto el intervalo $[l, m_1]$ como $[m_2, r]$, ya que sabemos que el mayor estará enmedio.\n",
        "\n",
        "Veamos una implementación de este algoritmo. Encontraremos el máximo de la función $x^3 + 3x^2$ en el intervalo $[-3,0]$. Al igual que en el ejemplo anterior, tenemos que definir un intervalo de error, para definir la precisión de nuestro resultado.\n",
        "\n"
      ]
    },
    {
      "cell_type": "code",
      "metadata": {
        "id": "6B5Nuw60oiuk",
        "colab": {
          "base_uri": "https://localhost:8080/"
        },
        "outputId": "663f9f23-6379-4f56-ceab-5c91d39f7eda"
      },
      "source": [
        "error = 1e-5\n",
        "\n",
        "def peakC(l, r):\n",
        "  while(r - l >= error):\n",
        "    m1 = l + (r-l)/3\n",
        "    m2 = r - (r-l)/3\n",
        "    f1 = m1**3 + 3*(m1**2)\n",
        "    f2 = m2**3 + 3*(m2**2)\n",
        "    if(f1 < f2):\n",
        "      l = m1\n",
        "    elif(f1 > f2):\n",
        "      r = m2\n",
        "    elif(f1 == f2):\n",
        "      l = m1\n",
        "      r = m2\n",
        "  return (r+l)/2\n",
        "\n",
        "print(peakC(-3,0))\n",
        "  "
      ],
      "execution_count": null,
      "outputs": [
        {
          "output_type": "stream",
          "text": [
            "-2.00000002792882\n"
          ],
          "name": "stdout"
        }
      ]
    },
    {
      "cell_type": "markdown",
      "metadata": {
        "id": "xs9Qt2eeAP2p"
      },
      "source": [
        "**Ejemplo 4.** Dada una lista $L$ de números reales, encontrar la mayor suma posible de una sublista no vacía (con elementos contiguos).\n",
        "\n",
        "El problema se puede resolver de forma sencilla iterando sobre los posibles extremos de la lista, sin embargo, esto nos da una complejidad de al menos $O(n^2)$, ¿se puede mejorar?\n",
        "\n",
        "Consideremos dividir el problema de la siguiente forma: \n",
        "\n",
        "*   Sea $m$ la mitad de la longitud de la lista (que es $n$).\n",
        "*   Resolvemos el problema para la lista formada por $L[0], L[1], \\dots, L[m-1]$.\n",
        "*   Resolvemos el problema para la lista formada por $L[m+1], L[m+2], \\dots, L[n]$.\n",
        "*   Encontramos la lista de mayor suma que contiene al elemento $L[m]$ (lo cual se puede hacer en $O(n)$). Basta con encontrar la mayor suma por la derecha y la mayor suma por la izquierda para listas que contengan a $L[m]$.\n",
        "*   Devolvemos el mayor valor entontrado.\n",
        "\n",
        "Podemos notar que este algoritmo tiene una complejidad de $O(n \\; log n)$. Veamos su implementación.\n",
        "\n"
      ]
    },
    {
      "cell_type": "code",
      "metadata": {
        "colab": {
          "base_uri": "https://localhost:8080/"
        },
        "id": "x4-A_pTOVWdT",
        "outputId": "0ba290a5-af18-4b51-e5c7-ef709db0f8f3"
      },
      "source": [
        "L = [-2, -5, 6, -2, -3, 1, 5, -6]\n",
        "\n",
        "def max_sum(l, r):\n",
        "  if(l == r):\n",
        "    return L[l]\n",
        "  if(r - l == 1):\n",
        "    return max(L[l], L[r], L[r]+L[l])\n",
        "  m = (l+r)//2\n",
        "  m1 = max_sum(l, m-1)\n",
        "  m2 = max_sum(m+1, r)\n",
        "  sum_r = L[m]\n",
        "  sum_l = L[m]\n",
        "  max_r = L[m]\n",
        "  max_l = L[m]\n",
        "  idx = m+1\n",
        "  while(idx <= r):\n",
        "    sum_r += L[idx]\n",
        "    if(sum_r > max_r):\n",
        "      max_r = sum_r\n",
        "    idx += 1\n",
        "  idx = m-1\n",
        "  while(idx >= l):\n",
        "    sum_l += L[idx]\n",
        "    if(sum_l > max_l):\n",
        "      max_l = sum_l\n",
        "    idx -= 1\n",
        "  Mmax = max_r + max_l - L[m]\n",
        "  return max(Mmax, m1, m2)\n",
        "\n",
        "print(max_sum(0,len(L)-1))"
      ],
      "execution_count": null,
      "outputs": [
        {
          "output_type": "stream",
          "text": [
            "7\n"
          ],
          "name": "stdout"
        }
      ]
    },
    {
      "cell_type": "markdown",
      "metadata": {
        "id": "NlH2YcNySb1y"
      },
      "source": [
        "**Ejercicios**\n",
        "\n",
        "\n",
        "1.  Dada una lista de números reales $L$, describe e implementa un algoritmo con complejidad en tiempo menor a $O(n^2)$ que cuente el número de inversiones en la lista, es decir, que cuente cuántas parejas $(i,j)$ cumplen que $i < j$ pero $L[i] > L[j]$. (Hint: Merge sort). Muestra un ejemplo en una lista de tu elección.\n",
        "2.   Usando búsqueda ternaria, encuentra el menor valor de $x^3 - 4x^2$ en el intervalo $[0,4]$.\n",
        "\n"
      ]
    },
    {
      "cell_type": "markdown",
      "metadata": {
        "id": "E0B-afHQYt9Z"
      },
      "source": [
        "*Ejercicio 1.* Como hint, recuerda cómo funciona merge sort. Cuenta las inversiones en la primera mitad y en la segund mitad de la lista. Resta contar cuántas inversiones tienen un elemento en cada mitad, estas se pueden ir contando en el proceso de unión de las listas que se hace en el algoritmo de merge sort."
      ]
    },
    {
      "cell_type": "markdown",
      "metadata": {
        "id": "MMhUxcmMZEku"
      },
      "source": [
        "(Aquí va la descripción de tu algoritmo)"
      ]
    },
    {
      "cell_type": "code",
      "metadata": {
        "id": "Wzzsm2TiZMEn"
      },
      "source": [
        "# Aquí va el código del algoritmo que describiste anteriormente"
      ],
      "execution_count": null,
      "outputs": []
    },
    {
      "cell_type": "markdown",
      "metadata": {
        "id": "CZH7R2NqZYhk"
      },
      "source": [
        "*Ejercicio 2.* Escribe a continuación el código correspondiente."
      ]
    },
    {
      "cell_type": "code",
      "metadata": {
        "id": "ADDS3SgfZj6v"
      },
      "source": [
        "# Aquí va el código para la búsqueda ternaria solicitada"
      ],
      "execution_count": null,
      "outputs": []
    }
  ]
}