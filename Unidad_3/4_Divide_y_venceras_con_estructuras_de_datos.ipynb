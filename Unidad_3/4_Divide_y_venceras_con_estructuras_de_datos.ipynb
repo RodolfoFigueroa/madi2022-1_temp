{
  "nbformat": 4,
  "nbformat_minor": 0,
  "metadata": {
    "colab": {
      "name": "Divide y vencerás con estructuras de datos.ipynb",
      "provenance": [],
      "collapsed_sections": [],
      "include_colab_link": true
    },
    "kernelspec": {
      "name": "python3",
      "display_name": "Python 3"
    }
  },
  "cells": [
    {
      "cell_type": "markdown",
      "metadata": {
        "id": "view-in-github",
        "colab_type": "text"
      },
      "source": [
        "<a href=\"https://colab.research.google.com/github/RodolfoFigueroa/madi2022-1/blob/main/4_Divide_y_venceras_con_estructuras_de_datos.ipynb\" target=\"_parent\"><img src=\"https://colab.research.google.com/assets/colab-badge.svg\" alt=\"Open In Colab\"/></a>"
      ]
    },
    {
      "cell_type": "markdown",
      "metadata": {
        "id": "rJmUt3n2uYWJ"
      },
      "source": [
        "En esta sesión, veremos dos estructuras de datos que están muy ligadas a las ideas de los algoritmos de divide y vencerás, que suelen ser muy útiles para realizar operaciones que suelen requerirse bastante."
      ]
    },
    {
      "cell_type": "markdown",
      "metadata": {
        "id": "tKoBPnksvBZ9"
      },
      "source": [
        "**Trie.** Consideremos el siguiente problema. Dadas dos palabras, decimos que su \"similitud\" es el mayor número de letras iniciales en las que coinciden, es decir, es el tamaño del prefijo común más grande entre ambas palabras. Dado un conjunto de palabras $C$, ,y una nueva palabra, $s$, queremos saber la mayor similitud posible con alguna letra del conjunto. \n",
        "\n",
        "¿Cómo proceder? Una forma de hacerlo es haciendo una búsqueda exhaustiva, donde para cada palabra de $C$ la comparamos con la palabra $s$, y vamos verificando letra por letra los prefijos hasta que dejen de coincidir. Podemos acotar la complejidad en tiempo por $O(|C|\\cdot |s|)$. ¿Qué pasa si queremos repetir el proceso para una cantidad muy grande de palabras s?\n",
        "\n",
        "Otra forma de atacar el problema sería ordenar las palabras en orden alfabético, incluyendo a $s$, y posteriormente comparar a $s$ con las palabras vecinas en el ordenamiento (queda como ejercicio probar que en efecto uno de sus vecinos es la palabra que cumple tener mayor similitud con $s$). ¿Qué complejidad tiene esto?\n",
        "\n",
        "La forma que veremos introduce una estructura, que resulta ser muy poderosa para este tipo de problemas, es un árbol especial, que tiene por nombre *trie*. Un trie es un árbol donde cada nodo puede tener $26$ hijos (uno por cada letra del abecedario). De este modo, si una palabra tiene las letras \"xy\" de forma consecutiva, el respectivo nodo tendrá un hijo no nulo en la entrada correspondiente a \"y\". Veamos un ejemplo de esta estructura.\n",
        "\n",
        "Consideremos las palabras `[abcdef, abecede, hola, hoja, puedes, luz]`. El trie respectivo a este conjunto de palabras es el siguiente:\n",
        "\n",
        "\n",
        "       (Nodo raíz)\n",
        "      /   |   |  \\\n",
        "     a    h   p   l\n",
        "     |    |   \\    \\\n",
        "     b    o    u    u\n",
        "    / \\   | \\   \\    \\\n",
        "   c   e  l  j   e    z\n",
        "   |   |  |  |   |\n",
        "   d   c  a  a   d\n",
        "   |   |         |\n",
        "   e   e         e\n",
        "   |   |         |\n",
        "   f   d         s\n",
        "       |\n",
        "       e\n",
        "\n",
        "\n",
        "Esta estructura nos permite identificar de manera rápida y sencilla el mayor prefijo que coincide con cierta palabra. Veamos cómo implementar esta estructura y cómo usarla para nuestro problema."
      ]
    },
    {
      "cell_type": "code",
      "metadata": {
        "colab": {
          "base_uri": "https://localhost:8080/"
        },
        "id": "RzGPrHkciSf4",
        "outputId": "bd13c35c-2e8f-41a9-c4f6-49d8de4444bc"
      },
      "source": [
        "class TrieNode:\n",
        "  def __init__(self):\n",
        "    self.children = [None]*26\n",
        "\n",
        "def insert(root, word): # Inserta una nueva palabra en el Trie con raíz root\n",
        "  l = len(word)\n",
        "  curr = root\n",
        "  for i in range(0, l):\n",
        "    aux = ord(word[i]) - ord('a') # Recorremos los índices para empezar en 0\n",
        "    if not curr.children[aux]:\n",
        "      curr.children[aux] = TrieNode()\n",
        "    curr = curr.children[aux]\n",
        "    \n",
        "\n",
        "def prefix(root, word): # Nos permite encontrar el mayor prefijo de s en C\n",
        "  curr = root\n",
        "  cnt = 0\n",
        "  l = len(word)\n",
        "  for i in range(0,l):\n",
        "    aux = ord(word[i]) - ord('a')\n",
        "    if not curr.children[aux]:\n",
        "      return cnt\n",
        "    else:\n",
        "      curr = curr.children[aux]\n",
        "      cnt += 1\n",
        "  return cnt\n",
        "\n",
        "\n",
        "C = [\"abcdef\", \"abecede\", \"hola\", \"hoja\", \"puedes\", \"luz\"]\n",
        "Troot = TrieNode()\n",
        "for c in C:\n",
        "  insert(Troot, c)\n",
        "\n",
        "S = [\"abaco\", \"holandes\", \"paz\"]\n",
        "for s in S:\n",
        "  print(prefix(Troot, s))\n"
      ],
      "execution_count": null,
      "outputs": [
        {
          "output_type": "stream",
          "text": [
            "2\n",
            "4\n",
            "1\n"
          ],
          "name": "stdout"
        }
      ]
    },
    {
      "cell_type": "markdown",
      "metadata": {
        "id": "VnIw8OIU1-F0"
      },
      "source": [
        "**Segment tree.** Dada una lista $L$ de números reales ($|L| = n$), queremos saber la suma de los elementos en un intervalo dado, es decir $L[i] + L[i+1] + \\dots + L[j]$ para determinados $i \\leq j$. Además de esto, queremos poder actualizar nuestra lista $L$. Es decir, tenemos dos tipos de operaciones:\n",
        "\n",
        "*   Preguntar por la suma de los valores con índices en el intervalo $[i,j]$.\n",
        "*   Actualizar el valor de cierto elemento $L[i]$.\n",
        "\n",
        "Una forma sencilla de poder recuperar el valor de la suma en cierto intervalo es guardando una lista de sumas acumuladas, sin embargo, esto hace que las operaciones de actualización de elementos sean costosas.\n",
        "\n",
        "*Descomposición en raíz cuadrada*. ¿Qué pasa si dividimos la lista en sublistas de longitud $m$? (Veremos después qué $m$ nos conviene). Tendremos un total de $\\frac{n}{k}$ 'bloques', para cada bloque guardaremos el valor de la suma de sus elementos. ¿Qué tan costosas son las operaciones de actualización y preguntar por sumas? Notemos que para actualizar, únicamente debemos actualizar el valor del elemento, así como la suma correspondiente en el bloque de tamaño $k$, por lo que nos toma $O(1)$ cada actualización. Para calcular la suma de un intervalo dado, si tenemos que cierto bloque está completamente contenido en el intervalo, procedemos a considerar la suma previamente guardada (ya no accesamos a los elementos correspondientes), por lo que a lo más accederemos dentro de dos bloques, el extremo izquierdo y el extremo derecho. Como tenemos a lo más $\\frac{n}{k}$ bloques, y posteriormente tenemos que calcular las sumas para los bloques 'parcialmente' contenidos, esto nos toma $O(\\frac{n}{k} + k)$. \n",
        "\n",
        "Queremos entonces un valor de $k$ que minimice $\\frac{n}{k} + k$, utilizando $MA-MG$, obtenemos que $\\frac{n}{k} + k \\geq 2 \\sqrt{n}$, con igualdad si $k = \\sqrt{n}$. Es por esto que consideraremos bloques de tamaño $\\sqrt{n}$. \n",
        "\n",
        "Entonces, hemos logrado una forma de resolver el problema de modo que actualizar nos tome $O(1)$, mientras que preguntar por suma en determinado intervalo $O(\\sqrt{n})$.\n",
        "\n"
      ]
    },
    {
      "cell_type": "markdown",
      "metadata": {
        "id": "VZJhqh_UIXk7"
      },
      "source": [
        "*Segment tree.* Una forma de optimizar el tiempo de preguntar por un intervalo (que hará que actualizar sea más costoso, pero no mucho más), es utilizando un árbol binario, donde el nodo padre tiene el valor de la suma de sus nodos hijos, así como dos enteros asociados, el extremo izquierdo y el extremo derecho del intervalo que abarca. Y donde los nodos que son hojas corresponden a la lista original $L$.\n",
        "\n",
        "De este modo, logramos que preguntar por la suma en un intervalo $[l,r]$ sea $O(logn)$, mientras que actualizar también nos tomará $O(logn)$, ya que esta es la altura de nuestro árbol.\n",
        "\n",
        "Veamos una implementación de esta estructura y un ejemplo de su uso."
      ]
    },
    {
      "cell_type": "code",
      "metadata": {
        "colab": {
          "base_uri": "https://localhost:8080/"
        },
        "id": "49hIhauoJMna",
        "outputId": "20694821-71e0-48bb-e598-2fdb307572ee"
      },
      "source": [
        "import random\n",
        "\n",
        "L = [random.randrange(0, 10, 1) for i in range(36)]\n",
        "\n",
        "class SegNode():\n",
        "  def __init__(self):\n",
        "    self.value = 0 # 0 será nuestro valor por default\n",
        "    self.left = None\n",
        "    self.right = None\n",
        "    self.start = 0\n",
        "    self.end = 0\n",
        "\n",
        "def build(l, r): # Construye el segment tree con extremos l y r\n",
        "  if(l > r):\n",
        "    return None\n",
        "  new = SegNode()\n",
        "  new.start = l\n",
        "  new.end = r\n",
        "  if(l == r):\n",
        "    new.value = L[l]\n",
        "  else:\n",
        "    m = (l+r)//2\n",
        "    new.left = build(l,m)\n",
        "    new.right = build(m+1, r)\n",
        "    if(not new.left == None):\n",
        "      new.value += new.left.value\n",
        "    if(not new.right == None):\n",
        "      new.value += new.right.value\n",
        "  return new\n",
        "\n",
        "def query(root, l, r): # Función que nos permite preguntar por la suma en el intervalo l,r\n",
        "  if(root is None):\n",
        "    return 0\n",
        "  if(l <= root.start and root.end <= r):\n",
        "    return root.value\n",
        "  if(root.end < l):\n",
        "    return 0\n",
        "  if(r < root.start):\n",
        "    return 0\n",
        "  return query(root.left, l, r) + query(root.right, l, r)\n",
        "\n",
        "def update(root, i, val): # Función que nos permite poner el valor val en la posición i\n",
        "  L[i] = val\n",
        "  if(root is None):\n",
        "    return 0\n",
        "  if(root.end < i or i < root.start): # Si i no está en el intervalo dado\n",
        "    return root.value\n",
        "  if(root.end == root.start and root.start == i):\n",
        "    root.value = val\n",
        "  else:\n",
        "    root.value = update(root.left, i, val) + update(root.right, i, val)\n",
        "  return root.value\n",
        "\n",
        "print(L)\n",
        "Stree = build(0, len(L)-1)\n",
        "print(query(Stree, 0, 35))\n",
        "print(query(Stree, 2, 4))\n",
        "update(Stree, 2, 5)\n",
        "print(L)\n",
        "print(query(Stree, 2, 4))\n",
        "print(query(Stree, 10, 20))\n",
        "update(Stree, 15, 4)\n",
        "print(L)\n",
        "print(query(Stree, 10, 20))\n",
        "print(query(Stree, 0, 35))"
      ],
      "execution_count": null,
      "outputs": [
        {
          "output_type": "stream",
          "text": [
            "[1, 0, 6, 5, 4, 7, 6, 2, 1, 2, 7, 2, 1, 3, 5, 7, 5, 2, 0, 9, 4, 4, 6, 3, 8, 5, 7, 4, 3, 0, 1, 4, 1, 2, 6, 5]\n",
            "138\n",
            "15\n",
            "[1, 0, 5, 5, 4, 7, 6, 2, 1, 2, 7, 2, 1, 3, 5, 7, 5, 2, 0, 9, 4, 4, 6, 3, 8, 5, 7, 4, 3, 0, 1, 4, 1, 2, 6, 5]\n",
            "14\n",
            "45\n",
            "[1, 0, 5, 5, 4, 7, 6, 2, 1, 2, 7, 2, 1, 3, 5, 4, 5, 2, 0, 9, 4, 4, 6, 3, 8, 5, 7, 4, 3, 0, 1, 4, 1, 2, 6, 5]\n",
            "42\n",
            "134\n"
          ],
          "name": "stdout"
        }
      ]
    },
    {
      "cell_type": "markdown",
      "metadata": {
        "id": "h-A7SOEN0jXq"
      },
      "source": [
        "**Ejercicios.** \n",
        "\n",
        "1.   Utilizando la estructura de Trie, dado un conjunto de palabras $C$, determina si una palabra $s$ está o no en el conjunto $C$. Prueba tu código con $C = \\{ola, hola, noche, diez, no, ciencia, camaron\\}$ y las palabras $cama, hola, nop, cien, diez$. (Hint: Agrega a la estructura un valor que nos permita identificar si cierto nodo corresponde al final de una palabra o no).\n",
        "2.   Utilizando descomposición en raíz cuadrada. Implementa un algoritmo que permita actualizar elementos y consultar sumas en determinados intervalos para una lista de $36$ elementos. Compara los resultados de las consultas con el resultado que se obtiene al usar un segment tree.\n",
        "\n"
      ]
    },
    {
      "cell_type": "markdown",
      "metadata": {
        "id": "INCF5_KTOVWn"
      },
      "source": [
        "*Ejercicio 1.* Escribe a continuación el código solicitado"
      ]
    },
    {
      "cell_type": "code",
      "metadata": {
        "id": "D4V0HIusOeQR"
      },
      "source": [
        "# Aquí va el código del ejercicio 1"
      ],
      "execution_count": null,
      "outputs": []
    },
    {
      "cell_type": "markdown",
      "metadata": {
        "id": "N75v66fgOha-"
      },
      "source": [
        "*Ejercicio 2.* Escribe a continuación el código solicitado."
      ]
    },
    {
      "cell_type": "code",
      "metadata": {
        "id": "pP2raoDrOuN5"
      },
      "source": [
        "# Aquí va el código del ejercicio 1"
      ],
      "execution_count": null,
      "outputs": []
    }
  ]
}