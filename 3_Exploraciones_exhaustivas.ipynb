{
  "nbformat": 4,
  "nbformat_minor": 0,
  "metadata": {
    "colab": {
      "name": "Exploraciones exhaustivas.ipynb",
      "provenance": [],
      "collapsed_sections": [],
      "include_colab_link": true
    },
    "kernelspec": {
      "name": "python3",
      "display_name": "Python 3"
    }
  },
  "cells": [
    {
      "cell_type": "markdown",
      "metadata": {
        "id": "view-in-github",
        "colab_type": "text"
      },
      "source": [
        "<a href=\"https://colab.research.google.com/github/RodolfoFigueroa/madi2022-1/blob/main/3_Exploraciones_exhaustivas.ipynb\" target=\"_parent\"><img src=\"https://colab.research.google.com/assets/colab-badge.svg\" alt=\"Open In Colab\"/></a>"
      ]
    },
    {
      "cell_type": "markdown",
      "metadata": {
        "id": "zxKs5VLdgNbv"
      },
      "source": [
        "En esta práctica veremos varios ejemplos de exploraciones exhaustivas, es decir, ir encontrando en el espacio de búsqueda elementos que cumplen ciertas características deseadas, una forma común de hacer esto es utilizando la técnica de backtracking (o vuelta hacia atrás), en donde se van buscando elementos con determinadas características en cada paso."
      ]
    },
    {
      "cell_type": "markdown",
      "metadata": {
        "id": "CkeUcRxK2RqK"
      },
      "source": [
        "**Ejemplo 1.** Recordando un poco el ejemplo que vimos anteriormente sobre monedas y sus denominaciones, consideremos una lista $L$ de denominaciones posibles para nuestras monedas, y nuestro problema ahora será determinar de cuántas formas se puede formar el número $n$ utilizando dichas denominaciones (suponiendo que tenemos tantas monedas de cada denominación como sea necesario).\n",
        "\n",
        "Dada la lista $L$, podemos hacer backtracking del siguiente modo:\n",
        "\n",
        "*   Iteramos sobre los elementos de la lista, y definimos una función `count(i,k)` que nos dice de cuántas formas podemos sumar a $k$ con denominaciones $L[i], L[i+1], \\dots$.\n",
        "*   Podemos calcular el valor de `count(i,k)` de manera recursiva del siguiente modo:\n",
        "  *   Si $L[i] > k$ entonces `count(i,k) = count(i+1, k)`.\n",
        "  *   Si $L[i] \\leq k$, entonces `count(i,k) = count(i+1, k) + count(i, k-L[i])`.\n",
        "\n",
        "Veamos una implementación de este algoritmo.\n",
        " \n"
      ]
    },
    {
      "cell_type": "code",
      "metadata": {
        "colab": {
          "base_uri": "https://localhost:8080/"
        },
        "id": "JeIdMxC74fJb",
        "outputId": "38db70e0-5539-42e1-fdaf-b149dc5c28d5"
      },
      "source": [
        "L = [2, 8, 4, 6]\n",
        "\n",
        "def count(i,k):\n",
        "  if(i >= len(L)):\n",
        "    return 0\n",
        "  if(k == 0):\n",
        "    return 1\n",
        "  if(L[i] > k):\n",
        "    return count(i+1, k)\n",
        "  else:\n",
        "    return count(i, k-L[i]) + count(i+1, k)\n",
        "  \n",
        "print(count(0,8))\n",
        "print(count(0,9))"
      ],
      "execution_count": null,
      "outputs": [
        {
          "output_type": "stream",
          "text": [
            "5\n",
            "0\n"
          ],
          "name": "stdout"
        }
      ]
    },
    {
      "cell_type": "markdown",
      "metadata": {
        "id": "IEyy16fDDL6t"
      },
      "source": [
        "**Ejemplo 2.** Dado un entero $n$, determina todos los arreglos de $2n$ números, tales que cada uno de los enteros $\\{1, 2, \\dots, n\\}$ aparece exactamente dos veces, y si $L[i] = L[j] = m$, entonces $|i-j| = m + 1$.\n",
        "\n",
        "Podemos ir creando un arreglo inicializado con puros $-1$, e irlo llenando con elementos, en orden de menor a mayor. Si llegamos a que se puede colocar el elemento $n$, hemos llegado a un arreglo que cumple lo deseado."
      ]
    },
    {
      "cell_type": "code",
      "metadata": {
        "id": "3m-YL6r0JOf5"
      },
      "source": [
        "n = 3\n",
        "L = [-1]*(2*n+2)\n",
        "\n",
        "def dif_arr(curr): # curr explora dónde podemos colocar el elemento curr\n",
        "  if(curr > n):\n",
        "    print(L)\n",
        "  for i in range(0, 2*n):\n",
        "    if(i+curr+1 < 2*n):\n",
        "      if(L[i] == -1 and L[i+curr+1] == -1):\n",
        "        L[i] = curr\n",
        "        L[i+curr+1] = curr\n",
        "        dif_arr(curr+1)\n",
        "        L[i] = -1\n",
        "        L[i+curr+1] = -1\n",
        "\n",
        "dif_arr(0)"
      ],
      "execution_count": null,
      "outputs": []
    },
    {
      "cell_type": "markdown",
      "metadata": {
        "id": "kDx74yIJg9mm"
      },
      "source": [
        "**Ejemplo 3.** *El problema de las $8$ reinas.* Un famoso problema algorítmico es que dado un tablero de ajedrez (de $8 \\times 8$), se determine cuántas formas hay de colocar $8$ reinas en el tablero de tal manera que no haya dos que se ataquen entre sí. Este es un ejemplo clásico de la técnica de backtracking, resolveremos el problema para un tablero de $n\\times n$ con $n$ reinas.\n",
        "\n",
        "La forma en la que procederemos será la siguiente. Comenzaremos a recorrer el tablero en orden creciente según las coordenadas de las casillas (primero respecto a filas y después respecto a columnas), en caso de que en la casilla $(x,y)$ se pueda poner una reina sin ser atacada por las puestas previamente, analizamos la posibilidad de tener una reina en dicha casilla, y también se analiza si no ponemos una reina en dicha casilla.\n",
        "\n",
        "Como función auxiliar, debemos verificar si es posible o no poner una reina en determinada casilla del tablero."
      ]
    },
    {
      "cell_type": "code",
      "metadata": {
        "colab": {
          "base_uri": "https://localhost:8080/"
        },
        "id": "T-hXUuEPpKq3",
        "outputId": "733d2531-aa3f-4481-8a00-94ab8583c994"
      },
      "source": [
        "n = 9\n",
        "\n",
        "board = [[0 for x in range(n)] for y in range(n)] \n",
        "\n",
        "# Función que nos dirá si es seguro o no poner una reina en determinada casilla\n",
        "def is_save(x,y): \n",
        "  # Checa si hay en la misma columna\n",
        "  for i in range(0,n):\n",
        "    if(board[x][i]):\n",
        "      return False\n",
        "  # Checa si hay en la misma fila\n",
        "  for i in range(0,n):\n",
        "    if(board[i][y]):\n",
        "      return False\n",
        "  # Checa si hay en la diagonal izquierda superior\n",
        "  for i,j in zip(range(x, -1, -1), range(y, n, 1)):\n",
        "    if(board[i][j]):\n",
        "      return False\n",
        "  # Checa si hay en la diagonal izquierda inferior\n",
        "  for i,j in zip(range(x, -1, -1), range(y, -1, -1)):\n",
        "    if(board[i][j]):\n",
        "      return False\n",
        "  return True\n",
        "\n",
        "# Función que va generando tableros según si se pone una reina o no en la casilla (x,y) y suma 1 si encuentra alguno que cumple\n",
        "cnt = 0\n",
        "total_queens = 0\n",
        "\n",
        "def n_queens(x,y):\n",
        "  # print(x,y)\n",
        "  global cnt\n",
        "  global total_queens\n",
        "  # if(total_queens == n):\n",
        "  #   cnt += 1\n",
        "  #   return\n",
        "  if(y == n): # Se llega al final de la columna, se comienza a explorar en la siguiente\n",
        "    n_queens(x+1, 0)\n",
        "  elif(x == n):\n",
        "    if(total_queens == n):\n",
        "      cnt += 1\n",
        "  else: # x < n pues de este modo seguimos en el tablero\n",
        "    if(total_queens < n and is_save(x,y)):\n",
        "      board[x][y] = 1 # Exploramos si (x,y) tiene una reina\n",
        "      total_queens += 1\n",
        "      n_queens(x, y+1) \n",
        "      board[x][y] = 0 # Regresamos a que (x,y) no tenga reina\n",
        "      total_queens -= 1\n",
        "    n_queens(x, y+1) # Exploramos si (x,y) no tiene reina\n",
        "\n",
        "n_queens(0,0)\n",
        "print(cnt)\n",
        "    "
      ],
      "execution_count": null,
      "outputs": [
        {
          "output_type": "stream",
          "text": [
            "352\n"
          ],
          "name": "stdout"
        }
      ]
    },
    {
      "cell_type": "markdown",
      "metadata": {
        "id": "6LT-dBXrMKSd"
      },
      "source": [
        "**Ejercicios.**\n",
        "\n",
        "1.   Dado un conjunto de palabras y una string, describe e implementa un algoritmo que permita contar cuántas oraciones diferentes puede formar la string en cuestión suponiendo que las únicas palabras que existen son las del conjunto inicial. Por ejemplo, si el conjunto de palabras es $\\{hola, ola, h\\}$, la string \"holah\" tiene dos posibles interpretaciones, una es \"hola h\", y la segunda \"h ola h\". Verifica tu algoritmo con: \n",
        "\n",
        "*   Conjunto de palabras `{a, as, tin, tinar, san, sana, atina, arce, ce, atinar}`, y la string \"atinarcesanas\".\n",
        "*   Conjunto de palabras `{i, like, ice, and, cream, icecream, man, go, mango}` y la string \"ilikeicecreamandmango\".\n",
        "\n",
        "2.   Supón que ahora en el ejemplo 1 no se tienen tantas monedas como se deseen. Es decir, se tiene una lista $L$ de denominaciones posibles, y un entero $k$ que nos indica que tenemos exactamente $k$ monedas de cada denominación posible. Describe e implementa un algoritmo que permita contar de cuántas formas se puede formar un entero $n$ con monedas de las denominaciones dadas, y usando a lo más $k$ monedas de cada denominación.\n",
        "\n"
      ]
    },
    {
      "cell_type": "markdown",
      "metadata": {
        "id": "XUxoUl52O785"
      },
      "source": [
        "*Ejercicio 1.* Aquí va la descripción de tu algoritmo."
      ]
    },
    {
      "cell_type": "code",
      "metadata": {
        "id": "gl-NLhL_PCR8"
      },
      "source": [
        "# Aquí va el código del algoritmo anterior"
      ],
      "execution_count": null,
      "outputs": []
    },
    {
      "cell_type": "markdown",
      "metadata": {
        "id": "n4yGil8IPIo4"
      },
      "source": [
        "*Ejercicio 2.* Aquí va la descripción de tu algoritmo."
      ]
    },
    {
      "cell_type": "code",
      "metadata": {
        "id": "UwH4k3ToPH1J"
      },
      "source": [
        "# Aquí va el código del algoritmo anterior"
      ],
      "execution_count": null,
      "outputs": []
    }
  ]
}