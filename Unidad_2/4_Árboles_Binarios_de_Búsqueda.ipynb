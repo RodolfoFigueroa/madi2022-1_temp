{
  "nbformat": 4,
  "nbformat_minor": 0,
  "metadata": {
    "colab": {
      "name": "Árboles Binarios de Búsqueda.ipynb",
      "provenance": [],
      "collapsed_sections": [],
      "include_colab_link": true
    },
    "kernelspec": {
      "name": "python3",
      "display_name": "Python 3"
    }
  },
  "cells": [
    {
      "cell_type": "markdown",
      "metadata": {
        "id": "view-in-github",
        "colab_type": "text"
      },
      "source": [
        "<a href=\"https://colab.research.google.com/github/RodolfoFigueroa/madi2022-1/blob/main/4_%C3%81rboles_Binarios_de_B%C3%BAsqueda.ipynb\" target=\"_parent\"><img src=\"https://colab.research.google.com/assets/colab-badge.svg\" alt=\"Open In Colab\"/></a>"
      ]
    },
    {
      "cell_type": "markdown",
      "metadata": {
        "id": "wY45CICJXqRW"
      },
      "source": [
        "En esta sesión veremos algunas operaciones y algoritmos que se pueden hacer en un árbol binario de búsqueda (BST por sus siglas en inglés), por ejemplo buscar e insertar elementos, así como construir un BST a partir de una lista de números dada."
      ]
    },
    {
      "cell_type": "markdown",
      "metadata": {
        "id": "0aU3GD13Yrrw"
      },
      "source": [
        "Para trabajar con un BST, lo primero que debemos hacer es definir la estructura de nuestros nodos en el árbol, donde cada nodo tiene un valor asignado, y dos apuntadores, uno para su hijo izquierdo y otro para su hijo derecho."
      ]
    },
    {
      "cell_type": "code",
      "metadata": {
        "id": "uq08iW4oZG2c"
      },
      "source": [
        "class node:\n",
        "  def __init__(self, value):\n",
        "    self.value = value\n",
        "    self.left = None\n",
        "    self.right = None"
      ],
      "execution_count": null,
      "outputs": []
    },
    {
      "cell_type": "markdown",
      "metadata": {
        "id": "3SLk58FxZaSv"
      },
      "source": [
        "Veamos las primeras dos operaciones básicas en un BST: buscar elementos, e insertar elementos. Para buscar elementos en un BST, procedemos de una forma muy similar a como se hace una búsqueda binaria: si estamos buscando el valor $x$ y estamos en el nodo $N$, preguntamos si $N.value$ es mayor, menor o igual que $x$, en caso de ser igual hemos terminado, en otro caso, la desigualdad nos indica a qué parte del árbol movernos. Si en algún momento llegamos a un valor nulo,  es porque $x$ no pertenece a las llaves del árbol.\n",
        "\n",
        "\n",
        "La búsqueda que implementaremos nos regresará $False$ en caso de que $x$ no esté en el árbol, y en caso de que sí esté, nos devolverá el nodo que tiene a $x$ como valor."
      ]
    },
    {
      "cell_type": "code",
      "metadata": {
        "id": "VwDWOY5QbBlF",
        "colab": {
          "base_uri": "https://localhost:8080/"
        },
        "outputId": "4e2fea25-5847-4e69-c887-42da47e2ebc5"
      },
      "source": [
        "def find(root, x):\n",
        "  if(root):\n",
        "    if(root.value == x):\n",
        "      return root\n",
        "    elif(root.value < x):\n",
        "      return find(root.right, x)\n",
        "    elif(root.value > x):\n",
        "      return find(root.left, x)\n",
        "  else:\n",
        "    return False\n",
        "\n",
        "# Veamos un ejemplo\n",
        "\n",
        "n1 = node(7)\n",
        "n2 = node(4)\n",
        "n3 = node(2)\n",
        "n4 = node(14)\n",
        "n5 = node(8)\n",
        "n6 = node(20)\n",
        "\n",
        "n1.left = n2\n",
        "n2.left = n3\n",
        "n1.right = n4\n",
        "n4.left = n5\n",
        "n4.right = n6\n",
        "\n",
        "search = find(n1, 20)\n",
        "if(search):\n",
        "  print('El valor', search.value, 'sí está')\n",
        "else:\n",
        "  print('No se encuentra el valor buscado')"
      ],
      "execution_count": null,
      "outputs": [
        {
          "output_type": "stream",
          "text": [
            "El valor 20 sí está\n"
          ],
          "name": "stdout"
        }
      ]
    },
    {
      "cell_type": "markdown",
      "metadata": {
        "id": "PtCQv9A3cjd4"
      },
      "source": [
        "Dado un BST, ¿cómo agregar un nuevo valor? (en caso de que dicho valor no se encuentre en el BST previamente). Notemos que hay una única posición en la que un nuevo valor puede ser agregado, y la implementación de búsqueda nos será de gran utilidad, ya que si un valor no se encuentra es porque llegamos a un nodo nulo, en donde justamente se debe agregar el nuevo valor."
      ]
    },
    {
      "cell_type": "code",
      "metadata": {
        "id": "UsXWzSmQdAuf",
        "colab": {
          "base_uri": "https://localhost:8080/"
        },
        "outputId": "4326b865-e33e-46b5-f9f5-ddd39e18c0e8"
      },
      "source": [
        "def insert(root, x):\n",
        "  if(root):\n",
        "    if(root.value < x):\n",
        "      root.right = insert(root.right, x)\n",
        "    else:\n",
        "      root.left = insert(root.left, x)\n",
        "    return root\n",
        "  else:\n",
        "    return node(x)\n",
        "\n",
        "# Veamos un ejemplo\n",
        "\n",
        "L = [4, 1, 5, 3, 7, 10, 6]\n",
        "\n",
        "r = None\n",
        "\n",
        "for l in L:\n",
        "  r = insert(r, l)\n",
        "\n",
        "print(r.right.right.left.value)"
      ],
      "execution_count": null,
      "outputs": [
        {
          "output_type": "stream",
          "text": [
            "6\n"
          ],
          "name": "stdout"
        }
      ]
    },
    {
      "cell_type": "markdown",
      "metadata": {
        "id": "mflTMTnfeFjN"
      },
      "source": [
        "Podemos entonces hacer una función unificada, es decir, que inserte un elemento a nuestro BST en caso de que dicho elemento no se encontrara previamente en el árbol (ejercicio)."
      ]
    },
    {
      "cell_type": "markdown",
      "metadata": {
        "id": "xAo2PnbplvHU"
      },
      "source": [
        "Veremos ahora dos de las formas más comunes de recorrer un BST: in-order y pre-order traversal. In-order traversal nos permite rescatar la lista de números de manera ordenada, visita primero todo lo que hay a la izquierda de la raíz, después la raíz y posteriormente el hijo derecho, haciendo esto de manera recursiva. Esto nos será muy útil para después poder eliminar elementos en un árbol binario de búsqueda. Veamos un ejemplo de un in-order traversal en un árbol de este tipo."
      ]
    },
    {
      "cell_type": "code",
      "metadata": {
        "id": "V1JkuiDrmY-s",
        "colab": {
          "base_uri": "https://localhost:8080/"
        },
        "outputId": "96ceb005-420b-4500-efee-5c6a0e2812e8"
      },
      "source": [
        "def in_order(root):\n",
        "  if(root):\n",
        "    in_order(root.left)\n",
        "    print(root.value)\n",
        "    in_order(root.right)\n",
        "  else:\n",
        "    return\n",
        "\n",
        "in_order(r)"
      ],
      "execution_count": null,
      "outputs": [
        {
          "output_type": "stream",
          "text": [
            "1\n",
            "3\n",
            "4\n",
            "5\n",
            "6\n",
            "7\n",
            "10\n"
          ],
          "name": "stdout"
        }
      ]
    },
    {
      "cell_type": "markdown",
      "metadata": {
        "id": "VlxWH1BkmzLf"
      },
      "source": [
        "Notemos que con este tipo de ideas podemos encontrar el mínimo valor y el máximo valor en un árbol binario de búsqueda.\n",
        "\n",
        "Ahora veamos cómo hacer un preorder traversal en un BST. Un pre-order traversal consiste en visitar el nodo actual, después lo que hay en su hijo izquierdo y después en su hijo derecho. Podemos notar que es un recorrido particular de un recorrido de DFS en un árbol."
      ]
    },
    {
      "cell_type": "code",
      "metadata": {
        "id": "WDcHJeRinEYW",
        "colab": {
          "base_uri": "https://localhost:8080/"
        },
        "outputId": "e8f09047-be3f-4b83-b221-c98b425ddb78"
      },
      "source": [
        "def pre_order(root):\n",
        "  if(root):\n",
        "    print(root.value)\n",
        "    pre_order(root.left)\n",
        "    pre_order(root.right)\n",
        "  else:\n",
        "    return\n",
        "\n",
        "pre_order(r)"
      ],
      "execution_count": null,
      "outputs": [
        {
          "output_type": "stream",
          "text": [
            "4\n",
            "1\n",
            "3\n",
            "5\n",
            "7\n",
            "6\n",
            "10\n"
          ],
          "name": "stdout"
        }
      ]
    },
    {
      "cell_type": "markdown",
      "metadata": {
        "id": "JF8fyB0-pvrO"
      },
      "source": [
        "Veamos ahora cómo eliminar un nodo $N$ de un BST. Notemos que hay tres casos posibles:\n",
        "\n",
        "\n",
        "*   Si $N$ no tiene hijos, es suficiente con eliminar dicho nodo.\n",
        "*   Si $N$ tiene únicamente un hijo, reemplazamos el nodo $N$ por su hijo.\n",
        "*   Si $N$ tiene dos hijos, tenemos que reacomodar de una manera más sofisticada los nodos para que siga siendo un BST. Esto podemos hacerlo encontrando primero el sucesor de $N$ en el in-order traversal, y después sustituir el valor del nodo $N$ con el de su sucesor, y posteriormente borrar el nodo del sucesor, esto último se puede hacer sin problemas pues el sucesor de un nodo con dos hijos es necesariamente una hoja, ya que es el valor mínimo en el subárbol con raíz en su hijo derecho.\n",
        "\n",
        "Para hacer esto, necesitaremos una función que nos permita encontrar el valor mínimo en un sub árbol a partir de cierto nodo. \n",
        "\n",
        "Implementaremos esto de modo que si pedimos eliminar un valor que no existe, el BST no se vea modificado y no haya problemas.\n",
        "\n"
      ]
    },
    {
      "cell_type": "code",
      "metadata": {
        "id": "IKSfTTRTsEi9",
        "colab": {
          "base_uri": "https://localhost:8080/"
        },
        "outputId": "447e7d2f-8381-4a97-cb58-9338e1fcef61"
      },
      "source": [
        "def min_value(root):\n",
        "  if(root):\n",
        "    while(root.left):\n",
        "      root = root.left\n",
        "    return root\n",
        "  else:\n",
        "    return None\n",
        "\n",
        "def delete(root, x):\n",
        "  if(root):\n",
        "    if(root.value == x):\n",
        "      if(root.left is None): # Tiene a lo más un hijo, el derecho\n",
        "        new = root.right\n",
        "        root = None # Vaciamos el nodo root\n",
        "        return new\n",
        "      elif(root.right is None): # Tiene sólo el hijo izquierdo\n",
        "        new = root.left\n",
        "        root = None\n",
        "        return new\n",
        "      else: # Tiene ambos hijos\n",
        "        new = min_value(root.right)\n",
        "        root.value = new.value\n",
        "        root.right = delete(root.right, new.value)\n",
        "        return root\n",
        "    else: \n",
        "      if(root.value < x):\n",
        "        root.right = delete(root.right, x)\n",
        "      else:\n",
        "        root.left = delete(root.left, x)\n",
        "      return root\n",
        "  else:\n",
        "    return None\n",
        "\n",
        "Ld = [2, 1, 7, 8, 4, 3, 6, 5]\n",
        "\n",
        "rd = None\n",
        "\n",
        "for l in Ld:\n",
        "  rd = insert(rd, l)\n",
        "\n",
        "print('Eliminando el nodo con 4')\n",
        "delete(rd, 4)\n",
        "in_order(rd)\n",
        "print('-----------')\n",
        "pre_order(rd)"
      ],
      "execution_count": null,
      "outputs": [
        {
          "output_type": "stream",
          "text": [
            "Eliminando el nodo con 4\n",
            "1\n",
            "2\n",
            "3\n",
            "5\n",
            "6\n",
            "7\n",
            "8\n",
            "-----------\n",
            "2\n",
            "1\n",
            "7\n",
            "5\n",
            "3\n",
            "6\n",
            "8\n"
          ],
          "name": "stdout"
        }
      ]
    },
    {
      "cell_type": "markdown",
      "metadata": {
        "id": "KuLUDLW53IJq"
      },
      "source": [
        "Veamos un último ejemplo. Supongamos que se tiene una lista no vacía de enteros distintos $L$, tal que $L$ es el pre-order de un árbol binario de búsqueda, nuestro objetivo es reconstruir dicho BST.\n",
        "\n",
        "Una primer idea para atacar este problema sería hacer lo que ya hicimos previamente, ir agregando elemento por elemento usando nuestra función de insertar, sin ambargo, hacer esto nos puede tomar $O(n^2)$ en tiempo (si nuestro árbol resulta ser un camino). \n",
        "\n",
        "Optimizaremos nuestro algoritmo usando una pila. Comenzamos con una pila $P$ a la que agregamos el primer valor de la lista $L$, el cual también lo haremos la raíz de nuestro BST. Posteriormente vamos a iterar sobre los elementos de $L$, y tenemos dos casos:\n",
        "\n",
        "*   Si el elemento actual es menor que el elemento en la cima de la pila, hacemos que este elemento sea hijo izquierdo de la cima, y agregamos el nodo a la pila.\n",
        "*   Si el elemento actual es mayor que el elemento en la cima de la pila, removemos dicha cima de la pila, y continuamos removiendo elementos hasta llegar a que la pila sea vacía o que el elemento en la cima sea menor que el actual, y hacemos que el elemento actual sea el hijo derecho del último elemento que se removió de la pila. Posteriormente agregamos el nodo con valor el elemento actual a la pila.\n",
        "\n",
        "Veamos una implementación de este algoritmo.\n",
        "\n"
      ]
    },
    {
      "cell_type": "code",
      "metadata": {
        "id": "ij2_W0wGnFX5",
        "colab": {
          "base_uri": "https://localhost:8080/"
        },
        "outputId": "031e63c2-0d1f-4491-a87b-ef0d01b51ede"
      },
      "source": [
        "from collections import deque\n",
        "\n",
        "# L = [2, 1, 7, 4, 3, 6, 5, 8]\n",
        "\n",
        "def construct_BST(L):\n",
        "  root = node(L[0])\n",
        "  P = deque()\n",
        "  P.append(root)\n",
        "  for i in range (1, len(L)):\n",
        "    if(L[i] < P[-1].value):\n",
        "      curr = node(L[i])\n",
        "      P[-1].left = curr\n",
        "      P.append(curr)\n",
        "    else:\n",
        "      curr = node(L[i])\n",
        "      last = P[-1]\n",
        "      while(P):\n",
        "        if(L[i] < P[-1].value):\n",
        "          break\n",
        "        else:\n",
        "          last = P[-1]\n",
        "          P.pop()\n",
        "      last.right = curr\n",
        "      P.append(curr)\n",
        "  return root\n",
        "\n",
        "BST_from_L = construct_BST([2, 1, 7, 4, 3, 6, 5, 8])\n",
        "in_order(BST_from_L)\n",
        "print('------------')\n",
        "pre_order(BST_from_L)\n"
      ],
      "execution_count": null,
      "outputs": [
        {
          "output_type": "stream",
          "text": [
            "1\n",
            "2\n",
            "3\n",
            "4\n",
            "5\n",
            "6\n",
            "7\n",
            "8\n",
            "------------\n",
            "2\n",
            "1\n",
            "7\n",
            "4\n",
            "3\n",
            "6\n",
            "5\n",
            "8\n"
          ],
          "name": "stdout"
        }
      ]
    },
    {
      "cell_type": "markdown",
      "metadata": {
        "id": "OurqpW9Nvra5"
      },
      "source": [
        "**Ejercicios.**\n",
        "\n",
        "1.   Crea una función que permita agregar un valor determinado a un BST, en caso de que dicho valor ya existiera, devolver el nodo que lo tiene como valor asignado.\n",
        "2.   Crea una función que permita determinar si un árbol binario es un BST o no. Muestra dos casos de prueba, uno en el que el árbol binario sí sea BST y otro en el que no.\n",
        "3.   Determina si para cualquier lista de enteros distintos existe algún BST tal que su pre-order traversal coincida con la lista inicial. En caso afirmativo da una demostración, en caso negativo muestra un contraejemplo."
      ]
    }
  ]
}