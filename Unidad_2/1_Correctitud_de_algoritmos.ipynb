{
  "nbformat": 4,
  "nbformat_minor": 0,
  "metadata": {
    "colab": {
      "name": "Correctitud de algoritmos.ipynb",
      "provenance": [],
      "collapsed_sections": [],
      "include_colab_link": true
    },
    "kernelspec": {
      "name": "python3",
      "display_name": "Python 3"
    }
  },
  "cells": [
    {
      "cell_type": "markdown",
      "metadata": {
        "id": "view-in-github",
        "colab_type": "text"
      },
      "source": [
        "<a href=\"https://colab.research.google.com/github/RodolfoFigueroa/madi2022-1/blob/main/1_Correctitud_de_algoritmos.ipynb\" target=\"_parent\"><img src=\"https://colab.research.google.com/assets/colab-badge.svg\" alt=\"Open In Colab\"/></a>"
      ]
    },
    {
      "cell_type": "code",
      "metadata": {
        "id": "fTlp9s7tovJf"
      },
      "source": [
        "import random as rdm\n",
        "import math"
      ],
      "execution_count": null,
      "outputs": []
    },
    {
      "cell_type": "markdown",
      "metadata": {
        "id": "bCShDNY4kh60"
      },
      "source": [
        "En esta sesión, veremos ejemplos de algunos algoritmos o problemas clásicos, daremos posibles soluciones y formas de implementarlos, y veremos cuáles son correctos y cuáles no, en caso de no serlo es bueno que el estudiante medite si es posible arreglar el código o la idea de fondo para obtener un resultado positivo."
      ]
    },
    {
      "cell_type": "markdown",
      "metadata": {
        "id": "rDvkJPZLk5bo"
      },
      "source": [
        "**Búsqueda binaria.** (BS por sus siglas en inglés).  El problema clásico para introducir este algoritmo es el siguiente: \n",
        "Considera una lista $L$ de números reales tales que están ordenados de menor a mayor. Dado un número $x$, determina si el elemento está en la lista.\n",
        "\n",
        "El algoritmo consiste en hacer lo siguiente:\n",
        "\n",
        "*   Si la lista $L$ contiene un elemento, comparamos si $x$ es igual a este elemento o no. Y si la lista es vacía, $x$ no está en $L$.\n",
        "*   Comparamos $x$ con el elemento que se encuentra a la mitad en $L$, si $x$ es mayor que dicho elemento entonces sabremos que si $x$ está en $L$, debe estar en la mitad de la derecha. Análogamente, si $x$ es menor que el elemento de enmedio, debemos restringir nuestra búsqueda a la mitad de la izquierda. Y si $x$ es igual a dicho elemento, concluimos que $x$ sí está en la lista.\n",
        "\n",
        "Repitiendo el proceso anterior podemos determinar si $x$ está o no en $L$.\n",
        "\n",
        "Veamos varias implementaciones de este algoritmo (algunas pueden ser erróneas, a propósito).\n",
        "\n"
      ]
    },
    {
      "cell_type": "code",
      "metadata": {
        "id": "vx32Xmhjo-Ld",
        "colab": {
          "base_uri": "https://localhost:8080/"
        },
        "outputId": "ed5969ee-287f-4156-f217-34e229d68d96"
      },
      "source": [
        "L = [] #Lista con n+1 elementos\n",
        "n = 10\n",
        "L.append(rdm.randrange(-50000, 50000))\n",
        "for i in range (n):\n",
        "  L.append(rdm.randrange(L[i], 50000))\n",
        "\n",
        "print(L)"
      ],
      "execution_count": null,
      "outputs": [
        {
          "output_type": "stream",
          "text": [
            "[-12916, 22293, 28064, 40338, 41012, 49894, 49898, 49907, 49936, 49967, 49971]\n"
          ],
          "name": "stdout"
        }
      ]
    },
    {
      "cell_type": "code",
      "metadata": {
        "id": "NCwZesF8pseL",
        "colab": {
          "base_uri": "https://localhost:8080/"
        },
        "outputId": "cc2edd3c-8314-4131-e7a9-8e3847f44255"
      },
      "source": [
        "def bs_1(x):\n",
        "  l = 0\n",
        "  r = n\n",
        "  while(l <= r):\n",
        "    m = (l+r)//2\n",
        "    print(m)\n",
        "    if(L[m] == x):\n",
        "      return True\n",
        "    elif(L[m] < x):\n",
        "      r = m-1\n",
        "    elif(L[m] > x):\n",
        "      l = m+1\n",
        "  return False\n",
        "\n",
        "x = 49936\n",
        "if(bs_1(x)):\n",
        "  print(\"Sí está en L\")\n",
        "else:\n",
        "  print(\"No está en L\")"
      ],
      "execution_count": null,
      "outputs": [
        {
          "output_type": "stream",
          "text": [
            "5\n",
            "2\n",
            "0\n",
            "No está en L\n"
          ],
          "name": "stdout"
        }
      ]
    },
    {
      "cell_type": "code",
      "metadata": {
        "id": "8wvse0ZmrBZq",
        "colab": {
          "base_uri": "https://localhost:8080/"
        },
        "outputId": "6cf67829-fcfb-4bfe-882c-026141bcc60d"
      },
      "source": [
        "def bs_2(x):\n",
        "  l = 0\n",
        "  r = n\n",
        "  while(l <= r):\n",
        "    m = (l+r)//2\n",
        "    print(m)\n",
        "    if(L[m] == x):\n",
        "      return True\n",
        "    elif(L[m] > x):\n",
        "      r = m-1\n",
        "    elif(L[m] < x):\n",
        "      l = m+1\n",
        "  return False\n",
        "\n",
        "x = 49936\n",
        "if(bs_2(x)):\n",
        "  print(\"Sí está en L\")\n",
        "else:\n",
        "  print(\"No está en L\")"
      ],
      "execution_count": null,
      "outputs": [
        {
          "output_type": "stream",
          "text": [
            "5\n",
            "8\n",
            "Sí está en L\n"
          ],
          "name": "stdout"
        }
      ]
    },
    {
      "cell_type": "code",
      "metadata": {
        "id": "1I2BmAIbrJz3",
        "colab": {
          "base_uri": "https://localhost:8080/"
        },
        "outputId": "96d5c6b7-65a1-4e6c-d560-ecd13a0f941d"
      },
      "source": [
        "def bs_3(x, l, r):\n",
        "  m = (l+r)//2\n",
        "  if(L[m] == x):\n",
        "    return True\n",
        "  elif(L[m] > x):\n",
        "    return(bs_3(x, l, m-1))\n",
        "  elif(L[m] < x):\n",
        "    return(bs_3(x, m+1, r))\n",
        "\n",
        "x = 49936\n",
        "if(bs_3(x, 0, n)):\n",
        "  print(\"Sí está en L\")\n",
        "else:\n",
        "  print(\"No está en L\")\n"
      ],
      "execution_count": null,
      "outputs": [
        {
          "output_type": "stream",
          "text": [
            "Sí está en L\n"
          ],
          "name": "stdout"
        }
      ]
    },
    {
      "cell_type": "code",
      "metadata": {
        "id": "-HADXoWjz4q7",
        "colab": {
          "base_uri": "https://localhost:8080/"
        },
        "outputId": "cc666d13-37c0-4017-bee2-cd71ec1d20ec"
      },
      "source": [
        "def bs_4(x, l, r):\n",
        "  if(l > r) :\n",
        "    return False\n",
        "  m = (l+r)//2\n",
        "  if(L[m] == x):\n",
        "    return True\n",
        "  elif(L[m] > x):\n",
        "    return(bs_4(x, l, m-1))\n",
        "  elif(L[m] < x):\n",
        "    return(bs_4(x, m+1, r))\n",
        "\n",
        "x = 49946\n",
        "if(bs_4(x, 0, n)):\n",
        "  print(\"Sí está en L\")\n",
        "else:\n",
        "  print(\"No está en L\")"
      ],
      "execution_count": null,
      "outputs": [
        {
          "output_type": "stream",
          "text": [
            "No está en L\n"
          ],
          "name": "stdout"
        }
      ]
    },
    {
      "cell_type": "markdown",
      "metadata": {
        "id": "K726WxRh1Hng"
      },
      "source": [
        "¿Cuáles de los códigos anteriores son correctos? De entre los cuatro códigos presentados, hay dos que son correctos, uno que es incorrecto por no buscar en la mitad correspondiente (según si $L[m]$ es mayor o menor que $x$), y otro que es incorrecto pues no devuelve nunca valores $False$, es decir, devuelve $True$ o se queda estancado.\n"
      ]
    },
    {
      "cell_type": "markdown",
      "metadata": {
        "id": "QvXLQZdy1hd9"
      },
      "source": [
        "**Potencias de $2$.** ¿Cómo determinar si un entero positivo dado es o no una potencia de $2$? Veremos varias formas de hacer esto, con posibles implementaciones y analizaremos la correctitud tanto del algoritmo como del código correspondiente."
      ]
    },
    {
      "cell_type": "markdown",
      "metadata": {
        "id": "mlTqX8Qa2iUb"
      },
      "source": [
        "*Primer algoritmo.* Dado un entero positivo $n$, podemos calcular $log_{2}(n)$, y después verificar si $2^{log_2(n)} = n$. En caso de ser iguales, $n$ será potencia de $2$, en caso contrario no lo será.\n",
        "\n",
        "¿Es correcto este algoritmo?"
      ]
    },
    {
      "cell_type": "markdown",
      "metadata": {
        "id": "lT1YbP2o2-hF"
      },
      "source": [
        "¿Cómo podemos modificar la idea para obtener un algoritmo que nos permita determinar lo preguntado? Veamos lo siguiente:\n",
        "\n",
        "Dado un entero positivo $n$, podemos calcular $log_2(n)$, en caso de que $log_2(n)$ sea entero, $n$ sí es potencia de $2$, en caso contrario no lo será.\n",
        "\n",
        "¿Es ahora correcto?"
      ]
    },
    {
      "cell_type": "code",
      "metadata": {
        "id": "rVIFFwi63llA",
        "colab": {
          "base_uri": "https://localhost:8080/"
        },
        "outputId": "9078d6cb-2e7b-4862-cc3e-ed8a5e1b2266"
      },
      "source": [
        "def is_power(n):\n",
        "  l = math.log2(n)\n",
        "  if(l == math.floor(l)):\n",
        "    return True\n",
        "  else:\n",
        "    return False\n",
        "\n",
        "n = 1180591620717411303424\n",
        "if(is_power(n)):\n",
        "  print(n, \"sí es potencia de 2\")\n",
        "else:\n",
        "  print(n, \"no es potencia de 2\")"
      ],
      "execution_count": null,
      "outputs": [
        {
          "output_type": "stream",
          "text": [
            "1180591620717411303424 sí es potencia de 2\n"
          ],
          "name": "stdout"
        }
      ]
    },
    {
      "cell_type": "markdown",
      "metadata": {
        "id": "Ssi56b3g4zRt"
      },
      "source": [
        "¿La implementación de nuestro algoritmo anterior es correcta?\n",
        "Sí, pues justamente revisa si $log_2(n)$ es entero o no."
      ]
    },
    {
      "cell_type": "markdown",
      "metadata": {
        "id": "JBBCctKa5BCF"
      },
      "source": [
        "*Algoritmo 2.* Mientras $n$ sea par, lo dividimos entre $2$, y seguimos dividiendo hasta que ya no se pueda más. Si llegamos al entero $1$, es porque $n$ es potencia de $2$, de lo contrario, $n$ no es potencia de $2$.\n",
        "\n",
        "¿Es correcto este algoritmo?\n",
        "Es sencillo convencerse de que sí lo es, pues si algún impar divide a $n$, nunca obtendremos algo menor a dicho impar que lo divide.\n",
        "\n",
        "Veamos el código de este algoritmo.\n"
      ]
    },
    {
      "cell_type": "code",
      "metadata": {
        "id": "pvyKn8l2AyP1",
        "colab": {
          "base_uri": "https://localhost:8080/"
        },
        "outputId": "6701ab2c-bdbe-407a-ec95-264d88b8c04b"
      },
      "source": [
        "def is_power_2(n):\n",
        "  while(n > 1):\n",
        "    n = n/2\n",
        "    # print(n)\n",
        "    if(n == 1):\n",
        "      return True\n",
        "  return False\n",
        "\n",
        "n = 2347\n",
        "if(is_power_2(n)):\n",
        "  print(n, \"sí es potencia de 2\")\n",
        "else:\n",
        "  print(n, \"no es potencia de 2\")"
      ],
      "execution_count": null,
      "outputs": [
        {
          "output_type": "stream",
          "text": [
            "1173.5\n",
            "586.75\n",
            "293.375\n",
            "146.6875\n",
            "73.34375\n",
            "36.671875\n",
            "18.3359375\n",
            "9.16796875\n",
            "4.583984375\n",
            "2.2919921875\n",
            "1.14599609375\n",
            "0.572998046875\n",
            "2347 no es potencia de 2\n"
          ],
          "name": "stdout"
        }
      ]
    },
    {
      "cell_type": "markdown",
      "metadata": {
        "id": "KKYj8kuzBa4s"
      },
      "source": [
        "El código escrito no representa el algoritmo que mencionamos, sin embargo, sí nos permite determinar si $n$ es potencia de $2$ o no.\n",
        "\n",
        "Veamos el siguiente código:"
      ]
    },
    {
      "cell_type": "code",
      "metadata": {
        "id": "mouYx5rRDO3P",
        "colab": {
          "base_uri": "https://localhost:8080/"
        },
        "outputId": "a8e2b59a-ac5d-4a5d-ca0e-098f56cd9e9d"
      },
      "source": [
        "def is_power_3(n):\n",
        "  while(n%2 == 0):\n",
        "    n = n/2\n",
        "    if(n == 1):\n",
        "      return True\n",
        "  return False\n",
        "\n",
        "n = 2\n",
        "if(is_power_3(n)):\n",
        "  print(n, \"sí es potencia de 2\")\n",
        "else:\n",
        "  print(n, \"no es potencia de 2\")"
      ],
      "execution_count": null,
      "outputs": [
        {
          "output_type": "stream",
          "text": [
            "1.0\n",
            "2 sí es potencia de 2\n"
          ],
          "name": "stdout"
        }
      ]
    },
    {
      "cell_type": "markdown",
      "metadata": {
        "id": "Jve505gbDgPo"
      },
      "source": [
        "El código anterior nos permite determinar si $n$ es potencia de $2$ siempre y cuando $n > 1$, es decir, nos da un resultado incorrecto para $n = 1$, ¿qué está pasando? \n",
        "\n",
        "Basta con modificarlo un poco para obtener lo deseado."
      ]
    },
    {
      "cell_type": "code",
      "metadata": {
        "id": "NV2xXRZUDx73",
        "colab": {
          "base_uri": "https://localhost:8080/"
        },
        "outputId": "e834afe5-e821-4f91-b38c-609e1af19c85"
      },
      "source": [
        "def is_power_4(n):\n",
        "  while(n%2 == 0):\n",
        "    n = n/2\n",
        "  if(n == 1):\n",
        "    return True\n",
        "  else : \n",
        "    return False\n",
        "\n",
        "n = 2048\n",
        "if(is_power_4(n)):\n",
        "  print(n, \"sí es potencia de 2\")\n",
        "else:\n",
        "  print(n, \"no es potencia de 2\")"
      ],
      "execution_count": null,
      "outputs": [
        {
          "output_type": "stream",
          "text": [
            "2048 sí es potencia de 2\n"
          ],
          "name": "stdout"
        }
      ]
    },
    {
      "cell_type": "markdown",
      "metadata": {
        "id": "EZ6g51cCD5rJ"
      },
      "source": [
        "*Algoritmo 3.* Para este algoritmo vamos a hablar un poco de operaciones de bits. Dados dos enteros positivos, $n, m$, consideremos sus representaciones en binario $2^sc_s + \\cdots + 2c_1 + c_0$ y $2^td_t + \\cdots + 2d_1 + d_0$ (formada por $0's$ y $1's$). Para la posición $i$, consideremos los coeficientes de $2^i$, $c_i, d_i$ y realicemos la operación $and$, es decir, $e_i$ será $1$ si ambos, $c_i, d_i$ son $1$, y $0$ en caso contrario. El número dado por $2^ke_k + \\cdots + 2e_1 + e_0$, con $k = max\\{s, t\\}$ es de nuestro interés.\n",
        "\n",
        "El número que mencionamos es la operación \"and\" bit por bit, $n \\text{&} m = 2^ke_k + \\cdots + 2e_1 + e_0$. ¿Esto cómo nos ayuda a determinar si un entero positivo $n$ es potencia de $2$ o no? ¿Qué pasa si hacemos $n\\text{&}(n-1)$?\n",
        "\n",
        "Resulta ser que $n\\text{&}(n-1) = 0$ si y solo si $n$ es potencia de $2$, ¿por qué?"
      ]
    },
    {
      "cell_type": "code",
      "metadata": {
        "id": "1JKDksN3EYDv",
        "colab": {
          "base_uri": "https://localhost:8080/"
        },
        "outputId": "310c5d42-2ce9-4a76-e4ea-342865c4eb9f"
      },
      "source": [
        "def is_power_5(n):\n",
        "  if(n&(n-1)):\n",
        "    return False\n",
        "  else: \n",
        "    return True\n",
        "\n",
        "n = 100012\n",
        "if(is_power_5(n)):\n",
        "  print(n, \"sí es potencia de 2\")\n",
        "else:\n",
        "  print(n, \"no es potencia de 2\")"
      ],
      "execution_count": null,
      "outputs": [
        {
          "output_type": "stream",
          "text": [
            "100012 no es potencia de 2\n"
          ],
          "name": "stdout"
        }
      ]
    },
    {
      "cell_type": "markdown",
      "metadata": {
        "id": "Obi1NYl5Ixbd"
      },
      "source": [
        "En este caso, es muy sencillo comprobar que en efecto el código escrito coincide con el algoritmo mencionado."
      ]
    },
    {
      "cell_type": "markdown",
      "metadata": {
        "id": "HmGw1rAnKFnG"
      },
      "source": [
        "**Conjunto potencia.** Dado un conjunto finito, ¿cómo generar una lista con los subconjuntos posibles del conjunto inicial?\n",
        "\n",
        "Un primer algoritmo podría ser, tener una función que genere a los subconjuntos de un conjunto dado, y aplicarla de manera recursiva, es decir, decidimos si el último elemento está o no está en el subconjunto que estamos creando.\n",
        " (Usaremos listas en lugar de conjuntos pues lo hace de manera más general.)"
      ]
    },
    {
      "cell_type": "code",
      "metadata": {
        "id": "cB4kMGAtKwnT",
        "colab": {
          "base_uri": "https://localhost:8080/"
        },
        "outputId": "0e3574fe-346d-4b76-b2c9-80baf4f3c84a"
      },
      "source": [
        "S = [1, 2, 3, 4]\n",
        "\n",
        "def subsets(l, r):\n",
        "  if(l > r):\n",
        "    return [[]]\n",
        "  else:\n",
        "    L1 = subsets(l, r-1)\n",
        "    L2 = []\n",
        "    for lst in L1:\n",
        "      lst2 = lst.copy() # Es necesario copiarla para que la original no se modifique también\n",
        "      lst2.append(S[r])\n",
        "      L2.append(lst2)\n",
        "    return L1 + L2\n",
        "\n",
        "PS = subsets(0, 3)\n",
        "print(PS)\n",
        "print(len(PS))"
      ],
      "execution_count": null,
      "outputs": [
        {
          "output_type": "stream",
          "text": [
            "[[], [1], [2], [1, 2], [3], [1, 3], [2, 3], [1, 2, 3], [4], [1, 4], [2, 4], [1, 2, 4], [3, 4], [1, 3, 4], [2, 3, 4], [1, 2, 3, 4]]\n",
            "16\n"
          ],
          "name": "stdout"
        }
      ]
    },
    {
      "cell_type": "markdown",
      "metadata": {
        "id": "cbG9yefgO-sm"
      },
      "source": [
        "¿El algoritmo y su implementación son correctos?\n",
        "Sí, pues generamos todos los subconjuntos que no contienen al último elemento, y a partir de ellos generamos a los subconjuntos que sí tienen a este último elemento.\n",
        "\n",
        "\n",
        "Otra forma de atacar esto, es pensando en operaciones con bits. Sea $n$ el tamaño de nuestro conjunto inicial y consideremos $2^n$, es un número cuya representación binaria está dada por $100\\dots 00$. ¿Qué pasa si iteramos sobre cada entero entre $0$ y $2^n - 1$ y en cada iteración consideramos la representación binaria del número en cuestión? Al fijarnos en los $0's$ y $1's$, vamos teniendo que podemos generar todos los subconjuntos del conjunto inicial, si consideramos que $1$ representa que el elemento en la posición $i$ sí está en un subconjunto, y $0$ si no.\n",
        "\n",
        "¿Esto funciona? Veamos una implementación."
      ]
    },
    {
      "cell_type": "code",
      "metadata": {
        "id": "CgXtJGV-UM52",
        "colab": {
          "base_uri": "https://localhost:8080/"
        },
        "outputId": "316a8c68-e021-4f4c-c7d7-07a534e9192c"
      },
      "source": [
        "def subsets_2(C):\n",
        "  PS = []\n",
        "  n = len(C)\n",
        "  for i in range(0, 1<<n): # 1 << a nos da el valor 2^a\n",
        "    L = []\n",
        "    for j in range(0, n): # nos permite preguntar si hay un 1 en la posición j\n",
        "      if(i & (1 << j)):\n",
        "        L.append(C[j])\n",
        "    PS.append(L)\n",
        "  return PS\n",
        "\n",
        "Res = subsets_2(S)\n",
        "print(Res)\n",
        "print(len(Res))"
      ],
      "execution_count": null,
      "outputs": [
        {
          "output_type": "stream",
          "text": [
            "[[], [1], [2], [1, 2], [3], [1, 3], [2, 3], [1, 2, 3], [4], [1, 4], [2, 4], [1, 2, 4], [3, 4], [1, 3, 4], [2, 3, 4], [1, 2, 3, 4]]\n",
            "16\n"
          ],
          "name": "stdout"
        }
      ]
    },
    {
      "cell_type": "markdown",
      "metadata": {
        "id": "z34NmMLdX7XU"
      },
      "source": [
        "El código mostrado en efecto corresponde con el algortimo mencionado, pues se va comprobando posición por posición si el número tiene un $1$ o un $0$."
      ]
    },
    {
      "cell_type": "markdown",
      "metadata": {
        "id": "vZF4JvgWqjAD"
      },
      "source": [
        "Pueden cosultar más cosas sobre operaciones de bits en:\n",
        "\n",
        "https://wiki.python.org/moin/BitwiseOperators\n",
        "\n",
        "https://www.geeksforgeeks.org/python-bitwise-operators/\n",
        "\n"
      ]
    },
    {
      "cell_type": "markdown",
      "metadata": {
        "id": "B3c2Ra9G1vB-"
      },
      "source": [
        "**Ejercicios.**\n",
        "\n",
        "1.   Describe e implementa un algoritmo que dado un entero positivo $n$, encuentre la mayor potencia de $2$ que divide a $n$, usando búsqueda binaria. La mayor potencia de $2$ que divide a un número $m$ es el mayor entero $k$ tal que $2^k$ divide a $m$.\n",
        "2.   Demuestra que dado un entero positivo $n$, $n\\text{&}(n-1) = 0$ si y solo si $n$ es potencia de $2$.\n",
        "3.   Describe e implementa un algoritmo que dado un entero positivo $n$, determine si $n$ es potencia de algún primo o no. Demuestra la correctitud de tu algoritmo.\n"
      ]
    },
    {
      "cell_type": "markdown",
      "metadata": {
        "id": "dJmUNeAlZHvx"
      },
      "source": [
        "*Ejercicio 1.* Describe aquí tu algoritmo. A modo de sugerencia, nota que una vez que encuentres algún entero $k$ tal que $2^k > n$ (o que $2^k$ no divida a $n$), puedes hacer búsqueda binaria entre los números $1, 2, 4, \\dots, 2^k$ para encontrar el mayor que divide a $n$. En tu código, comprueba que te dé el resultado correcto para $n = 128, 1, 100009, 88, 6272, 7168$."
      ]
    },
    {
      "cell_type": "code",
      "metadata": {
        "id": "iITlfe7fZZWI"
      },
      "source": [
        "# (Aquí va el código del ejercicio 1)"
      ],
      "execution_count": null,
      "outputs": []
    },
    {
      "cell_type": "markdown",
      "metadata": {
        "id": "QAWXsLmEZc7m"
      },
      "source": [
        "*Ejercicio 2.* Escribe aquí o sube una foto de tu demostración."
      ]
    },
    {
      "cell_type": "markdown",
      "metadata": {
        "id": "xHFu-OK0ZiL_"
      },
      "source": [
        "*Ejercicio 3.* Nota que el menor divisor de $n$ que es mayor que $1$ siempre es primo, puedes usar esto y algunas de las ideas vistas en clase para tu algoritmo. A continuación escribe o sube una foto de la descripción de tu algoritmo, probando su correctitud. En tu código, comprueba que te dé el resultado correcto para los valores $n = 27, 823543, 100005, 1000$."
      ]
    },
    {
      "cell_type": "code",
      "metadata": {
        "id": "YBo_TtQMZ-sI"
      },
      "source": [
        "# (Aquí va el código del ejercicio 3)"
      ],
      "execution_count": null,
      "outputs": []
    }
  ]
}