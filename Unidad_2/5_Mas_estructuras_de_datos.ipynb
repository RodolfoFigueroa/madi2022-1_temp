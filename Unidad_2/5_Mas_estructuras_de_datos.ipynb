{
  "nbformat": 4,
  "nbformat_minor": 0,
  "metadata": {
    "colab": {
      "name": "Más estructuras de datos.ipynb",
      "provenance": [],
      "collapsed_sections": [],
      "include_colab_link": true
    },
    "kernelspec": {
      "name": "python3",
      "display_name": "Python 3"
    }
  },
  "cells": [
    {
      "cell_type": "markdown",
      "metadata": {
        "id": "view-in-github",
        "colab_type": "text"
      },
      "source": [
        "<a href=\"https://colab.research.google.com/github/RodolfoFigueroa/madi2022-1/blob/main/5_Mas_estructuras_de_datos.ipynb\" target=\"_parent\"><img src=\"https://colab.research.google.com/assets/colab-badge.svg\" alt=\"Open In Colab\"/></a>"
      ]
    },
    {
      "cell_type": "markdown",
      "metadata": {
        "id": "EQF6Mo2Zv8VA"
      },
      "source": [
        "En esta sesión nos enfocaremos en estudiar dos estructuras de datos que también son muy utilizadas: colas de prioridad y strings.\n",
        "\n"
      ]
    },
    {
      "cell_type": "markdown",
      "metadata": {
        "id": "CcC3SptywNDS"
      },
      "source": [
        "**Colas de prioridad.** Una cola de prioridad es un tipo especial de cola, que nos permite ir insertando elementos, asignándoles determinada prioridad, de modo que cada que consultemos el elemento en la 'cima' de la cola de prioridad, obtenemos el elemento de menor (o mayor) prioridad. Veamos dos ejemplos de cómo implementar una cola de prioridad en Python. El primero es importando una función que trabaja sobre una lista, y el segundo es definiendo nuestra cola de prioridad como una nueva estructura."
      ]
    },
    {
      "cell_type": "code",
      "metadata": {
        "id": "JIT_-Fi2woWy",
        "colab": {
          "base_uri": "https://localhost:8080/"
        },
        "outputId": "e3d413e5-ef0b-4f4a-8798-85385edbf352"
      },
      "source": [
        "import heapq\n",
        "\n",
        "PQ = []\n",
        "\n",
        "# Vamos insertando elementos, donde la primer entrada corresponde a la prioridad asignada al elemento de la segunda entrada\n",
        "heapq.heappush(PQ, (1, 'menor prioridad')) \n",
        "heapq.heappush(PQ, (2, 2))\n",
        "heapq.heappush(PQ, (5, 'Hola'))\n",
        "heapq.heappush(PQ, (3, 'Probando'))\n",
        "heapq.heappush(PQ, (4, 4))\n",
        "\n",
        "print(PQ)\n",
        "\n",
        "while(PQ):\n",
        "  print(heapq.heappop(PQ)[1])"
      ],
      "execution_count": null,
      "outputs": [
        {
          "output_type": "stream",
          "text": [
            "[(1, 'menor prioridad'), (2, 2), (5, 'Hola'), (3, 'Probando'), (4, 4)]\n",
            "menor prioridad\n",
            "2\n",
            "Probando\n",
            "4\n",
            "Hola\n"
          ],
          "name": "stdout"
        }
      ]
    },
    {
      "cell_type": "code",
      "metadata": {
        "id": "sp8FsLHFyjM2",
        "colab": {
          "base_uri": "https://localhost:8080/"
        },
        "outputId": "d13f6e0a-3c9e-4f50-ca06-0df7f3a1064c"
      },
      "source": [
        "from queue import PriorityQueue \n",
        "\n",
        "PQ2 = PriorityQueue()\n",
        "\n",
        "PQ2.put(1)\n",
        "PQ2.put(2)\n",
        "PQ2.put(5)\n",
        "PQ2.put(3)\n",
        "PQ2.put(4)\n",
        "\n",
        "print(PQ2)\n",
        "\n",
        "while(not PQ2.empty()):\n",
        "  print(PQ2.get())\n",
        "\n",
        "\n",
        "PQ3 = PriorityQueue()\n",
        "\n",
        "PQ3.put((1, 'Primero'))\n",
        "PQ3.put((2, 'Hola'))\n",
        "PQ3.put((5, 'Sol'))\n",
        "PQ3.put((3, 'Adiós'))\n",
        "PQ3.put((4, 'Prueba'))\n",
        "\n",
        "print(PQ3)\n",
        "\n",
        "while(not PQ3.empty()):\n",
        "  print(PQ3.get())"
      ],
      "execution_count": null,
      "outputs": [
        {
          "output_type": "stream",
          "text": [
            "<queue.PriorityQueue object at 0x7f3ac8612ef0>\n",
            "1\n",
            "2\n",
            "3\n",
            "4\n",
            "5\n",
            "<queue.PriorityQueue object at 0x7f3ac8612f98>\n",
            "(1, 'Primero')\n",
            "(2, 'Hola')\n",
            "(3, 'Adiós')\n",
            "(4, 'Prueba')\n",
            "(5, 'Sol')\n"
          ],
          "name": "stdout"
        }
      ]
    },
    {
      "cell_type": "markdown",
      "metadata": {
        "id": "HAnXo7BW51Pw"
      },
      "source": [
        "Para ver un ejemplo de cómo utilizar colas de prioridad, veamos el siguiente problema : http://codeforces.com/contest/377/problem/B\n",
        "\n",
        "Notemos que si es posible arreglar los bugs en un tiempo $t$, entonces también se puede en cualquier tiempo mayor que $t$, entonces, podemos hacer búsqueda binaria sobre el tiempo. Notemos que si el estudiante con mayor habilidad puede resolver el bug más complicado, entonces existe algún tiempo en el que se pueden resolver todos los bugs (olvidando por el momento el costo de contratar al alumno). Además, podemos omitir a todos los alumnos cuyo precio esté por encima del presupuesto establecido.\n",
        "\n",
        "Entonces, una primer condición para que se puedan reparar todos los bugs es que el estudiante con mayor habilidad y con un costo menor al mayor establecido pueda arreglar el bug más complicado. Procedemos haciendo búsqueda binaria sobre el tiempo, pues sabemos que debe estar entre $0$ y la cantidad de bugs. Una vez descartado este caso haremos lo siguiente:\n",
        "\n",
        "*   Ordenamos la lista de estudiantes, de mayor a menor habilidad.\n",
        "*   Ordenamos la lista de bugs, de mayor a menor dificultad.\n",
        "*   Creamos una cola de prioridades, inicialmente vacía.\n",
        "*   Iteramos sobre la lista de bugs, y en cada paso agregamos a la cola a aquellos alumnos que pueden resolver el bug en cuestión, y su prioridad asignada será justamente el costo del alumno. Obtenemos de la cola al alumno más barato, y le asignamos el bug en el que estamos, así como los siguientes $t-1$, pues estamos verificando el tiempo $t$. \n",
        "*   Si en algún momento la cola de prioridad está vacía es porque el tiempo $t$ no es suficiente y necesitamos más días.\n",
        "*   Si en algún momento excedimos el presupuesto, necesitamos más días, para poder utilizar más veces el trabajo de un mismo alumno.\n",
        "\n",
        "Veamos la implementación de este algoritmo\n",
        "\n",
        "\n"
      ]
    },
    {
      "cell_type": "code",
      "metadata": {
        "id": "PbQnsjtvfY7d",
        "colab": {
          "base_uri": "https://localhost:8080/"
        },
        "outputId": "e80cb7c8-f966-45dd-b422-f467868e5ee9"
      },
      "source": [
        "# 3 4 9\n",
        "# 1 3 1 2\n",
        "# 2 1 3\n",
        "# 4 3 6\n",
        "\n",
        "\n",
        "# 3 4 10\n",
        "# 2 3 1 2\n",
        "# 2 1 3\n",
        "# 4 3 6\n",
        "\n",
        "\n",
        "# 3 4 9\n",
        "# 2 3 1 2\n",
        "# 2 1 3\n",
        "# 4 3 6\n",
        "\n",
        "\n",
        "# 3 4 5\n",
        "# 1 3 1 2\n",
        "# 2 1 3\n",
        "# 5 3 6\n",
        "\n",
        "\n",
        "\n",
        "n = 3\n",
        "m = 4\n",
        "s = 9\n",
        "A = [2,3,1,2]\n",
        "B = [2,1,3]\n",
        "C = [4,3,6]\n",
        "Bugs = [0]*len(A)\n",
        "St = []\n",
        "\n",
        "for i in range(0, len(B)): # Guardamos la información de los estudiantes que no superan el costo, en ternas\n",
        "  if(C[i] <= s):\n",
        "    St.append((B[i], C[i], i))\n",
        "\n",
        "for i in range(0, len(A)): # Guardamos las posiciones iniciales de los Bugs en una nueva lista para ordenarlos\n",
        "  Bugs[i] = (A[i], i)\n",
        "\n",
        "St.sort(reverse = True) # Ordena a los estudiantes según su habilidad\n",
        "Bugs.sort(reverse=True) # Ordena los bugs según su dificultad\n",
        "\n",
        "\n",
        "\n",
        "def check_time(t): # Función que nos permite checar si es posible arreglar todos los bugs en un tiempo t sin pasarse del presupuesto\n",
        "  PQS = PriorityQueue()\n",
        "  idxBg = 0\n",
        "  idxSt = 0\n",
        "  sum = 0\n",
        "  while(idxBg < len(A)): # Iteramos sobre los Bugs\n",
        "    while(idxSt < len(B) and St[idxSt][0] >= Bugs[idxBg][0]): # Checa si el alumno puede o no resolver el bug\n",
        "      PQS.put((St[idxSt][1], St[idxSt][2])) # Metemos al alumno, su posición, con prioridad el costo de contratarlo\n",
        "      idxSt = idxSt + 1\n",
        "    if(PQS.empty()):\n",
        "      return False\n",
        "    else:\n",
        "      To_Use = PQS.get()\n",
        "      sum += To_Use[0] # Sumamos el costo del alumno que queremos usar\n",
        "      if(sum > s):\n",
        "        return False\n",
        "      else:\n",
        "        idxBg += t # \"Asignamos\" a los siguientes t Bugs un mismo estudiante\n",
        "  return True\n",
        "\n",
        "def ans(t): # Función que nos permite saber qué estudiante resuelve qué bug, una vez encontrado el tiempo\n",
        "  PQS = PriorityQueue()\n",
        "  idxBg = 0\n",
        "  idxSt = 0\n",
        "  Ans = [-1]*len(A)\n",
        "  while(idxBg < len(A)): \n",
        "    while(idxSt < len(B) and St[idxSt][0] >= Bugs[idxBg][0]): \n",
        "      PQS.put((St[idxSt][1], St[idxSt][2])) \n",
        "      idxSt = idxSt + 1\n",
        "    To_Use = PQS.get()\n",
        "    for i in range(0, min(t, len(A)-idxBg)): # Bugs[idxBg + i][1] nos dice qué bug estamos considerando\n",
        "      Ans[Bugs[idxBg + i][1]] = To_Use[1] + 1 # +1 Para cambiar de 0-indexed a 1-indexed\n",
        "    idxBg += t\n",
        "  return Ans\n",
        "\n",
        "l = 0\n",
        "r = m # El extremo derecho de nuestra búsqueda binaria es el total de bugs\n",
        "\n",
        "if(St[0][0] < Bugs[0][0]): # Checamos si el más hábil puede solucionar el bug más difícil\n",
        "  print('NO')\n",
        "else:\n",
        "  Shortest = r\n",
        "  while(l < r):\n",
        "    mid = (l+r)//2\n",
        "    if check_time(mid):\n",
        "      r = mid\n",
        "      Shortest = mid\n",
        "    else:\n",
        "      l = mid + 1\n",
        "  print('YES\\n', ans(Shortest))\n",
        "  \n",
        "    "
      ],
      "execution_count": null,
      "outputs": [
        {
          "output_type": "stream",
          "text": [
            "YES\n",
            " [3, 3, 2, 3]\n"
          ],
          "name": "stdout"
        }
      ]
    },
    {
      "cell_type": "markdown",
      "metadata": {
        "id": "zqzQW6q6r5q3"
      },
      "source": [
        "En este algoritmo el uso de una cola de prioridad fue de gran ayuda, pues justo lo que queríamos era determinar al estudiante con menor precio en determinado momento."
      ]
    },
    {
      "cell_type": "markdown",
      "metadata": {
        "id": "MPVsmMmjsGfD"
      },
      "source": [
        "**Strings.** Veamos algunos algoritmos que involucran el uso de estas estructuras de datos, con la finalidad de aprender cómo manipularlas al implementar algún algoritmo."
      ]
    },
    {
      "cell_type": "markdown",
      "metadata": {
        "id": "L8RBdE2SsbHM"
      },
      "source": [
        "Consideremos el siguiente ejemplo. Dada una oración, queremos determinar cuál (o cuales) es la letra que aparece más veces, sin diferenciar entre mayúsculas y minúsculas, además determina en cuántas palabras aparece dicha letra. \n",
        "\n",
        "Notemos en principio que la letra que aparece más veces no es necesariamente la letra que aparece en más palabras, entonces primero debemos hacer un conteo 'global', y posteriormente contar sobre las palabras.\n",
        "\n",
        "Para esto, utilizaremos que una string se puede operar como una lista de caracteres, para poder visitar caracter por caracter."
      ]
    },
    {
      "cell_type": "code",
      "metadata": {
        "id": "yilfrTHmQGAX",
        "colab": {
          "base_uri": "https://localhost:8080/"
        },
        "outputId": "e7629485-29f6-4c32-fcf8-b8984f460010"
      },
      "source": [
        "Stc = \"Estassssssssssssss es una frase con la que vamos a hacer algunas pruebas, Pablo clavaba un clavito para la casa de Pedro en San Juan\"\n",
        "\n",
        "# La función lower() nos permite pasar todos los caracteres de nuestra string a minúsculas\n",
        "Stc2 = Stc.lower()\n",
        "print(Stc2)\n",
        "\n",
        "# Podemos aprovechar el código ASCII para asignarle un número a cada caracter y así poder guardar las cuentas en una lista\n",
        "# Usando que un caracter que representa una letra minúscula tiene un valor entre 97 y 122\n",
        "Cnt = [0]*28\n",
        "Maxi = 0\n",
        "Letras = ''\n",
        "\n",
        "for i in range (0, len(Stc2)):\n",
        "  if(ord(Stc2[i]) > 96 and ord(Stc2[i]) < 123):\n",
        "    idx = ord(Stc2[i]) - 97\n",
        "    Cnt[idx] += 1\n",
        "    if(Maxi < Cnt[idx]):\n",
        "      Maxi = Cnt[idx]\n",
        "      Letras = Stc2[i]\n",
        "    elif(Maxi == Cnt[idx]):\n",
        "      Letras += ' ' + Stc2[i]\n",
        "\n",
        "Letters = Letras.split()\n",
        "\n",
        "# Split nos permite separar lo que hay entre los espacios de una string\n",
        "print(\"Las letras que más aparecen son: \", Letters, \"y aparecen\", Maxi, \"veces.\")\n",
        "\n",
        "Palabras = Stc2.split()\n",
        "\n",
        "for i in range(0, len(Letters)):\n",
        "  Tot = 0\n",
        "  for p in Palabras:\n",
        "    if(p.count(Letters[i]) > 0): # count cuenta las ocurrencias de determinado caracter en la string\n",
        "      Tot += 1\n",
        "  print(\"La letra\", Letters[i], \"aparece en\", Tot, \"palabras.\")"
      ],
      "execution_count": null,
      "outputs": [
        {
          "output_type": "stream",
          "text": [
            "estassssssssssssss es una frase con la que vamos a hacer algunas pruebas, pablo clavaba un clavito para la casa de pedro en san juan\n",
            "Las letras que más aparecen son:  ['s', 'a'] y aparecen 22 veces.\n",
            "La letra s aparece en 8 palabras.\n",
            "La letra a aparece en 17 palabras.\n"
          ],
          "name": "stdout"
        }
      ]
    },
    {
      "cell_type": "markdown",
      "metadata": {
        "id": "Kb6q7hpYVWu1"
      },
      "source": [
        "Como el ejemplo ilustra, hay una gran cantidad de funciones que nos permiten trabajar de una manera cómoda con strings."
      ]
    },
    {
      "cell_type": "markdown",
      "metadata": {
        "id": "PkOlrA_MVdW-"
      },
      "source": [
        "**Ejercicios.** \n",
        "\n",
        "1.   Dada una lista de artículos con sus precios y descuentos que se les harán, determina utilizando la estructura de priority queue el artículo de mayor precio y el artículo de menor precio. Verifica que tu código arroje resultado correcto para las listas: `[(\"Pluma\", 8, 30), (\"Balón\", 350, 15), (\"Naranja\", 25, 15), (\"Playera\", 400, 25), (\"Vaso\", 20, 5), (\"Teclado\", 800, 40), (\"Libro\", 300, 10)], [('A', 35, 10), ('B' 123, 60), ('C', 400, 18), ('D', 325, 7), ('E', 50, 50), ('F', 100, 75), ('G', 40, 10), ('H', 120, 15)]`, donde la terna '(A, B, C)` indica que el artículo A cuesta B y tiene un descuento de C%.\n",
        "2.   Dada una palabra, determina si es palíndroma o no (sin importar mayúsculas o minúsculas), suponiendo que no tiene tildes ni símbolos especiales. Da un algoritmo que lo determine en tiempo menor que $O(n^2)$. ¿Qué complejidad en tiempo tiene tu algoritmo? \n",
        "\n"
      ]
    },
    {
      "cell_type": "markdown",
      "metadata": {
        "id": "1hz_cmShYrhf"
      },
      "source": [
        "*Ejercicio 1.* Escribe a continuación el código para este ejercicio."
      ]
    },
    {
      "cell_type": "code",
      "metadata": {
        "id": "pRFcL4mpYyAc"
      },
      "source": [
        ""
      ],
      "execution_count": null,
      "outputs": []
    },
    {
      "cell_type": "markdown",
      "metadata": {
        "id": "r2-f98m0YymU"
      },
      "source": [
        "*Ejercicio 2.* Escribe a continuación el código de tu algoritmo."
      ]
    },
    {
      "cell_type": "code",
      "metadata": {
        "id": "yrDwUA-HY5HZ"
      },
      "source": [
        ""
      ],
      "execution_count": null,
      "outputs": []
    },
    {
      "cell_type": "markdown",
      "metadata": {
        "id": "TKgNLIg8Y5XQ"
      },
      "source": [
        "(Aquí va el análisis de la complejidad de tu algoritmo)"
      ]
    }
  ]
}