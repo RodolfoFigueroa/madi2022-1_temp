{
  "nbformat": 4,
  "nbformat_minor": 0,
  "metadata": {
    "colab": {
      "name": "Conociendo Estructuras de Datos.ipynb",
      "provenance": [],
      "collapsed_sections": [],
      "include_colab_link": true
    },
    "kernelspec": {
      "name": "python3",
      "display_name": "Python 3"
    }
  },
  "cells": [
    {
      "cell_type": "markdown",
      "metadata": {
        "id": "view-in-github",
        "colab_type": "text"
      },
      "source": [
        "<a href=\"https://colab.research.google.com/github/RodolfoFigueroa/madi2022-1/blob/main/3_Conociendo_Estructuras_de_Datos.ipynb\" target=\"_parent\"><img src=\"https://colab.research.google.com/assets/colab-badge.svg\" alt=\"Open In Colab\"/></a>"
      ]
    },
    {
      "cell_type": "markdown",
      "metadata": {
        "id": "AEXabuBssME9"
      },
      "source": [
        "En esta sesión veremos algunas de las estructuras de datos más usadas, en algunos casos veremos cómo se implentan, y también veremos ejemplos concretos en donde usemos al menos una de ellas."
      ]
    },
    {
      "cell_type": "markdown",
      "metadata": {
        "id": "M1Fru5HhsgUq"
      },
      "source": [
        "Nos vamos a centrar en cuatro estructuras de datos principalmente: pilas, colas y diccionarios."
      ]
    },
    {
      "cell_type": "markdown",
      "metadata": {
        "id": "wNKkGJQEuvEz"
      },
      "source": [
        "**Pilas.** Se dice que funcionan bajo el principio LIFO: last-in, first-out. Lo que esto quiere decir es que cada que sacamos un elemento de nuestra pila, se nos devolverá el último elemento que fue introducido. Hay múltiples formas de implementar una pila en Python,  veremos dos de ellas:"
      ]
    },
    {
      "cell_type": "markdown",
      "metadata": {
        "id": "0UaPlJqdvpF_"
      },
      "source": [
        "*Usando listas.* Las listas en Python tienen las operaciones que caracterizan a una pila: \n",
        "\n",
        "*   $Append$. Nos permite insertar un nuevo elemento a la lista.\n",
        "*   $Pop$. Nos devuelve el valor del último elemento que fue insertado en la pila, y lo elimina de ésta.\n",
        "\n"
      ]
    },
    {
      "cell_type": "code",
      "metadata": {
        "id": "OLuVomg0wfa0",
        "colab": {
          "base_uri": "https://localhost:8080/",
          "height": 118
        },
        "outputId": "3621ffd9-eca0-4ac1-9394-9936db1c6734"
      },
      "source": [
        "Pila = []\n",
        "\n",
        "Pila.append('Hola')\n",
        "Pila.append(10)\n",
        "\n",
        "print(Pila)\n",
        "\n",
        "print(Pila.pop())\n",
        "Pila.append('Dos')\n",
        "Pila.append(100)\n",
        "Pila.append(5)\n",
        "\n",
        "print(Pila)\n",
        "\n",
        "print(Pila.pop())\n",
        "print(Pila.pop())\n",
        "\n",
        "print(Pila)"
      ],
      "execution_count": null,
      "outputs": [
        {
          "output_type": "stream",
          "text": [
            "['Hola', 10]\n",
            "10\n",
            "['Hola', 'Dos', 100, 5]\n",
            "5\n",
            "100\n",
            "['Hola', 'Dos']\n"
          ],
          "name": "stdout"
        }
      ]
    },
    {
      "cell_type": "markdown",
      "metadata": {
        "id": "22L4ri-fxG2w"
      },
      "source": [
        "Una gran desventaja de implementar una pila de esta forma, es que las forma en la que están implementadas las listas de Python hacen que la complejidad de append y pop sea $O(n)$ en cuanto a tiempo.\n",
        "\n",
        "Otra forma de implementar una pila en Python es usando la estructura $deque$, la cual, a diferencia de una lista, nos permite hacer las operaciones deseadas en tiempo constante."
      ]
    },
    {
      "cell_type": "code",
      "metadata": {
        "id": "4PP0cNUJx-RK",
        "colab": {
          "base_uri": "https://localhost:8080/",
          "height": 118
        },
        "outputId": "51053df9-2143-46c2-b618-c6e842ca1c91"
      },
      "source": [
        "from collections import deque\n",
        "\n",
        "Pila2 = deque()\n",
        "\n",
        "Pila2.append('Hola')\n",
        "Pila2.append(10)\n",
        "\n",
        "print(Pila2)\n",
        "\n",
        "print(Pila2.pop())\n",
        "Pila2.append('Dos')\n",
        "Pila2.append(100)\n",
        "Pila2.append(5)\n",
        "\n",
        "print(Pila2)\n",
        "\n",
        "print(Pila2.pop())\n",
        "print(Pila2.pop())\n",
        "\n",
        "print(Pila2)"
      ],
      "execution_count": null,
      "outputs": [
        {
          "output_type": "stream",
          "text": [
            "deque(['Hola', 10])\n",
            "10\n",
            "deque(['Hola', 'Dos', 100, 5])\n",
            "5\n",
            "100\n",
            "deque(['Hola', 'Dos'])\n"
          ],
          "name": "stdout"
        }
      ]
    },
    {
      "cell_type": "markdown",
      "metadata": {
        "id": "jgskV18w6_Xb"
      },
      "source": [
        "Veamos un ejemplo en el que es muy útil esta estructura. Consideremos el siguiente problema:\n",
        "\n",
        "Dado un histograma (gráfica de barras) donde cada barra tiene una altura entera no negativa, encuentra el rectángulo (formado por barras consecutivas) con mayor área posible. \n",
        "\n",
        "Un primer algoritmo para resolver este problema podría ser encontrar para cada altura posible, el rectángulo más largo con dicha altura. Esto en principio puede costarnos tiempo cuadrático en resolver.\n",
        "\n",
        "¿Qué pasa si para cada barra del histograma calculamos el rectángulo más largo tal que esta barra es la más corta que aparece? Esto en efecto nos permite encontrar el rectángulo de mayor área, y nos basta con encontrar para cada barra, las primeras barras a su izquierda y a su derecha que son más chicas que ella.\n",
        "\n",
        "Entonces hemos transformado nuestro problema al siguiente:\n",
        "Dada una lista de enteros, determinar para cada entero de la lista, cuál es el primero número a su derecha que es menor que él.\n",
        "\n",
        "Para esto es para lo que utilizaremos una pila, siguiendo los siguientes pasos:\n",
        "\n",
        "*   Creamos una pila $P$, y comenzamos a recorrer los elementos de nuestra lista de izquierda a derecha.\n",
        "*   En cada paso de este recorrido, tenemos dos posibilidades:\n",
        "  *   Si $P$ está vacía, le agregarmos el elemento que está visitando.\n",
        "  *   Si $P$ no está vacía, comprobamos si el último elemento de la pila es mayor que el elemento que estamos visitando, de ser así, sacamos a dicho elemento de la pila y le asignamos la posición del elemento en el que estamos, y repetimos este proceso hasta que $P$ quede vacía o que el último elemento de $P$ sea menor o igual que el actual. Finalmente, insertamos el elemento actual a la pila $P$.\n",
        "* Si ya recorrimos todos los elementos de la lista, y $P$ no está vacía, a todos los elementos de $P$ les asignamos una posición más allá del final de la lista.\n",
        "\n",
        "\n",
        "Este algoritmo nos permite identificar cuál es el primer elemento a su derecha que es menor que él. Pero nosotros queremos encontrar esto tanto para la izquierda como para la derecha. ¿Qué hacer? Repetimos el algoritmo, pero ahora iteramos nuestra lista de derecha a izquierda.\n",
        "\n",
        "Finalmente, para cada barra en el histograma, calculamos el área del rectángulo que la tiene como la barra más chica, y actualizamos un máximo sobre las áreas calculadas.\n",
        "\n"
      ]
    },
    {
      "cell_type": "code",
      "metadata": {
        "id": "5dYG-cz1aE4a",
        "colab": {
          "base_uri": "https://localhost:8080/",
          "height": 34
        },
        "outputId": "ca6fcaf2-99aa-485e-dfa1-b3552d63e7ac"
      },
      "source": [
        "Hist = [6, 2, 5, 4, 5, 1, 6]\n",
        "\n",
        "left = [-1]*len(Hist) # Guarda la posición del menor elemento a la izquierda\n",
        "right = [len(Hist)] * len(Hist) # Guarda la posición del menor elemento a la derecha\n",
        "stack = deque()\n",
        "\n",
        "def find_right():\n",
        "  for i in range(0, len(Hist)):\n",
        "    while(stack and stack[-1][0] > Hist[i]):\n",
        "      right[stack[-1][1]] = i\n",
        "      stack.pop()\n",
        "    stack.append((Hist[i], i))\n",
        "  stack.clear() #Borramos todos los elementos restantes\n",
        "  return\n",
        "\n",
        "def find_left():\n",
        "  for i in range(len(Hist) - 1, -1, -1):\n",
        "    while(stack and stack[-1][0] > Hist[i]):\n",
        "      left[stack[-1][1]] = i\n",
        "      stack.pop()\n",
        "    stack.append((Hist[i], i))\n",
        "  return\n",
        "\n",
        "find_left()\n",
        "find_right()\n",
        "\n",
        "max_area = 0\n",
        "\n",
        "for i in range(0, len(Hist)):\n",
        "  b = right[i] - left[i] - 1\n",
        "  A = b*Hist[i]\n",
        "  if(A > max_area):\n",
        "    max_area = A\n",
        "\n",
        "\n",
        "print(max_area)"
      ],
      "execution_count": null,
      "outputs": [
        {
          "output_type": "stream",
          "text": [
            "12\n"
          ],
          "name": "stdout"
        }
      ]
    },
    {
      "cell_type": "markdown",
      "metadata": {
        "id": "oU4IUT6AoTLX"
      },
      "source": [
        "Queda como ejercicio determinar las complejidades en tiempo y espacio del algoritmo presentado. "
      ]
    },
    {
      "cell_type": "markdown",
      "metadata": {
        "id": "io06woBAr3OA"
      },
      "source": [
        "**Colas.** Se dice que funcionan bajo el principio FIFO: first-in, first-out. Lo que esto quiere decir es que cada que sacamos un elemento de nuestra cola, se nos devolverá el primer elemento que fue introducido (funciona como la fila para comprar las tortillas). En el algoritmo de BFS ya vimos cómo se usa una estructura como esta, usando la estructura $deque$:\n"
      ]
    },
    {
      "cell_type": "code",
      "metadata": {
        "id": "wXmeg0Ixt6J0",
        "colab": {
          "base_uri": "https://localhost:8080/",
          "height": 118
        },
        "outputId": "85e325c1-816d-4046-fb52-4f1220719c52"
      },
      "source": [
        "Cola = deque()\n",
        "\n",
        "Cola.append('Hola')\n",
        "Cola.append(10)\n",
        "\n",
        "print(Cola)\n",
        "\n",
        "print(Cola.popleft())\n",
        "Cola.append('Dos')\n",
        "Cola.append(100)\n",
        "Cola.append(5)\n",
        "\n",
        "print(Cola)\n",
        "\n",
        "print(Cola.popleft())\n",
        "print(Cola.popleft())\n",
        "\n",
        "print(Cola)"
      ],
      "execution_count": null,
      "outputs": [
        {
          "output_type": "stream",
          "text": [
            "deque(['Hola', 10])\n",
            "Hola\n",
            "deque([10, 'Dos', 100, 5])\n",
            "10\n",
            "Dos\n",
            "deque([100, 5])\n"
          ],
          "name": "stdout"
        }
      ]
    },
    {
      "cell_type": "markdown",
      "metadata": {
        "id": "rD51LsItuNv-"
      },
      "source": [
        "**Diccionarios** Un diccionario es un conjunto de objetos que constan de una llave (key) y un objeto asignado a dicha llave. Veamos cómo definir un diccionario en Python y consultar sus elementos:"
      ]
    },
    {
      "cell_type": "code",
      "metadata": {
        "id": "ET89_J586iE4",
        "colab": {
          "base_uri": "https://localhost:8080/"
        },
        "outputId": "fe375d08-71eb-44fd-f3de-f566f8b6baaa"
      },
      "source": [
        "dic = {'key1' : 2, 'key2' : 'hola', 3 : 'salida', 4 : 123}\n",
        "\n",
        "print(dic)\n",
        "print(dic[3])\n",
        "dic['key1'] = 4\n",
        "print(dic['key1'])\n",
        "# print(dic[2]) si usamos una llave que no existe se obtiene un error\n",
        "\n",
        "# Podemos checar si determinada llave existe o no en el diccionario\n",
        "if(2 in dic):\n",
        "  print('El valor de la llave es :', dic[2])\n",
        "else : \n",
        "  dic[2] = 'Llave agregada'\n",
        "  print('Se agregó la llave')\n",
        "\n",
        "# También podemos remover una llave en específico\n",
        "dic.pop(3)\n",
        "\n",
        "print(dic)"
      ],
      "execution_count": null,
      "outputs": [
        {
          "output_type": "stream",
          "text": [
            "{'key1': 2, 'key2': 'hola', 3: 'salida', 4: 123}\n",
            "salida\n",
            "4\n",
            "Se agregó la llave\n",
            "{'key1': 4, 'key2': 'hola', 4: 123, 2: 'Llave agregada'}\n"
          ],
          "name": "stdout"
        }
      ]
    },
    {
      "cell_type": "markdown",
      "metadata": {
        "id": "cSqyaffJFMJ7"
      },
      "source": [
        "Veamos ahora un ejemplo de un algoritmo en donde el uso de esta estructura nos facilita las cosas.\n",
        "\n",
        "Consideremos el siguiente problema: tenemos una lista de números $L$ y un número $s$, se quiere determinar si existen dos elementos de $L$ tales que su suma sea $s$, en caso de existir, imprime las posiciones de dichos elementos en $L$.\n",
        "\n",
        "Una primer idea para atacar este problema sería iterar sobre todas las parejas posibles y verificar si su suma es $s$. Sin embargo, un diccionario nos permite reducir la complejidad del algoritmo de 'fuerza bruta'. Vamos a iterar sobre los elementos de $L$, y en cada momento, si estamos en el elemento $a$, verificamos si la llave $s-a$ existe en el diccionario, de ser así, hemos encontrado una pareja que cumple lo deseado. En caso contrario, agredamos la llave $a$ con valor la posición de $a$ al diccionario. "
      ]
    },
    {
      "cell_type": "code",
      "metadata": {
        "id": "uKGBSatczkff",
        "colab": {
          "base_uri": "https://localhost:8080/"
        },
        "outputId": "665c531f-7311-45a9-f769-a8bb4cd30286"
      },
      "source": [
        "L = [1, 5, 2, 7, 8, 12, 18, 32, 21, 42, 10]\n",
        "\n",
        "dic = {}\n",
        "\n",
        "def suma_parejas(s):\n",
        "  for i in range (0, len(L)):\n",
        "    if(s - L[i] in dic):\n",
        "      print(\"Los valores en posición :\", dic[s - L[i]] + 1, \" y \", i + 1, \"suman \", s)\n",
        "      return True\n",
        "    else:\n",
        "      dic[L[i]] = i\n",
        "  return False\n",
        "\n",
        "if(not suma_parejas(28)):\n",
        "  print(\"No existen parejas que sumen \", s)"
      ],
      "execution_count": null,
      "outputs": [
        {
          "output_type": "stream",
          "text": [
            "Los valores en posición : 4  y  9 suman  28\n"
          ],
          "name": "stdout"
        }
      ]
    },
    {
      "cell_type": "markdown",
      "metadata": {
        "id": "0uFu1eEJ29f0"
      },
      "source": [
        "Para conocer más operaciones que se pueden hacer en las estructuras de datos más comunes, así como las complejidades de estas, pueden consultar la páigna https://wiki.python.org/moin/TimeComplexity"
      ]
    },
    {
      "cell_type": "markdown",
      "metadata": {
        "id": "3PsfVguVqtXZ"
      },
      "source": [
        "**Ejercicios**\n",
        "\n",
        "\n",
        "1.   Determina y argumenta las complejidades en tiempo y espacio del algoritmo para el área máxima de un rectángulo en un histograma. \n",
        "2.   Podemos pensar de cierta forma, que los algoritmos de BFS y DFS son 'duales', mientras que las estructuras de pila y cola también son 'duales'. Nuestra implementación de BFS fue usando una cola, implementa el algoritmo de DFS usando una pila.\n",
        "3. Dada una lista de números $L$ (puede que no esté ordenada) y un número $d$, se quiere determinar si existen dos elementos de $L$ tales que su diferencia sea $d$, en caso de existir, imprime las posiciones de dichos elementos en $L$. Verifica tu algoritmo con la lista $L = [1, 5, 9, 14, 18, 24, 27, 32, 35]$, para $d = 1, 4, 14, 19, 20$.\n"
      ]
    },
    {
      "cell_type": "markdown",
      "metadata": {
        "id": "kRKKY8YL2wkY"
      },
      "source": [
        "*Ejercicio 1.* Aquí va la respuesta argumentada del primer ejercicio."
      ]
    },
    {
      "cell_type": "markdown",
      "metadata": {
        "id": "WCdyC-zN3WD1"
      },
      "source": [
        "*Ejercicio 2.* Nota que en lugar de llamar a la función DFS de manera recursiva, se puede implementar usando por ejemplo un ciclo $while$ al igual que se hizo con el BFS."
      ]
    },
    {
      "cell_type": "code",
      "metadata": {
        "id": "1Sg1WeCm8Aj9"
      },
      "source": [
        "# (Aquí va tu código de DFS usando una pila)"
      ],
      "execution_count": null,
      "outputs": []
    },
    {
      "cell_type": "markdown",
      "metadata": {
        "id": "8jnDPdo08FyB"
      },
      "source": [
        "*Ejercicio 3.* Describe a continuación los pasos de tu algoritmo."
      ]
    },
    {
      "cell_type": "code",
      "metadata": {
        "id": "xz3OHI018NlD"
      },
      "source": [
        "# (Aquí va el código del algoritmo que describiste)"
      ],
      "execution_count": null,
      "outputs": []
    }
  ]
}