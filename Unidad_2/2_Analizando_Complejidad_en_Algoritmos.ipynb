{
  "nbformat": 4,
  "nbformat_minor": 0,
  "metadata": {
    "colab": {
      "name": "Analizando Complejidad en Algoritmos.ipynb",
      "provenance": [],
      "collapsed_sections": [],
      "include_colab_link": true
    },
    "kernelspec": {
      "name": "python3",
      "display_name": "Python 3"
    }
  },
  "cells": [
    {
      "cell_type": "markdown",
      "metadata": {
        "id": "view-in-github",
        "colab_type": "text"
      },
      "source": [
        "<a href=\"https://colab.research.google.com/github/RodolfoFigueroa/madi2022-1/blob/main/2_Analizando_Complejidad_en_Algoritmos.ipynb\" target=\"_parent\"><img src=\"https://colab.research.google.com/assets/colab-badge.svg\" alt=\"Open In Colab\"/></a>"
      ]
    },
    {
      "cell_type": "markdown",
      "metadata": {
        "id": "ycgcgz06MxZr"
      },
      "source": [
        "En esta sesión veremos algunos ejemplos de algoritmos (unos nuevos, y otros que ya hemos visto) y analizaremos sus complejidades, ya sea en tiempo, memoria o ambas. Comenzaremos con algunas cosas que ya hemos visto antes."
      ]
    },
    {
      "cell_type": "markdown",
      "metadata": {
        "id": "d1iAEuxWNdvN"
      },
      "source": [
        "**Ejemplo 1.** En la práctica de inducción, teníamos el siguiente problema:\n",
        "\n",
        "Encuentra el valor de $$\\Big\\lfloor \\frac{1}{2}\\Big \\rfloor + \\Big\\lfloor \\frac{2}{2}\\Big \\rfloor + \\cdots + \\Big\\lfloor \\frac{n}{2}\\Big \\rfloor$$\n",
        "\n",
        "Este problema se puede resolver de forma sencilla utilizando un ciclo for, en donde cada iteración vamos agregando un nuevo sumando al valor de la suma hasta ese momento. ¿Qué complejidad tiene hacer esto en tiempo y en memoria?\n",
        "\n",
        "En tiempo, es $O(n)$, pues estamos haciendo $n$ operaciones, una en cada ciclo. En memoria, es constante, pues lo único que tenemos que ir recordando es el valor de la suma en cada momento, es decir, es $O(1)$.\n",
        "\n",
        "Nosotros habíamos encontrado una fórmula, teniendo ya la fórmula para esta suma, ¿cómo cambian las complejidades? Como podemos aplicar la fórmula para el valor de la suma, tenemos que hacer una cantidad constante de operaciones, lo que reduce el tiempo de $O(n)$ a $O(1)$, mientras que la complejidad de memoria se mantiente constante."
      ]
    },
    {
      "cell_type": "markdown",
      "metadata": {
        "id": "PHBjq3mPPedF"
      },
      "source": [
        "**Ejemplo 2.** Pasemos a un ejemplo más interesante. Supongamos que tenemos que diseñar un algoritmo tal que dado un entero positivo $n$ y un número real $x$, tenemos que encontrar el valor de $x^n$, pero utilizando únicamente operaciones básicas (suma, resta, multiplicación y división).\n",
        "\n",
        "Un primer algoritmo para hacer esto sería lo siguiente:"
      ]
    },
    {
      "cell_type": "code",
      "metadata": {
        "id": "aSFCHyjjP_PW",
        "colab": {
          "base_uri": "https://localhost:8080/",
          "height": 185
        },
        "outputId": "7ac043b7-ce4f-4c84-9d92-caf1b85d6bdd"
      },
      "source": [
        "def potencia(x, n):\n",
        "  p = x\n",
        "  for i in range(2, n+1):\n",
        "    p = p*x\n",
        "    print(p)\n",
        "  return p\n",
        "\n",
        "print(potencia(2,10))"
      ],
      "execution_count": null,
      "outputs": [
        {
          "output_type": "stream",
          "text": [
            "4\n",
            "8\n",
            "16\n",
            "32\n",
            "64\n",
            "128\n",
            "256\n",
            "512\n",
            "1024\n",
            "1024\n"
          ],
          "name": "stdout"
        }
      ]
    },
    {
      "cell_type": "markdown",
      "metadata": {
        "id": "-xa3l1h7YSoo"
      },
      "source": [
        "¿Cuáles son las complejidades de este algoritmo? En tiempo, nos toma $O(n)$, pues estamos iterando $n$ veces y en cada una hacemos una cantidad constante de operaciones, mientras que es constante en memoria, pues sólo actualizamos el valor de $p$ en cada iteración. \n",
        "\n",
        "¿Cómo podemos optimizar este algoritmo? Notemos que si $n = 2k$, entonces $x^n = (x^k)^2$, mientras que si $n = 2k+1$, $x^n = (x^k)^2 \\cdot x$. Usemos esto para obtener un algoritmo que sea mejor en cuanto a tiempo de ejecución."
      ]
    },
    {
      "cell_type": "code",
      "metadata": {
        "id": "KCsN1Fn62G9j",
        "colab": {
          "base_uri": "https://localhost:8080/",
          "height": 34
        },
        "outputId": "bf921934-3e9b-4ac9-9904-68416f89bde8"
      },
      "source": [
        "def potencia_2(x, n):\n",
        "  if(n == 1):\n",
        "    return x\n",
        "  p = potencia_2(x, n//2)\n",
        "  if(n%2):\n",
        "    return x*p*p\n",
        "  else:\n",
        "    return p*p\n",
        " \n",
        "print(potencia_2(2, 10))"
      ],
      "execution_count": null,
      "outputs": [
        {
          "output_type": "stream",
          "text": [
            "1024\n"
          ],
          "name": "stdout"
        }
      ]
    },
    {
      "cell_type": "markdown",
      "metadata": {
        "id": "3Q-ElBFw3Kyl"
      },
      "source": [
        "Notemos que ahora el tiempo de ejecución disminuye considerablemente, pues hacemos un promedio de $log_2(n)$ iteraciones, en donde hacemos una cantidad constante de operaciones en cada iteración, por lo que la complejidad en tiempo del algoritmo es $O(log(n)$. Sin embargo, la complejidad en cuanto a memoria se ve afectada, ya que nuestra pila de recursión alcanza un promedio de $log_2(n)$ de profundidad, lo que hace que la complejidad de nuestro nuevo algoritmo en memoria sea $O(log(n))$.\n",
        "\n",
        "Este ejemplo ilustra algo que es muy común en análisis de algoritmos, en muchas ocasiones es conveniente sacrificar un poco de memoria a cambio de una gran mejora en el tiempo de ejecución, pues bajar el tiempo de $O(n)$ a $O(log(n))$ es una gran mejora, mientras que aumentar la complejidad en espacio de $O(1)$ a $O(log(n))$ no es tan significativo. La programación dinámica nos permite trabajar situaciones similares, donde almacenar valores suele ser muy conveniente para poder mejorar el tiempo de ejecución de los algoritmos.\n",
        "\n",
        "Regresemos a analizar un poco más a fondo el ejemplo que acabamos de ver. La forma en la que lidiamos con esto es comunmente conocida como exponenciación binaria, ¿por qué es útil? Bien podríamos haber utilizado alguna de las muchas funciones que nos permiten conocer las potencias de números en python. Sin embargo, pensemos en el siguiente problema: \n",
        "\n",
        "Encuentra el residuo de $1234567^{1234567}$ al ser dividido por $10^9+7 = 10000007$ (este número se usa mucho pues es grande y es primo). Elevar el número definitivamente no es una opción, ¿qué podemos hacer? Podemos utilizar exponenciación binaria y en cada paso obtener la congruencia correspondiente:"
      ]
    },
    {
      "cell_type": "code",
      "metadata": {
        "id": "gxLvg-Un6Dr0",
        "colab": {
          "base_uri": "https://localhost:8080/",
          "height": 34
        },
        "outputId": "49e5df02-e843-4bb5-b4c6-c98686d2e3e5"
      },
      "source": [
        "mod = 1000000007\n",
        "\n",
        "def potencia_mod(x, n, mod):\n",
        "  if(n == 1):\n",
        "    return x%mod\n",
        "  p = potencia_2(x, n//2)\n",
        "  p = (p*p)%mod\n",
        "  if(n%2):\n",
        "    return (x*p)%mod\n",
        "  else:\n",
        "    return p\n",
        "  \n",
        "print(potencia_mod(1234567, 1234567, mod))"
      ],
      "execution_count": null,
      "outputs": [
        {
          "output_type": "stream",
          "text": [
            "496463181\n"
          ],
          "name": "stdout"
        }
      ]
    },
    {
      "cell_type": "markdown",
      "metadata": {
        "id": "JZklEwUr6tWG"
      },
      "source": [
        "**Ejemplo 3.** Recordemos una sucesión de la que hemos hablado en el pasado: la sucesión de Fibonacci. Supongamos que se nos pide encontrar el $n-$ésimo valor de esta sucesión, es decir, $F_n$.\n",
        "\n",
        "Un primer algoritmo para hacer esto, sería hacer una recursión que calcule los valores de Fibonacci:"
      ]
    },
    {
      "cell_type": "code",
      "metadata": {
        "id": "S8O5d2rmLQ9u",
        "colab": {
          "base_uri": "https://localhost:8080/",
          "height": 34
        },
        "outputId": "695f221d-f655-4067-cad5-d2f5b09aca47"
      },
      "source": [
        "def fib(n):\n",
        "  if(n == 0):\n",
        "    return 0\n",
        "  if(n == 1):\n",
        "    return 1\n",
        "  return fib(n-1)+fib(n-2)\n",
        "\n",
        "print(fib(8))"
      ],
      "execution_count": null,
      "outputs": [
        {
          "output_type": "stream",
          "text": [
            "21\n"
          ],
          "name": "stdout"
        }
      ]
    },
    {
      "cell_type": "markdown",
      "metadata": {
        "id": "ou_KVtjdLy6K"
      },
      "source": [
        "¿Cuáles son las complejidades de este algoritmo? Notemos que la pila de recursión tiene como longitud máxima $n$, y como no guardamos variables, se concluye que la complejidad en memoria del algoritmo es $O(n)$. Supongamos que ya se tienen los valores de $fib(n-1)$ y $fib(n-2)$, en ese caso, al llamar $fib(n)$, se hace una cantidad constante de operaciones, entonces la complejidad en tiempo será determinada por la cantidad de veces que llamamos a la función $fib$, veamos que como para cada $n > 1$, requerimos llamar a la función $fib$ dos veces, se concluye que la complejidad en tiempo es $O(2^n)$.\n",
        "\n",
        "¿Cómo mejorar esto? ¿Qué pasa si guardamos los valores de los Fibonaccis que vamos calculando? Es decir, guardamos el valor de $F_k$ la primera vez que llamemos a $fib(k)$."
      ]
    },
    {
      "cell_type": "code",
      "metadata": {
        "id": "N9ZIbGlVNY3K",
        "colab": {
          "base_uri": "https://localhost:8080/",
          "height": 50
        },
        "outputId": "8a955581-818d-4280-d664-eff4917167d7"
      },
      "source": [
        "n = int(input())\n",
        "\n",
        "Fs = [-1]*(n+1)\n",
        "\n",
        "def fib2(k):\n",
        "  if(k == 0):\n",
        "    return 0\n",
        "  if(k == 1):\n",
        "    return 1\n",
        "  if(Fs[k] != -1):\n",
        "    return Fs[k]\n",
        "  else:\n",
        "    Fs[k] = fib2(k-1)+fib(k-2) \n",
        "    return Fs[k]\n",
        "\n",
        "print(fib2(n))"
      ],
      "execution_count": null,
      "outputs": [
        {
          "output_type": "stream",
          "text": [
            "8\n",
            "21\n"
          ],
          "name": "stdout"
        }
      ]
    },
    {
      "cell_type": "markdown",
      "metadata": {
        "id": "qXP88u6qO3YU"
      },
      "source": [
        "¿Cuáles son las complejidades de este algoritmo? En cuanto a memoria, tenemos lo mismo que en el algoritmo anterior en la pila de recursión, y además estamos agregando $Fs[]$, pero tiene una cantidad lineal de entradas, por lo que la complejidad en espacio sigue siendo $O(n)$. La complejidad en tiempo mejora considerablemente, pues ahora $fib(k)$ llama a $fib(k-1), fib(k-2)$ únicamente una vez,  lo que permite que la complejidad ahora sea $O(n)$.\n",
        "\n",
        "Hemos ilustrado de nuevo el principio de la programación dinámica, guardar valores suele ser muy útil para reducir considerablemente la complejidad en tiempo de un algoritmo.\n",
        "\n",
        "Estos algoritmos nos permiten encontrar el valor de $F_n$ de manera recursiva, ¿lo podemos hacer de forma iterativa? Es decir, de atrás para adelante. Sí podemos:"
      ]
    },
    {
      "cell_type": "code",
      "metadata": {
        "id": "Byezw4CKQ5M6",
        "colab": {
          "base_uri": "https://localhost:8080/",
          "height": 34
        },
        "outputId": "042f9948-6e00-45a4-cd7b-43fbfecca514"
      },
      "source": [
        "def fib3(n):\n",
        "  if(n == 0):\n",
        "    return 0\n",
        "  if(n == 1):\n",
        "    return 1\n",
        "  c = 1\n",
        "  k1 = 0\n",
        "  k2 = 1\n",
        "  while(c != n):\n",
        "    temp = k1\n",
        "    k1 = k2\n",
        "    k2 = temp + k1\n",
        "    c = c+1\n",
        "  return k2\n",
        "\n",
        "print(fib3(8))"
      ],
      "execution_count": null,
      "outputs": [
        {
          "output_type": "stream",
          "text": [
            "21\n"
          ],
          "name": "stdout"
        }
      ]
    },
    {
      "cell_type": "markdown",
      "metadata": {
        "id": "HnyMLqfeRvza"
      },
      "source": [
        "¿Cuáles son las complejidades de este algoritmo? En cuanto a memoria, notemos que ocupamos constante en la pila de recursión (llamamos sólo una vez a $fib3(n)$), y nuestras únicas variables son $c, k1, k2$, por lo que la complejidad en espacio es $O(1)$. La complejidad en tiempo es $O(n)$, pues hacemos el $while$ hasta llegar a $n$, sumando $1$ a $c$ en cada paso. \n",
        "\n",
        "Esto nos muestra algo que también es bastante común, hacer un algoritmo de forma iterativa suele hacerlo más eficiente, ya sea en espacio, en tiempo o ambas. Sin embargo, muchas veces es muy complicado pasar de algo recursivo a algo iterativo."
      ]
    },
    {
      "cell_type": "markdown",
      "metadata": {
        "id": "yaR8YMk7PruC"
      },
      "source": [
        "**Ejemplo 4.** Analicemos las complejidades de el algoritmo de DFS, que vimos anteriormente. Recordemos el cómo era este algoritmo, exploramos los caminos de la gráfica hasta llegar a algún vértice que ya había sido visitado, y nos regresamos al vértice anterior para continuar explorando:"
      ]
    },
    {
      "cell_type": "code",
      "metadata": {
        "id": "EGuqGML5TDgZ"
      },
      "source": [
        "n = 8\n",
        "p = 1/3\n",
        "\n",
        "G = nx.gnp_random_graph(n, p)\n",
        "print(G.edges, '\\n')\n",
        "nx.draw(G, with_labels=True, font_weight='bold', node_color='#71A125')\n",
        "\n",
        "vis = [0]*n\n",
        "\n",
        "def dfs(v):\n",
        "  vis[v] = 1\n",
        "  print(v)\n",
        "  for u in G.adj[v]:\n",
        "    if vis[u] == 0 :\n",
        "      dfs(u)\n",
        "  return\n",
        "\n",
        "dfs(0)"
      ],
      "execution_count": null,
      "outputs": []
    },
    {
      "cell_type": "markdown",
      "metadata": {
        "id": "sz0PXE24TUlQ"
      },
      "source": [
        "Estamos analizando la complejidad únicamente del algoritmo, es decir, podemos omitir por el momento el espacio que ocupa la gráfica $G$ por sí misma. Sea $n$ la cantidad de vértices y $m$ la cantidad de aristas. En cuanto a memoria, tenemos el vector $vis$ que guarda $n$ valores, y en cuanto a la pila de recursión, podría darse el caso en el que se llegue a una profundidad de $n$, entonces, la complejidad en espacio es $O(n)$. Para la complejidad en tiempo, notemos que cada arista puede ser usada a lo más una vez, y exploramos a partir de cada vértice exactamente una vez, por lo que la complejidad en tiempo de DFS es $O(n + m)$."
      ]
    },
    {
      "cell_type": "markdown",
      "metadata": {
        "id": "79t_wVyqUYcX"
      },
      "source": [
        "**Ejercicios**\n",
        "\n",
        "1.   Determina las complejidades en tiempo y espacio del algoritmo de BFS visto en clases pasadas.\n",
        "2.   Considera el siguiente problema: Dado un entero $n$, encuentra el valor de $1! + 2! + \\cdots + n!$. \n",
        "\n",
        "  a)   Describe e implementa un algoritmo que tenga complejidad $O(1)$ en espacio, ¿cuál es su complejidad en tiempo? \n",
        "  \n",
        "  b)   Describe e implementa un algoritmo que tenga complejidad $O(n)$ en tiempo, ¿cuál es su complejidad en espacio?\n",
        "\n"
      ]
    },
    {
      "cell_type": "markdown",
      "metadata": {
        "id": "MhCg_DTDd-uo"
      },
      "source": [
        "*Ejercicio 1.* A continuación se muestra el código de la implementación de BFS que vimos antes:"
      ]
    },
    {
      "cell_type": "code",
      "metadata": {
        "id": "5SyRs7IlePJJ"
      },
      "source": [
        "from collections import deque \n",
        "\n",
        "n = 10\n",
        "p = 0.25\n",
        "\n",
        "G = nx.gnp_random_graph(n, p)\n",
        "print(G.nodes)\n",
        "print(G.edges, '\\n')\n",
        "nx.draw(G, with_labels=True, font_weight='bold', node_color='#71A125')\n",
        "\n",
        "vis = [0]*n\n",
        "\n",
        "def bfs(v):\n",
        "  q = deque()\n",
        "  vis[v] = 1\n",
        "  q.append(v)\n",
        "  while(q):\n",
        "    u = q.popleft()\n",
        "    print(u)\n",
        "    for w in G.adj[u]:\n",
        "      if vis[w] == 0:\n",
        "        vis[w] = 1\n",
        "        q.append(w)\n",
        "  print('\\n')\n",
        "  return\n",
        "    \n",
        "bfs(0)"
      ],
      "execution_count": null,
      "outputs": []
    },
    {
      "cell_type": "markdown",
      "metadata": {
        "id": "-Sq5ZBi_eQAn"
      },
      "source": [
        "Escribe aquí o sube una foto donde determines las complejidades en tiempo y espacio de este algoritmo, argumentando por qué lo son."
      ]
    },
    {
      "cell_type": "markdown",
      "metadata": {
        "id": "-Kn6pfGpecXx"
      },
      "source": [
        "*Ejercicio 2. a)* Describe aquí el algoritmo solicitado."
      ]
    },
    {
      "cell_type": "code",
      "metadata": {
        "id": "Uw83N-QJfXcB"
      },
      "source": [
        "#(Aquí va el código de la implementación del algoritmo que describiste en la celda anterior)"
      ],
      "execution_count": null,
      "outputs": []
    },
    {
      "cell_type": "markdown",
      "metadata": {
        "id": "SLs0OWpafdm5"
      },
      "source": [
        "*Ejercicio 2. b)* Describe aquí el algoritmo solicitado."
      ]
    },
    {
      "cell_type": "code",
      "metadata": {
        "id": "xBs5UuNdfdv8"
      },
      "source": [
        "#(Aquí va el código de la implementación del algoritmo que describiste en la celda anterior)"
      ],
      "execution_count": null,
      "outputs": []
    }
  ]
}