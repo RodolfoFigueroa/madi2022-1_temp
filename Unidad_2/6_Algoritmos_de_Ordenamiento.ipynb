{
  "nbformat": 4,
  "nbformat_minor": 0,
  "metadata": {
    "colab": {
      "name": "Algoritmos de Ordenamiento.ipynb",
      "provenance": [],
      "collapsed_sections": [],
      "include_colab_link": true
    },
    "kernelspec": {
      "name": "python3",
      "display_name": "Python 3"
    }
  },
  "cells": [
    {
      "cell_type": "markdown",
      "metadata": {
        "id": "view-in-github",
        "colab_type": "text"
      },
      "source": [
        "<a href=\"https://colab.research.google.com/github/RodolfoFigueroa/madi2022-1/blob/main/6_Algoritmos_de_Ordenamiento.ipynb\" target=\"_parent\"><img src=\"https://colab.research.google.com/assets/colab-badge.svg\" alt=\"Open In Colab\"/></a>"
      ]
    },
    {
      "cell_type": "markdown",
      "metadata": {
        "id": "WBoB98uhCvF4"
      },
      "source": [
        "En esta sesión veremos algunos algoritmos de ordenamiento. Se irán presentando implementaciones de dichos algoritmos, el alumno deberá analizarlos y determinar cosas como correctitud, es decir, si el algoritmo en efecto ordena los elementos de una lista dada, complejidades en tiempo y en espacio, así como identificar si es algún algoritmo visto previamente en clase.\n",
        "\n",
        "A modo de nota, siempre supondremos que la lista de números que se nos está dando es no vacía."
      ]
    },
    {
      "cell_type": "code",
      "metadata": {
        "id": "imjoH3kOEfbF",
        "colab": {
          "base_uri": "https://localhost:8080/"
        },
        "outputId": "28e5516b-b98d-4cf9-e7a0-31c813582b65"
      },
      "source": [
        "import random \n",
        "\n",
        "# Lista = [random.uniform(0,20) for i in range(10)]\n",
        "Lista = [random.randrange(10, 20, 1) for i in range(10)] \n",
        "\n",
        "print(Lista)"
      ],
      "execution_count": null,
      "outputs": [
        {
          "output_type": "stream",
          "text": [
            "[13, 14, 11, 19, 14, 19, 17, 11, 10, 12]\n"
          ],
          "name": "stdout"
        }
      ]
    },
    {
      "cell_type": "markdown",
      "metadata": {
        "id": "a1Obj3bFDwLU"
      },
      "source": [
        "*Ejemplo 1.* "
      ]
    },
    {
      "cell_type": "code",
      "metadata": {
        "id": "HbJhHPEIEOkY",
        "colab": {
          "base_uri": "https://localhost:8080/"
        },
        "outputId": "6a67d5b6-ce7e-43cd-ab9a-adf06714b829"
      },
      "source": [
        "def sort1(L):\n",
        "  maxi = L[0]\n",
        "  mini = L[0]\n",
        "  for i in range (1, len(L)):\n",
        "    if(maxi < L[i]): \n",
        "      maxi = L[i]\n",
        "    if(mini > L[i]):\n",
        "      mini = L[i]\n",
        "  arr = [0]*(maxi - mini + 1)\n",
        "  for i in range(0, len(L)):\n",
        "    arr[L[i] - mini] += 1\n",
        "  for i in range(0, len(arr)):\n",
        "    for j in range(0, arr[i]):\n",
        "      print(i + mini)\n",
        "\n",
        "sort1(Lista)\n",
        "  "
      ],
      "execution_count": null,
      "outputs": [
        {
          "output_type": "stream",
          "text": [
            "10\n",
            "11\n",
            "11\n",
            "12\n",
            "13\n",
            "14\n",
            "14\n",
            "17\n",
            "19\n",
            "19\n"
          ],
          "name": "stdout"
        }
      ]
    },
    {
      "cell_type": "markdown",
      "metadata": {
        "id": "A2na1Dlj6MxI"
      },
      "source": [
        "El algoritmo anterior es conocido como *counting sort*, que justamente consiste en contar las ocurrencias de cada número, lo que nos permitirá saber el orden de los elementos de la lista, siempre y cuando los elementos de la lista sean enteros (o tengamos información suficiente sobre las diferencias de los elementos). ¿Cuáles son las complejidades de este algoritmo? Tanto en tiempo como en memoria se tiene que es $O(n+k)$, donde $k$ es la longitud del intervalo entre el mayor y el menor elemento de la lista. Dicha $k$ se puede reducir utilizando diccionarios y hashes, para evitar los números que no aparecen en la lista y están en el intervalo entre el menor y el mayor elemento de la lista."
      ]
    },
    {
      "cell_type": "markdown",
      "metadata": {
        "id": "fSP2qvFS8Kyd"
      },
      "source": [
        "*Ejemplo 2.* "
      ]
    },
    {
      "cell_type": "code",
      "metadata": {
        "id": "GEPW95a08N31",
        "colab": {
          "base_uri": "https://localhost:8080/"
        },
        "outputId": "32cb703f-c6c8-4a02-fdb7-cdbdd6505e4b"
      },
      "source": [
        "def sort2(Lis):\n",
        "  L = Lis.copy()\n",
        "  for i in range (len(L), 0, -1):\n",
        "    for j in range(1, i):\n",
        "      if(L[j] < L[j-1]):\n",
        "        L[j-1], L[j] = L[j], L[j-1]\n",
        "  print(L)\n",
        "\n",
        "sort2(Lista)"
      ],
      "execution_count": null,
      "outputs": [
        {
          "output_type": "stream",
          "text": [
            "[0, 1, 4, 7, 7, 9, 9, 10, 12, 17]\n"
          ],
          "name": "stdout"
        }
      ]
    },
    {
      "cell_type": "markdown",
      "metadata": {
        "id": "F8Epd3Q8-d7W"
      },
      "source": [
        "Este es el algoritmo de ordenamiento llamado *Bubble sort*, que consiste en recorrer la lista suficientes veces, de modo que en cada recorrido de la lista, si entontramos dos números adyacentes tales que no estén ordenados, los invierte, es decir, los cambia de posición. ¿Cuáles son sus complejidades? En cuanto a memoria únicamente requerimos $O(1)$ de memoria auxiliar, mientras que en tiempo se toma $O(n^2)$, ya que podrían llegar a haber $i$ inversiones, para cada $i$ entre $1, n$."
      ]
    },
    {
      "cell_type": "markdown",
      "metadata": {
        "id": "8Vy7DgP9_aYO"
      },
      "source": [
        "*Ejemplo 3.*"
      ]
    },
    {
      "cell_type": "code",
      "metadata": {
        "id": "56r27tWT_chp",
        "colab": {
          "base_uri": "https://localhost:8080/"
        },
        "outputId": "678a2696-7f23-4567-8497-6fd057630ff2"
      },
      "source": [
        "def sort3(L):\n",
        "  if(len(L) == 1):\n",
        "    return\n",
        "  else:\n",
        "    m = len(L)//2\n",
        "    left = L[:m]\n",
        "    right = L[m:]\n",
        "    sort3(left)\n",
        "    sort3(right)\n",
        "    l = r = k = 0\n",
        "    while(l < len(left) and r < len(right)):\n",
        "      if(left[l] < right[r]):\n",
        "        L[k] = left[l]\n",
        "        l += 1\n",
        "      else:\n",
        "        L[k] = right[r]\n",
        "        r += 1\n",
        "      k += 1\n",
        "    while(l < len(left)):\n",
        "      L[k] = left[l]\n",
        "      k += 1\n",
        "      l += 1\n",
        "    while(r < len(right)):\n",
        "      L[k] = right[r]\n",
        "      k += 1\n",
        "      r += 1\n",
        "\n",
        "\n",
        "Lista_prueba = Lista.copy()\n",
        "sort3(Lista_prueba)\n",
        "print(Lista_prueba)"
      ],
      "execution_count": null,
      "outputs": [
        {
          "output_type": "stream",
          "text": [
            "[0, 1, 4, 7, 7, 9, 9, 10, 12, 17]\n"
          ],
          "name": "stdout"
        }
      ]
    },
    {
      "cell_type": "markdown",
      "metadata": {
        "id": "1cMDlVP1xjK3"
      },
      "source": [
        "Este algoritmo es *merge sort*, el cual actúa bajo el principio de divide y vencerás, es decir, divide la lista inicial en dos, ordena cada sección de lalista por separado, y una vez que están ordenados, los unifica en una nueva lista, que dará como resultado el ordenamiento de nuestra lista inicial. ¿Cuáles son las complejidades de este algoritmo? Es $O(n log n)$ en tiempo, mientras que en espacio auxiliar es $O(n)$, pues se puede acotar el espacio que utiliza por $3n$."
      ]
    },
    {
      "cell_type": "markdown",
      "metadata": {
        "id": "fUQvqiQcMexA"
      },
      "source": [
        "*Ejemplo 4.*"
      ]
    },
    {
      "cell_type": "code",
      "metadata": {
        "id": "Hy47nxF33Vge",
        "colab": {
          "base_uri": "https://localhost:8080/"
        },
        "outputId": "856caa89-01a8-4e81-a8ff-f31207023d1b"
      },
      "source": [
        "def sort4(L):\n",
        "  for i in range(0, len(L)):\n",
        "    new = L[i]\n",
        "    idx = i-1\n",
        "    while(idx >= 0 and L[idx] > new):\n",
        "      L[idx + 1] = L[idx]\n",
        "      idx -= 1\n",
        "    L[idx + 1] = new\n",
        "  return\n",
        "\n",
        "Lista_prueba = Lista.copy()\n",
        "sort4(Lista_prueba)\n",
        "print(Lista_prueba)"
      ],
      "execution_count": null,
      "outputs": [
        {
          "output_type": "stream",
          "text": [
            "[3, 4, 6, 7, 7, 11, 14, 14, 17, 17]\n"
          ],
          "name": "stdout"
        }
      ]
    },
    {
      "cell_type": "markdown",
      "metadata": {
        "id": "e2-C_izb4YJC"
      },
      "source": [
        "Este algoritmo de ordenamiento es llamado *insertion sort*, su nombre describe lo que se hace, en cada iteración del ciclo for lo que hacemos es crear una lista ordenada con los primeros $i$ elementos, insertando el nuevo elemento donde corresponda. ¿Cuáles son sus complejidades? Se tiene que su complejidad en tiempo es $O(n^2)$, pues iteramos sobre los $n$ elementos de la lista, y en cada una de estas iteraciones podríamos llegar a tener $i-1$ iteraciones dentro del `while`, lo que hace que sea cuadrático en tiempo. En espacio adicional únicamente almacenamos los iteradores y el valor del nuevo elemento de la lista, por lo que es $O(1)$."
      ]
    },
    {
      "cell_type": "markdown",
      "metadata": {
        "id": "WZFxkx-vMbJm"
      },
      "source": [
        "*Ejemplo 5*"
      ]
    },
    {
      "cell_type": "code",
      "metadata": {
        "id": "0Oo7dfQz3XAn",
        "colab": {
          "base_uri": "https://localhost:8080/"
        },
        "outputId": "a62a7f92-c464-4dd4-fe9f-1225cdea1f45"
      },
      "source": [
        "def aux_sort(L, pos):\n",
        "  cnt = [0]*10\n",
        "  for i in range(0, len(L)):\n",
        "    aux = L[i]//pos\n",
        "    cnt[(aux%10)] += 1\n",
        "  for i in range(1, 10): # Recuperamos las posiciones que nos indica el counting sort\n",
        "    cnt[i] += cnt[i-1]\n",
        "  ord = [0] * len(L)\n",
        "  for i in range(len(L)-1, -1, -1):\n",
        "    aux = L[i]//pos\n",
        "    ord[cnt[aux%10] - 1] = L[i]\n",
        "    cnt[aux%10] -= 1\n",
        "  for i in range(0, len(L)):\n",
        "    L[i] = ord[i]\n",
        "\n",
        "def sort5(L):\n",
        "  pos = 1\n",
        "  maxi = max(L)\n",
        "  while(pos <= maxi):\n",
        "    aux_sort(L, pos)\n",
        "    pos *= 10\n",
        "  \n",
        "Lista_prueba = Lista.copy()\n",
        "sort5(Lista_prueba)\n",
        "print(Lista_prueba)"
      ],
      "execution_count": null,
      "outputs": [
        {
          "output_type": "stream",
          "text": [
            "[2, 5, 6, 8, 8, 11, 14, 14, 15, 15]\n"
          ],
          "name": "stdout"
        }
      ]
    },
    {
      "cell_type": "markdown",
      "metadata": {
        "id": "bkDf4W4qMl_A"
      },
      "source": [
        "Notemos que nuestro algoritmo funciona únicamente para listas que tienen puros enteros positivos. Este algoritmo se llama *radix sort*, el cual consiste en ir ordenando los números según sis dígitos, del dígito que representa menor valor (el de las unidades) hasta el que representa el mayor valor. Este algoritmo también se puede adaptar a problemas como ordenar una lista de strings alfabéticamente. "
      ]
    },
    {
      "cell_type": "markdown",
      "metadata": {
        "id": "TtpQgIZMRGjU"
      },
      "source": [
        "**Ejercicios.**\n",
        "\n",
        "1.   Implementa el algoritmo de ordenamiento *quicksort*.\n",
        "2.   Utilizando radix sort, implementa un algoritmo que permita ordenar alfabéticamente una lista de strings. Puedes suponer que las strings no tienen espacios y contienen únicamente caracteres que son letras minúsculas.\n",
        "Verifica tu algoritmo con las listas: `['aaaaa', 'zapatos', 'bien', 'zapatillas', 'datos', 'dddatos', 'das', 'ciencia', 'aaa', 'alas', 'problema', 'comando', 'oopera'], ['ddddescarga', 'usando', 'nuevo', 'nuevos', 'version', 'verifica', 'ooo', 'eeee', 'goool', 'golazooo', 'goolazo', 'compartir']`\n",
        "3.   Determina cuál es el mínimo número de comparaciones necsarias dada una lista $L$ de $n$ números para poder determinar si está ordenada o no. Describe un algoritmo con dicho mínimo y argumenta por qué con menos comparaciones no se puede.\n",
        "\n"
      ]
    }
  ]
}