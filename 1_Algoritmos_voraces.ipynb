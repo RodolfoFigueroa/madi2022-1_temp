{
  "nbformat": 4,
  "nbformat_minor": 0,
  "metadata": {
    "colab": {
      "name": "Algoritmos voraces.ipynb",
      "provenance": [],
      "collapsed_sections": [],
      "include_colab_link": true
    },
    "kernelspec": {
      "name": "python3",
      "display_name": "Python 3"
    }
  },
  "cells": [
    {
      "cell_type": "markdown",
      "metadata": {
        "id": "view-in-github",
        "colab_type": "text"
      },
      "source": [
        "<a href=\"https://colab.research.google.com/github/RodolfoFigueroa/madi2022-1/blob/main/1_Algoritmos_voraces.ipynb\" target=\"_parent\"><img src=\"https://colab.research.google.com/assets/colab-badge.svg\" alt=\"Open In Colab\"/></a>"
      ]
    },
    {
      "cell_type": "markdown",
      "metadata": {
        "id": "cK5ClbfMH23A"
      },
      "source": [
        "En esta sesión veremos varios ejemplos de algoritmos tipo greedy, algunos serán correctos y otros no, con tal de ir ejercitando la habilidad para poder determinar cuándo un algoritmo de este tipo es correcto o no."
      ]
    },
    {
      "cell_type": "markdown",
      "metadata": {
        "id": "hFPV01cuIKTz"
      },
      "source": [
        "**Ejemplo 1.** Consideremos monedas con valores $1, 2, 5, 10$. Dado un entero positivo $n$, ¿cómo podemos encontrar el menor número de monedas con el que podemos sumar $n$?\n",
        "\n",
        "Un algoritmo greedy sería en cada momento, considerar el mayor valor que es menor o igual a $n$, y usar esa moneda, continuando con este proceso con el valor que resulta de restarle a $n$ el valor de la moneda usada.\n",
        "\n",
        "Veamos una implementación de esto:"
      ]
    },
    {
      "cell_type": "code",
      "metadata": {
        "id": "MvmcuMXkKKrl",
        "colab": {
          "base_uri": "https://localhost:8080/"
        },
        "outputId": "8a6057bb-86e9-45b5-a120-afdacbfdfb9b"
      },
      "source": [
        "coins = [1,2,5,10]\n",
        "\n",
        "def min_coins(n):\n",
        "  max_idx = len(coins) - 1\n",
        "  cnt = 0\n",
        "  while(n > 0):\n",
        "    if(coins[max_idx] <= n):\n",
        "      cnt += n//coins[max_idx]\n",
        "    n = n% coins[max_idx]\n",
        "    max_idx -= 1\n",
        "  return cnt\n",
        "\n",
        "print(min_coins(100))\n",
        "print(min_coins(27))\n",
        "print(min_coins(75))"
      ],
      "execution_count": null,
      "outputs": [
        {
          "output_type": "stream",
          "text": [
            "10\n",
            "4\n",
            "8\n"
          ],
          "name": "stdout"
        }
      ]
    },
    {
      "cell_type": "markdown",
      "metadata": {
        "id": "4Ov-EyN4LZwx"
      },
      "source": [
        "Parece que nuestro algoritmo es correcto, ¿cómo demostrar que en efecto lo es? Muchas veces podemos proceder por contradicción o por inducción para demostrar la correctitud de una algoritmo greedy.\n",
        "\n",
        "Procederemos por inducción. Como caso base consideramos todos los enteros del 1 al 10, para los cuales es fácil ver que nuestro algoritmo sí nos da el menor número de monedas posible. Nuestra hipótesis de inducción será que el algoritmo cumple con darnos la menor cantidad de monedas posible para todo $k \\leq n$. Veamos que la afirmación es cierta para $n+1$. Como ya vimos que es cierto para todo entero positivo menor o igual a $10$, podemos suponer que $11 \\leq n+1$. \n",
        "Veamos que necesitamos usar al menos una moneda de $10$.\n",
        "\n",
        "Si no usamos monedas de $10$, notemos que no podemos:\n",
        "-   Usar dos monedas de $5$.\n",
        "-   Usar dos monedas de $1$.\n",
        "-   Usar tres monedas de $2$.\n",
        "\n",
        "Con todo esto, tenemos que el mayor valor que podemos alcanzar es $1 \\cdot 1 + 2 \\cdot 2 + 1 \\cdot 5 = 10$, por lo que para un valor mayor o igual que $11$, necesitamos al menos una moneda de $10$. Entonces, usamos la moneda de $10$, y llegamos a que el algoritmo sí nos da el menor número de monedas posible para $n+1$, pues nos lo da para $n+1 - 10$.\n",
        "\n",
        "Con esto hemos probado que el algoritmo greedy para esta distribución de monedas nos dice el menor número de monedas posible, ¿será cierto para cualquier destribución de monedas?\n",
        "\n",
        "Como es de esperarse, no. Hay diferentes cosas que pueden suceder para que el algoritmo no nos dé el menor número de monedas necesario.\n",
        "*   Puede suceder que exista $n$ tal que no se pueda formar con las monedas disponibles. Por ejemplo, si $\\{3, 7\\}$ son las posibles denominaciones de las monedas, no se puede formar el número $11$.\n",
        "*   También puede suceder que sí exista forma de llegar al número deseado, pero que nuestro algoritmo no nos diga correctamente el menor número de monedas necesarias, un ejemplo de esto es tener monedas con denominaciones $\\{1, 4, 7, 8, 10\\}$ y queremos formar el número $15$, siguiendo el algoritmo greedy se seleccionarán una moneda de $10$, otra de $4$ y otra de $1$, sin embargo, es posible usar menos monedas, seleccionando una de $8$ y otra de $7$.\n",
        "\n",
        "¿Se puede dar un algoritmo que siempre funcione independientemente de las denominaciones de las monedas? En efecto se puede, usando programación dinámica es posible garantizar encontrar la respuesta independientemente de las denominaciones (¿cómo hacemos esto?). Esto ilustra algo que es también bastante usual: si un algoritmo greedy no funciona, se puede encontrar una forma de resolver el problema usando programación dinámica, esto no es una regla pero suele ser bastante común.\n"
      ]
    },
    {
      "cell_type": "markdown",
      "metadata": {
        "id": "HcauFEUcov6x"
      },
      "source": [
        "**Ejemplo 2.** Dada una lista $L$ de $n$ números reales, encontrar una permutación de la lista tal que la suma $$\\sum_{i = 0}^{n-1}L[i]*i$$ tenga el mayor valor posible."
      ]
    },
    {
      "cell_type": "markdown",
      "metadata": {
        "id": "A7TN6iOUqej0"
      },
      "source": [
        "¿Cuál sería un algoritmo greedy para resolver este problema? Una de las primeras ideas que podemos considerar es justamente ordenar los elementos de $L$ de menor a mayor, pues de este modo, los elementos más grandes tendrán mayor peso. Veamos que su implementación es bastante inmediata:"
      ]
    },
    {
      "cell_type": "code",
      "metadata": {
        "id": "1GKk4_keq0z9",
        "colab": {
          "base_uri": "https://localhost:8080/"
        },
        "outputId": "148f0afc-8593-42e8-cd52-73d82725417b"
      },
      "source": [
        "L = [-1, 5, -4, 0, 9]\n",
        "\n",
        "L.sort()\n",
        "print(L)"
      ],
      "execution_count": null,
      "outputs": [
        {
          "output_type": "stream",
          "text": [
            "[-4, -1, 0, 5, 9]\n"
          ],
          "name": "stdout"
        }
      ]
    },
    {
      "cell_type": "markdown",
      "metadata": {
        "id": "whzCeOJ0q-hV"
      },
      "source": [
        "¿Es correcto nuestro algoritmo? Sí, para esto basta con recordar la desigualdad de reacomodo (https://en.wikipedia.org/wiki/Rearrangement_inequality) que nos garantiza que en efecto esta es la permutación que estamos buscando.\n",
        "\n",
        "Algo que podemos destacar de los algoritmos anteriores, es que su mayor dificultad consiste en probar su correctitud, pues su implementación resulta bastante sencilla, este suele ser el caso con los algoritmos de este tipo."
      ]
    },
    {
      "cell_type": "markdown",
      "metadata": {
        "id": "EOTozyA_rk6J"
      },
      "source": [
        "**Ejemplo 3.** Se tienen $n$ cajas, cada una con cierta cantidad de dinero, y con un temporizador tal que una vez que se llegue al tiempo marcado por el temporizador, después de un minuto el dinero de la caja se empieza a quemar y no se puede recuperar nada de lo que había en esa caja. Se sabe que todos los temporizadores tienen un tiempo menor a una hora, y están dados en minutos (sin fracciones de minuto). Sabiendo el tiempo que marcan los temporizadores, y que sacar el dinero de una caja toma un minuto exactamente, determina un algoritmo que permita saber la mayor cantidad de dinero que se puede recuperar.\n",
        "\n",
        "Un primer algoritmo greedy para resolver el problema podría ser ordenar las cajas de mayor a menor valor, e ir seleccionando las de mayor valor primero, descartando únicamente aquellas que ya no sea posible agarrar por la restricción de tiempo. ¿Es este algoritmo correcto?\n",
        "\n",
        "\n",
        "Una forma de verificar la correctitud de algoritmos de este estilo es pensar en casos de prueba 'extremos'. ¿Qué pasa si se tienen cajas con valores $10, 1, 1$, con tiempos $20, 0, 0$? Nuestro algoritmo nos garantizaría tener únicamente el dinero de la caja con valor $10$, sin embargo, es posible sumar $11$.\n",
        "\n",
        "¿Cómo arreglamos el algoritmo? Notemos que podemos 'postergar' las cajas que se queman más tarde. ¿Qué pasa si pensamos el problema al revés? Es decir, trataremos de ir seleccionando cajas, de la última que va a agarrar hasta la primera. Nos apoyaremos en una cola de prioridad PQ. Iteramos sobre los minutos (de mayor a menor), para cada minuto $t$, agregamos a PQ el valor de aquellas cajas que se queman en el tiempo $t$, y sumamos el mayor valor dentro de PQ. ¿Esto sí nos garantiza tener el mayor valor posible? Sí, y esto lo podemos probar por contradicción, suponiendo que la última caja que se toma no es la de mayor valor posible en ese momento en la cola de prioridad.\n",
        "\n",
        "Veamos una implementación del algoritmo mencionado."
      ]
    },
    {
      "cell_type": "code",
      "metadata": {
        "id": "qiq3m2oZ8HpI",
        "colab": {
          "base_uri": "https://localhost:8080/"
        },
        "outputId": "47c8e5d0-09f7-40d7-96a1-11bab37de853"
      },
      "source": [
        "# 4 4\n",
        "# 1000 1\n",
        "# 2000 2\n",
        "# 500 2\n",
        "# 1200 0\n",
        "\n",
        "from queue import PriorityQueue\n",
        "\n",
        "Boxes = [(1,1000), (2,2000), (2,500), (0, 1200)] #(b,a) indica que el valor de la caja es a, y se empieza a quemar en el minuto b\n",
        "Boxes.sort(reverse = True)\n",
        "T = Boxes[0][0]\n",
        "\n",
        "pq = PriorityQueue()\n",
        "val = 0\n",
        "idx = 0\n",
        "for i in range(T,-1,-1):\n",
        "  while(idx < len(Boxes) and Boxes[idx][0] == i):\n",
        "      pq.put(-Boxes[idx][1])\n",
        "      idx += 1\n",
        "  if(not pq.empty()):\n",
        "    val -= pq.get()\n",
        "print(val)"
      ],
      "execution_count": null,
      "outputs": [
        {
          "output_type": "stream",
          "text": [
            "4200\n"
          ],
          "name": "stdout"
        }
      ]
    },
    {
      "cell_type": "markdown",
      "metadata": {
        "id": "2SwJyqIU3tEP"
      },
      "source": [
        "**Ejemplo 4.** Antes habíamos visto ejemplos relacionados con gráficas de intervalos, donde lo que nos importaba era considerar las intersecciones de los intervalos por parejas. Consideremos ahora el siguiente problema: dado un conjunto de intervalos $[a_1, b_1], [a_2, b_2], \\dots, [a_n,b_n]$, encuentra un subconjunto de intervalos tal que cualesquiera dos no se intersecten, y que el subconjunto tenga la mayor cantidad de elementos posible.\n",
        "\n",
        "Un posible algoritmo sería considerar ordenar los intervalos según su longitud, de menor a mayor, e ir considerando los itnervalos, checando que no se vayan intersectando. ¿Es este algoritmo correcto? Consideremos el siguiente ejemplo: $[0,10], [12,20], [9,14]$. Siguiendo el algoritmo propuesto, se tendría que al ordenar los intervalos por longitud se tienen $[9,14], [12,20], [0,10]$, entonces se metería $[9,14]$ al subconjunto, sin embargo ya no se podrían meter más conjuntos. Notemos que este subconjunto no tiene la mayor cantidad posible, pues $[12,20], [0,10]$ tiene dos elementos que no se intersectan.\n",
        "\n",
        "¿Qué pasa si ordenamos los intervalos según su extremo derecho? Ordenamos de menor a mayor, según el extremo derecho de los intervalos. Vamos iterando sobre la lista, y si nos encontramos con un intervalo tal que no se intersecta con los anteriores del subconjunto lo agregamos. ¿Este algoritmo funciona? Notemos que en el ejemplo previo sí obtenemos un subconjunto con la mayor cantidad de elementos posible. Probemos primero la correctitud de este algoritmo.\n",
        "\n",
        "Supongamos que el algoritmo anterior no nos da un acomodo óptimo. Sean $I = \\{i_1, i_2, \\dots, i_m\\}$, $J = \\{j_1, j_2, \\dots, j_k\\}$ los acomodos que nos dan el algoritmo voraz y el acomodo óptimo, respectivamente (entonces $k > m$). Podemos suponer, sin pérdida de generalidad que si $x < y$ entonces el extremo derecho de $j_x$ es menor que el de $j_y$, y lo mismo con $i_x, i_y$. Sea $t$ el primer índice tal que $i_t \\neq j_t$. Dado que $i_1 = j_1, i_2 = j_2, \\dots, i_{t-1} = j_{t-1}$, se tiene que el extremo derecho de $j_t$ es mayor que el de $i_t$ (por cómo construimos $I$), por lo que en $J$ podemos cambiar a $j_t$ por $i_t$. Continuando con este proceso llegamos a que podemos suponer que $I \\subset J$, de donde se concluye que $I$ debe ser igual a $J$, por cómo se construye $I$. \n",
        "\n",
        "Veamos que como nuestro algoritmo involucra un ordenamiento, se tiene una complejidad en tiempo de al menos $O(n \\; logn)$. La siguiente implementación cumple con esta complejidad:\n"
      ]
    },
    {
      "cell_type": "code",
      "metadata": {
        "colab": {
          "base_uri": "https://localhost:8080/"
        },
        "id": "rWDHKzBA_Y-D",
        "outputId": "40ac43c4-3996-4cef-cf86-c06dfe238058"
      },
      "source": [
        "L = [(7, 15), (1,8), (1, 4), (5, 8), (9, 10), (3, 7), (6,8)]\n",
        "\n",
        "L.sort(key=lambda x: x[1]) # Ordena los elementos según su segunda entrada\n",
        "\n",
        "ans = [L[0]]\n",
        "for i in range(1, len(L)):\n",
        "  if(L[i][0] > ans[-1][1]): # Si el extremo izquierdo es mayor que el derecho del último\n",
        "    ans.append(L[i])\n",
        "print(ans)"
      ],
      "execution_count": null,
      "outputs": [
        {
          "output_type": "stream",
          "text": [
            "[(1, 4), (5, 8), (9, 10)]\n"
          ],
          "name": "stdout"
        }
      ]
    },
    {
      "cell_type": "markdown",
      "metadata": {
        "id": "JEqNl2qhBkI4"
      },
      "source": [
        "**Ejercicios.**\n",
        "\n",
        "\n",
        "1.   Determina si el algoritmo descrito en el ejercicio 1 (el de las monedas) funciona si tenemos monedas con denominaciones potencias de $3$, es decir, si $\\{3^n | n \\in \\mathbb{N}_{0}\\}$ es el conjunto de denominaciones de las monedas. Desmuestra su correctitud e implementa el respectivo código en caso afirmativo o da un contraejemplo en caso negativo.\n",
        "2.   Dadas dos listas con $n$ enteros cada una, $L_1, L_2$ una operación permitida es seleccionar un elemento de $L_2$ y sumarle o restarle $1$. Describe un algoritmo que permita encontrar el menor número de operaciones permitidas para que $L_1$ y $L_2$ tengan los mismos números (no necesariamente en el mismo orden), prueba su correctitud e implementa el algoritmo.\n",
        "\n"
      ]
    },
    {
      "cell_type": "markdown",
      "metadata": {
        "id": "gj6sIprsIULh"
      },
      "source": [
        "*Ejercicio 1.* Aquí va tu demostración o tu contraejemplo, según sea el caso."
      ]
    },
    {
      "cell_type": "code",
      "metadata": {
        "id": "DbzvvgP9Icmt"
      },
      "source": [
        "# Aquí va el código del algoritmo, en caso de haber obtenido una respuesta afirmativa"
      ],
      "execution_count": null,
      "outputs": []
    },
    {
      "cell_type": "markdown",
      "metadata": {
        "id": "BPi1x1WvIiYR"
      },
      "source": [
        "*Ejercicio 2.* Aquí va la descripción y prueba de correctitud de tu algoritmo."
      ]
    },
    {
      "cell_type": "code",
      "metadata": {
        "id": "FT0fKoQ9IuVQ"
      },
      "source": [
        "# Aquí va la implementación del algoritmo descrito en la celda anterior"
      ],
      "execution_count": null,
      "outputs": []
    }
  ]
}