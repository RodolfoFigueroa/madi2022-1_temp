{
  "nbformat": 4,
  "nbformat_minor": 0,
  "metadata": {
    "colab": {
      "name": "Inducción.ipynb",
      "provenance": [],
      "collapsed_sections": [],
      "include_colab_link": true
    },
    "kernelspec": {
      "name": "python3",
      "display_name": "Python 3"
    }
  },
  "cells": [
    {
      "cell_type": "markdown",
      "metadata": {
        "id": "view-in-github",
        "colab_type": "text"
      },
      "source": [
        "<a href=\"https://colab.research.google.com/github/RodolfoFigueroa/madi2022-1/blob/main/Inducci%C3%B3n.ipynb\" target=\"_parent\"><img src=\"https://colab.research.google.com/assets/colab-badge.svg\" alt=\"Open In Colab\"/></a>"
      ]
    },
    {
      "cell_type": "markdown",
      "metadata": {
        "id": "gzAnyHqHfmMd"
      },
      "source": [
        "Antes de iniciar siempre es importante agregar al inicio las librerías que vamos a usar, y compilar la celda correspondiente."
      ]
    },
    {
      "cell_type": "code",
      "metadata": {
        "id": "XwzBSV5ocrC6"
      },
      "source": [
        "import numpy as np\n",
        "import time "
      ],
      "execution_count": null,
      "outputs": []
    },
    {
      "cell_type": "markdown",
      "metadata": {
        "id": "kp2VIE2af1PG"
      },
      "source": [
        "Es importante considerar que las celdas de código tienen \"memoria\", por ejemplo, en la siguiente celda definiremos el valor de una variable, y en una celda posterior la vamos a imprimir, si pidiéramos imprimirla sin antes haberle asignado un valor (es decir sin haber compilado la celda previa) estaríamos en problemas."
      ]
    },
    {
      "cell_type": "code",
      "metadata": {
        "id": "b_Ul-V_uf0cG"
      },
      "source": [
        "a = 70"
      ],
      "execution_count": null,
      "outputs": []
    },
    {
      "cell_type": "code",
      "metadata": {
        "id": "fT6phZ004Ts7"
      },
      "source": [
        "b = 10"
      ],
      "execution_count": null,
      "outputs": []
    },
    {
      "cell_type": "code",
      "metadata": {
        "id": "5E7sm_CngO-_",
        "colab": {
          "base_uri": "https://localhost:8080/",
          "height": 50
        },
        "outputId": "26084002-507f-4020-afcc-45e545279932"
      },
      "source": [
        "print(a)\n",
        "print(b)"
      ],
      "execution_count": null,
      "outputs": [
        {
          "output_type": "stream",
          "text": [
            "70\n",
            "10\n"
          ],
          "name": "stdout"
        }
      ]
    },
    {
      "cell_type": "markdown",
      "metadata": {
        "id": "Ms-tPctFY7hR"
      },
      "source": [
        "En esta sesión veremos algunos ejemplos de inducción y cómo este principio nos puede ayudar a ser más eficientes al resolver un problema."
      ]
    },
    {
      "cell_type": "markdown",
      "metadata": {
        "id": "p_EAt0wkZKdc"
      },
      "source": [
        "**Ejemplo 1.**  Encuentra el valor de $$\\Big\\lfloor \\frac{1}{2}\\Big \\rfloor + \\Big\\lfloor \\frac{2}{2}\\Big \\rfloor + \\cdots + \\Big\\lfloor \\frac{10^9}{2}\\Big \\rfloor$$"
      ]
    },
    {
      "cell_type": "markdown",
      "metadata": {
        "id": "i2B1VILJbzlE"
      },
      "source": [
        "*Paso 1*. Hagamos algunos casos pequeños para encontrar algún patrón."
      ]
    },
    {
      "cell_type": "code",
      "metadata": {
        "id": "NGPXUKFjcA64",
        "colab": {
          "base_uri": "https://localhost:8080/",
          "height": 168
        },
        "outputId": "f1f2e600-b6ba-4ab1-f34b-ec45282b5db8"
      },
      "source": [
        "s = 0\n",
        "for i in range (1, 10):\n",
        "  s = s + np.floor(i/2)\n",
        "  print(s, \" con n = \", i)"
      ],
      "execution_count": null,
      "outputs": [
        {
          "output_type": "stream",
          "text": [
            "0.0  con n =  1\n",
            "1.0  con n =  2\n",
            "2.0  con n =  3\n",
            "4.0  con n =  4\n",
            "6.0  con n =  5\n",
            "9.0  con n =  6\n",
            "12.0  con n =  7\n",
            "16.0  con n =  8\n",
            "20.0  con n =  9\n"
          ],
          "name": "stdout"
        }
      ]
    },
    {
      "cell_type": "markdown",
      "metadata": {
        "id": "KgTR3qgEdJC4"
      },
      "source": [
        "*Paso 2.* ¿Alguna conjetura? Probaremos por inducción que $$\\Big\\lfloor \\frac{1}{2}\\Big \\rfloor + \\Big\\lfloor \\frac{2}{2}\\Big \\rfloor + \\cdots + \\Big\\lfloor \\frac{n}{2}\\Big \\rfloor = \\Big \\lfloor \\frac{n}{2} \\Big \\rfloor \\Big \\lfloor \\frac{n+1}{2}\\Big \\rfloor$$\n",
        " - Base de inducción. Con los casos que hemos checado anteriormente es más que suficiente.\n",
        " - Hipótesis de inducción. La fórmula que queremos probar.\n",
        " - Paso inductivo. Supongamos que nuestra fórmula es cierta para $k$. Para $k+1$ se sigue fácilmente del hecho $$ \\Big \\lfloor \\frac{k}{2} \\Big \\rfloor \\Big \\lfloor \\frac{k+1}{2}\\Big \\rfloor + \\Big \\lfloor \\frac{k+1}{2}\\Big \\rfloor = \\Big \\lfloor \\frac{k+1}{2}\\Big \\rfloor (\\Big \\lfloor \\frac{k}{2}\\Big \\rfloor + 1) = \\Big \\lfloor \\frac{k+1}{2} \\Big \\rfloor \\Big \\lfloor \\frac{k+2}{2}\\Big \\rfloor$$\n",
        "\n"
      ]
    },
    {
      "cell_type": "markdown",
      "metadata": {
        "id": "wev-gYiLeuPI"
      },
      "source": [
        "*Paso 3.* Concluimos calculando el valor que se nos ha pedido."
      ]
    },
    {
      "cell_type": "code",
      "metadata": {
        "id": "HkbX0EyOe1EZ",
        "colab": {
          "base_uri": "https://localhost:8080/",
          "height": 50
        },
        "outputId": "9590992d-03bd-46cf-af57-02dac6914e0f"
      },
      "source": [
        "start = time.time()\n",
        "print(np.floor(1e9/2)*np.floor((1e9+1)/2))\n",
        "print(time.time() - start)"
      ],
      "execution_count": null,
      "outputs": [
        {
          "output_type": "stream",
          "text": [
            "2.5e+17\n",
            "0.0008492469787597656\n"
          ],
          "name": "stdout"
        }
      ]
    },
    {
      "cell_type": "markdown",
      "metadata": {
        "id": "PLeEsKXsJRw7"
      },
      "source": [
        "Comparemos el tiempo de ejecución con el tiempo que toma hacer la operación de forma directa. (Haremos la suma hasta $10^6$, pues tarda mucho para $10^9$)."
      ]
    },
    {
      "cell_type": "code",
      "metadata": {
        "id": "RFqdB3evJQeG",
        "colab": {
          "base_uri": "https://localhost:8080/",
          "height": 50
        },
        "outputId": "a65633c1-997e-4af9-fb5f-f797d30bad9a"
      },
      "source": [
        "start = time.time()\n",
        "s = 0\n",
        "for i in range (1, 1000001):\n",
        "  s += np.floor(i/2)\n",
        "\n",
        "print(s)\n",
        "print(time.time() - start)"
      ],
      "execution_count": null,
      "outputs": [
        {
          "output_type": "stream",
          "text": [
            "250000000000.0\n",
            "1.144911289215088\n"
          ],
          "name": "stdout"
        }
      ]
    },
    {
      "cell_type": "markdown",
      "metadata": {
        "id": "d9hNIOlkKOgx"
      },
      "source": [
        "Esto nos muestra que fue de gran ayuda encontrar una fórmula cerrada, para reducir bastante el tiempo de ejecución (pasa de ser lineal a ser constante)."
      ]
    },
    {
      "cell_type": "markdown",
      "metadata": {
        "id": "5C3irAq-5fK5"
      },
      "source": [
        "**Ejemplo 2.** Sea $f : \\mathbb{N} \\rightarrow \\mathbb{R}$ una función tal que $f(1) = 1001$ y $f(1) + f(2) + \\cdots + f(n) = n^2 f(n)$ para todo entero $n > 1$. Encuentra el valor de $f(10007)$."
      ]
    },
    {
      "cell_type": "markdown",
      "metadata": {
        "id": "UWpRY7Ot6SW_"
      },
      "source": [
        "*Paso 1.* Primero simplifiquemos nuestras cuentas. Para eso, notemos que si $g(m) = \\frac{f(m)}{1001}$, se tiene que $g(1) + g(2) + \\cdots + g(n) = n^2g(n)$ para todo $n > 1$, entonces $g(n)$ depende de los primeros $n-1$ valores: $$(n^2 -1)g(n) = g(1) + g(2) + \\cdots g(n-1)$$, y como $((n-1)^2 - 1)g(n-1) = g(1) + g(2) + \\cdots g(n-2)$, sustituyendo se tiene que $$(n^2 -1)g(n) = ((n-1)^2 - 1)g(n-1) + g(n-1) = (n-1)^2g(n-1)$$.De esto obtenemos que $g(n) = \\frac{n-1}{n + 1}g(n-1)$. Ahora hagamos los primeros casos."
      ]
    },
    {
      "cell_type": "code",
      "metadata": {
        "id": "-GAnkTkQ71Es",
        "colab": {
          "base_uri": "https://localhost:8080/",
          "height": 151
        },
        "outputId": "6f68eed9-5a25-4ad5-e0cb-74d4eae03768"
      },
      "source": [
        "g = 1\n",
        "for i in range (2, 10):\n",
        "  g = g*(i-1)/(i+1)\n",
        "  print(g)"
      ],
      "execution_count": null,
      "outputs": [
        {
          "output_type": "stream",
          "text": [
            "0.3333333333333333\n",
            "0.16666666666666666\n",
            "0.1\n",
            "0.06666666666666667\n",
            "0.047619047619047616\n",
            "0.03571428571428571\n",
            "0.027777777777777776\n",
            "0.02222222222222222\n"
          ],
          "name": "stdout"
        }
      ]
    },
    {
      "cell_type": "markdown",
      "metadata": {
        "id": "HZgKg8pL82hw"
      },
      "source": [
        "*Paso 2*. ¿Conjetura? Si uno no se sabe la forma decimal de muchas fracciones de memoria conjeturar algo de aquí puede ser difícil. ¿Qué pasa si calculamos $h = 1/g$? Ahora tenemos que $h(n) = \\frac{n+1}{n-1}h(n-1)$"
      ]
    },
    {
      "cell_type": "code",
      "metadata": {
        "id": "wjIT1BIY9Gj6",
        "colab": {
          "base_uri": "https://localhost:8080/",
          "height": 151
        },
        "outputId": "b78699cc-11bb-4d09-a50e-5d515b57b311"
      },
      "source": [
        "h = 1\n",
        "for i in range (2, 10):\n",
        "  h = h*(i+1)/(i-1)\n",
        "  print(\"h(\", i, \")= \", h)"
      ],
      "execution_count": null,
      "outputs": [
        {
          "output_type": "stream",
          "text": [
            "h( 2 )=  3.0\n",
            "h( 3 )=  6.0\n",
            "h( 4 )=  10.0\n",
            "h( 5 )=  15.0\n",
            "h( 6 )=  21.0\n",
            "h( 7 )=  28.0\n",
            "h( 8 )=  36.0\n",
            "h( 9 )=  45.0\n"
          ],
          "name": "stdout"
        }
      ]
    },
    {
      "cell_type": "markdown",
      "metadata": {
        "id": "2bNUz1Sw9eGe"
      },
      "source": [
        "*Paso 3.* Podemos conjeturar que $h(n) = \\frac{n(n+1)}{2}$, y es fácil probar por inducción que esta fórmula es correcta, usando que $h(n) = \\frac{n+1}{n-1}h(n-1)$ para $n > 1$.\n",
        "\n",
        "Finalmente, recordando que buscamos $f(10007)$, calculamos usando la fórmula que encontramos:"
      ]
    },
    {
      "cell_type": "code",
      "metadata": {
        "id": "ZOXgFhcj-Uja",
        "colab": {
          "base_uri": "https://localhost:8080/",
          "height": 34
        },
        "outputId": "2e98aa4f-03ca-460a-e3ba-39de2ee63954"
      },
      "source": [
        "print(2/(10007*10008*1001))"
      ],
      "execution_count": null,
      "outputs": [
        {
          "output_type": "stream",
          "text": [
            "1.9950083682449443e-11\n"
          ],
          "name": "stdout"
        }
      ]
    },
    {
      "cell_type": "markdown",
      "metadata": {
        "id": "e47bW0j-ZyY-"
      },
      "source": [
        "**Ejemplo 3.** Definimos $F_n = 2^{2^n} + 1$, el $n$ -ésimo número de Fermat, para $n = 0, 1, \\dots$. Muestra que cualesquiera dos números de Fermat son primos relativos ($a$ y $b$ son primos relativos si su máximo común divisor es $1$).\n"
      ]
    },
    {
      "cell_type": "markdown",
      "metadata": {
        "id": "R1Uvf6kmaZ_G"
      },
      "source": [
        "*Paso 1.* Casos pequeños. No podemos hacer muchos casos porque $2^{2^n}$ es muy grande, veamos qué pasa con los primeros $6$ números de Fermat."
      ]
    },
    {
      "cell_type": "code",
      "metadata": {
        "id": "DyMJtAF2asV0",
        "colab": {
          "base_uri": "https://localhost:8080/",
          "height": 134
        },
        "outputId": "2f44f275-9455-418c-a077-c08e5d41e5b5"
      },
      "source": [
        "print(\"Los primeros seis números de Fermat son:\")\n",
        "F = []\n",
        "for i in range (0, 6):\n",
        "  F.append(pow(2, pow(2, i)) + 1)\n",
        "  print(F[i])"
      ],
      "execution_count": null,
      "outputs": [
        {
          "output_type": "stream",
          "text": [
            "Los primeros seis números de Fermat son:\n",
            "3\n",
            "5\n",
            "17\n",
            "257\n",
            "65537\n",
            "4294967297\n"
          ],
          "name": "stdout"
        }
      ]
    },
    {
      "cell_type": "markdown",
      "metadata": {
        "id": "6TmYLPxmblwd"
      },
      "source": [
        "*Paso 2.* A primera vista no hay mucho de dónde agarrarnos, intentando buscar un patrón notamos que $3 = 5 -2$,  $3 \\times 5 = 17 - 2$ y que $3 \\times 5 \\times 17 = 255 = 257 - 2$. ¿Esto nos sirve? Sí, pues es fácil ver que $F_n$ siempre es impar, por lo que si el producto de todos los números de Fermat anteriores nos da $F_n - 2$, se tiene que en particular $(F_k, F_n) = 1$ para todo $k < n$, de donde se concluye lo deseado. Aquí tenemos una primera conjetura, veamos si se cumple para el resto de los números calculados."
      ]
    },
    {
      "cell_type": "code",
      "metadata": {
        "id": "qyMwY2uucaBo",
        "colab": {
          "base_uri": "https://localhost:8080/",
          "height": 101
        },
        "outputId": "020547e6-5287-4265-acc5-b7610c07b2b7"
      },
      "source": [
        "P = F[0]\n",
        "for i in range (0, 5):\n",
        "  if (F[i+1] - P == 2):\n",
        "    print(\"Se cumple\")\n",
        "  else:\n",
        "    print(\"No se cumple :c\")\n",
        "  if(i+1 < 5) : P *= F[i+1]"
      ],
      "execution_count": null,
      "outputs": [
        {
          "output_type": "stream",
          "text": [
            "Se cumple\n",
            "Se cumple\n",
            "Se cumple\n",
            "Se cumple\n",
            "Se cumple\n"
          ],
          "name": "stdout"
        }
      ]
    },
    {
      "cell_type": "markdown",
      "metadata": {
        "id": "ptuUWrxndD6c"
      },
      "source": [
        "*Paso 3*. Nuestros casos parecen indicar que $F_1 \\cdot F_2 \\cdots F_n = F_{n+1}-2$. Probemos esto por inducción.\n",
        "\n",
        "- Caso base. Los casos que ya vimos anteriormente.\n",
        "- Hipótesis de inducción. Para $n = k$ se cumple que $F_1 \\cdot F_2 \\cdot \\dots \\cdot F_k = F_{k+1}-2$. \n",
        "- Paso inductivo. Usando la hipótesis de inducción, tenemos que: $$F_1 \\cdot F_2 \\cdots F_{k} \\cdot F_{k+1} = (F_{k+1} - 2)F_{k+1}$$, recordando que $F_{n} = 2^{2^n}+1$, tenemos que \n",
        "\\begin{align}\n",
        "(F_{k+1} - 2)F_{k+1} &= (2^{2^{k+1}} - 1)(2^{2^{k+1}} + 1) \\\\\n",
        "&= 2^{2^{k+2}} - 1 \\\\\n",
        "&= F_{k+2} - 2\n",
        "\\end{align}\n",
        "\n",
        "De donde concluimos el paso inductivo, y por lo tanto que se cumple $F_1 \\cdot F_2 \\cdots F_n = F_{n+1}-2$ para todo entero positivo $n$. Con esto hemos probado que cualesquiera dos números de Fermat distintos son primos relativos, como queríamos ver.\n",
        "\n",
        "NOTA : Notemos que esto nos permite además concluir que hay una infinidad de números primos."
      ]
    },
    {
      "cell_type": "markdown",
      "metadata": {
        "id": "Kd2-ZlEvgmsn"
      },
      "source": [
        "**Ejemplo 4.** Considera el conjunto $A = \\{1, 2, \\dots, 1000 \\}$. Para cada subconjunto no vacío $B$ de $A$ definimos $f(B)$ como el producto de los cuadrados de los elementos de $B$, por ejemplo, si $B = \\{1, 5\\}$, $f(B) = 1^2 \\cdot 5^2 = 25$. Sea $S$ el conjunto de todos los subconjuntos no vacíos de $A$ tales que no contienen parejas de enteros consecutivos, por ejemplo $\\{1, 4\\} \\in S$, pero $\\{2, 3, 7\\} \\notin S$. Determina el valor de $$F(A) = \\sum_{B \\in S}f(B)$$."
      ]
    },
    {
      "cell_type": "markdown",
      "metadata": {
        "id": "X2daC_JHlhRF"
      },
      "source": [
        "*Paso 1.* Se siente que el valor de la suma pedida para el conjunto de los primeros $n$ enteros positivos va a ir creciendo muy rápido conforme $n$ crece, entonces calculemos los primeros valores, pero no muchos para evitar que nuestras computadoras exploten. ¿Cómo escribir un código para que calcule los primeros casos sin hacer casito por casito? Hint: Ver que $F([k]) = F([k-1]) + F([k-2])k^2 + k^2$, donde $[k] = \\{1, 2, \\dots, k\\}$."
      ]
    },
    {
      "cell_type": "code",
      "metadata": {
        "id": "NwtA1cDel4su",
        "colab": {
          "base_uri": "https://localhost:8080/",
          "height": 101
        },
        "outputId": "58553b8d-1aaf-46f1-913e-1d9ede6ab349"
      },
      "source": [
        "s = [0, 0]\n",
        "for i in range (1, 6):\n",
        "  j = i%2\n",
        "  s[j] = s[(j+1)%2] + s[j]*i*i + i*i \n",
        "  print(\"Para n = \", i, \" da \", s[j])"
      ],
      "execution_count": null,
      "outputs": [
        {
          "output_type": "stream",
          "text": [
            "Para n =  1  da  1\n",
            "Para n =  2  da  5\n",
            "Para n =  3  da  23\n",
            "Para n =  4  da  119\n",
            "Para n =  5  da  719\n"
          ],
          "name": "stdout"
        }
      ]
    },
    {
      "cell_type": "markdown",
      "metadata": {
        "id": "xcWp5n6TmlnO"
      },
      "source": [
        "*Paso 2.* Notemos que al sumar $1$ a cada valor obtenemos un factorial. Probemos por inducción que en efecto esto sucede, y de hecho la prueba va a resultar muy fácil gracias a la lógica que usamos para el código de los primeros casos. Denotaremos $[n] = \\{1, 2, \\dots, n\\}$.\n",
        "\n",
        "- Caso base. Los casos que ya vimos.\n",
        "- Hipótesis de inducción. $F([k]) = (k+1)! - 1$ para todo entero positivo $k \\leq n$.\n",
        "- Paso inductivo. Supongamos que $F([k]) = (k+1)! - 1$ para todo entero positivo $k \\leq n$. Como vimos para hacer el código de los primeros casos, $$F([n+1]) = F([n]) + (n+1)^2F([n-1]) + (n+1)^2$$ sustituyendo, tenemos que \n",
        "\\begin{align}\n",
        "F([n+1]) &= ((n+1)! - 1) + ((n)! - 1)(n+1)^2 + (n+1)^2 \\\\\n",
        "&= (n+1)! + n!(n+1)^2 - 1 \\\\\n",
        "&= (n+1)!(1 + n+1) - 1 \\\\\n",
        "&= (n+2)! - 1\n",
        "\\end{align}\n",
        "\n",
        "Con lo que concluimos que $F([n+1]) = (n+2)! - 1$.\n",
        "\n",
        "Entonces la respuesta a nuestro problema inicial es $1001! - 1$, que es muy muy grande."
      ]
    },
    {
      "cell_type": "markdown",
      "metadata": {
        "id": "E6Go_fx5fWyC"
      },
      "source": [
        "**Ejercicios.** Aquí va una pequeña lista de ejercicios para que practiquen su uso de la técnica de inducción matemática.\n",
        "\n",
        "1.   Encuentra el valor de $1^3 + 3^3 + 5^3 + \\cdots + 100005^3$.\n",
        "2.   Considera todos los subconjuntos no vacíos de $\\{1, 2, \\dots, 2048\\}$. Para cada uno de estos subconjuntos, considera el recíproco del producto de sus elementos. Calcula la suma de estos números. \n",
        "3.   (Reto, no obligatorio) Considera el conjunto $\\textit{F}$ de todas las funciones inyectivas $f : \\mathbb{Z}^{+} \\rightarrow \\mathbb{Z}^{+}$ que satisfacen $f(2x) + f(x)f(y) = f(xy) + 2f(x)$ para cualesquiera $x, y \\in \\mathbb{N}$. Determina el valor de $min_{f \\in \\textit{F}} \\{f(2012)\\}$."
      ]
    },
    {
      "cell_type": "markdown",
      "metadata": {
        "id": "D3OiuIpPPfcw"
      },
      "source": [
        "*Ejercicio 1.* Encuentra el valor de $1^3 + 3^3 + 5^3 + \\cdots + 100005^3$. \n",
        "\n",
        "- Intenta encontrar primero una fórmula para $1^3 + 2^3 + \\cdots + n^3$, crea un código para checar casos pequeños en la siguiente celda."
      ]
    },
    {
      "cell_type": "code",
      "metadata": {
        "id": "ZUe6PJvYP6O3"
      },
      "source": [
        ""
      ],
      "execution_count": null,
      "outputs": []
    },
    {
      "cell_type": "markdown",
      "metadata": {
        "id": "bwej7r24P6tL"
      },
      "source": [
        "- ¿Alguna conjetura? Pruébala usando inducción. ¿Cómo pasar de esta suma a sumar únicamente los cubos de los impares? Quizás sea conveniente calcular la respectiva suma para los números pares, es decir, $2^3 + 4^3 + \\cdots + (2k)^3$.\n",
        "- Una vez que tengas una fórmula para la suma buscada, escribe un código que imprima el valor buscado y agrega tu demostración de la fórmula."
      ]
    },
    {
      "cell_type": "markdown",
      "metadata": {
        "id": "VFtlciSjDS1j"
      },
      "source": [
        "(Aquí va la demostración)"
      ]
    },
    {
      "cell_type": "code",
      "metadata": {
        "id": "fqnv_mD8QhEs",
        "colab": {
          "base_uri": "https://localhost:8080/",
          "height": 34
        },
        "outputId": "21f8dd41-a9a9-4c3b-bb57-1a89fe167b94"
      },
      "source": [
        "print(\"El valor de la suma dada es: \",   )"
      ],
      "execution_count": null,
      "outputs": [
        {
          "output_type": "stream",
          "text": [
            "El valor de la suma dada es: \n"
          ],
          "name": "stdout"
        }
      ]
    },
    {
      "cell_type": "markdown",
      "metadata": {
        "id": "qyn7WQtaQoLS"
      },
      "source": [
        "*Ejercicio 2.* Recuerda lo que se hizo en el ejemplo $4$.\n",
        "\n",
        "- Escribe un código que te permita calcular los primeros casos en la siguiente celda."
      ]
    },
    {
      "cell_type": "code",
      "metadata": {
        "id": "-QEdLv0JQ2hC"
      },
      "source": [
        ""
      ],
      "execution_count": null,
      "outputs": []
    },
    {
      "cell_type": "markdown",
      "metadata": {
        "id": "i_-NpaRfQ22g"
      },
      "source": [
        "- Prueba tu conjetura usando inducción. \n",
        "- Escribe un código que imprima el valor que se pide."
      ]
    },
    {
      "cell_type": "markdown",
      "metadata": {
        "id": "56kou6f1DhSz"
      },
      "source": [
        "(Aquí va la prueba de tu conjetura)"
      ]
    },
    {
      "cell_type": "code",
      "metadata": {
        "id": "DIQkV2gPRDVd",
        "colab": {
          "base_uri": "https://localhost:8080/",
          "height": 34
        },
        "outputId": "98605d26-6cff-4723-8f82-eb1dc6a89439"
      },
      "source": [
        "print(\"La suma de los números indicados es :\", )"
      ],
      "execution_count": null,
      "outputs": [
        {
          "output_type": "stream",
          "text": [
            "La suma de los números indicados es :\n"
          ],
          "name": "stdout"
        }
      ]
    }
  ]
}