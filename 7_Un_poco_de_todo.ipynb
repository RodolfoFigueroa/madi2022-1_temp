{
  "nbformat": 4,
  "nbformat_minor": 0,
  "metadata": {
    "colab": {
      "name": "Un poco de todo.ipynb",
      "provenance": [],
      "collapsed_sections": [],
      "include_colab_link": true
    },
    "kernelspec": {
      "name": "python3",
      "display_name": "Python 3"
    }
  },
  "cells": [
    {
      "cell_type": "markdown",
      "metadata": {
        "id": "view-in-github",
        "colab_type": "text"
      },
      "source": [
        "<a href=\"https://colab.research.google.com/github/RodolfoFigueroa/madi2022-1/blob/main/7_Un_poco_de_todo.ipynb\" target=\"_parent\"><img src=\"https://colab.research.google.com/assets/colab-badge.svg\" alt=\"Open In Colab\"/></a>"
      ]
    },
    {
      "cell_type": "markdown",
      "metadata": {
        "id": "nBLo8jX_7HW2"
      },
      "source": [
        "En esta sesión veremos algunos ejemplos de problemas con la finalidad de reforzar lo visto en esta unidad."
      ]
    },
    {
      "cell_type": "markdown",
      "metadata": {
        "id": "5jT3UBzk7YSi"
      },
      "source": [
        "**Ejemplo 1**. Supongamos que se tiene una función $f$ integrable en el intervalo $[a,b]$ y deseamos calcular el valor de $\\int_{a}^{b} f$. \n",
        "\n",
        "¿Cómo podemos aprovechar ideas probabilísticas para atacar este problema? Podemos seleccionar de manera aleatoria $n$ reales en el intervalo $[a,b]$, para una $n$ lo suficientemente grande, el promedio de los valores de $f$ es dichos puntos multiplicado por la longitud del intervalo aproximará la integral deseada. Veamos un ejemplo de esto, para integrar la función seno en el intervalo $[0,\\pi]$, en donde probaremos con diferentes valores de $n$.\n",
        "\n"
      ]
    },
    {
      "cell_type": "code",
      "metadata": {
        "colab": {
          "base_uri": "https://localhost:8080/"
        },
        "id": "s4aL5RN69taH",
        "outputId": "8efff9f7-20db-48b7-fbbb-335247d61467"
      },
      "source": [
        "import numpy as np\n",
        "import random\n",
        "import math\n",
        "\n",
        "def integral(a, b, n):\n",
        "  tot = 0\n",
        "  for i in range(0,n):\n",
        "    x = random.uniform(a,3.14)\n",
        "    # print(x)\n",
        "    tot += math.sin(x)\n",
        "  return tot*(b-a)/n\n",
        "\n",
        "print(integral(0,np.pi,10))\n",
        "print(integral(0,np.pi,100))\n",
        "print(integral(0,np.pi,1000))\n",
        "print(integral(0,np.pi,10000))\n",
        "print(integral(0,np.pi,100000))\n",
        "print(integral(0,np.pi,1000000))"
      ],
      "execution_count": null,
      "outputs": [
        {
          "output_type": "stream",
          "text": [
            "2.1541890359223075\n",
            "1.883883984931964\n",
            "1.923788058439326\n",
            "2.0004026571579683\n",
            "2.002561467392846\n",
            "2.0001477149204923\n"
          ],
          "name": "stdout"
        }
      ]
    },
    {
      "cell_type": "markdown",
      "metadata": {
        "id": "KAcS1BbfCf2D"
      },
      "source": [
        "**Ejemplo 2.** Se tiene una lista $L$ con $n$ enteros no necesariamente distintos. Para cualquier lista, se define su *diversidad* como el total de elementos distintos que tiene la lista en cuestión. Si a cada elemento de $L$ se le puede sumar $1$ o dejarlo como está, determina un algoritmo que nos permita conocer la mayor diversidad que se puede alcanzar al hacer estos cambios en la lista.\n",
        "\n",
        "Una forma en la que podemos proceder es checando todas las posibilidades, es decir, si cada elemento lo cambiamos o lo dejamos como está. Sin embargo esto es exponencial, nos tomaría al menos $O(2^n)$, ¿se puede mejorar esto?\n",
        "\n",
        "Consideremos el siguiente algoritmo greedy. Recorremos la lista de izquierda a derecha, y vamos agregando los elementos a un conjunto, en cada paso verificamos si el elemento en el que estamos ya pertenece al conjunto, de ser así le sumamos $1$ y lo agregamos. Este algoritmo tiene complejidad en tiempo $O(n)$, (en otros lenguajes de programación puede tomar $O(n logn)$ por el uso de un conjunto). ¿Es correcto este algoritmo? ¿Qué pasa con las listas `[2,2,3]` y `[3,2,2]`?\n",
        "\n",
        "Podemos modificar un poco el algoritmo anterior, ordenando primero nuestra lista, y procediendo con el algoritmo greedy mencionado. Veamos una implementación de este algoritmo."
      ]
    },
    {
      "cell_type": "code",
      "metadata": {
        "colab": {
          "base_uri": "https://localhost:8080/"
        },
        "id": "29IxnO6gRwkS",
        "outputId": "1eb0697a-0523-432a-b219-ab754b2d08d7"
      },
      "source": [
        "def max_div(L):\n",
        "  L.sort()\n",
        "  S = {L[0]}\n",
        "  for i in range(1, len(L)):\n",
        "    if(L[i] in S):\n",
        "      L[i] += 1\n",
        "    S.add(L[i])\n",
        "  return len(S)\n",
        "\n",
        "print(max_div([1, 2, 2, 2, 5, 6]))\n",
        "print(max_div([3,2,2]))\n",
        "print(max_div([2,2,3,3,4,4]))\n",
        "print(max_div([1, 1, 3, 4, 4, 5]))\n"
      ],
      "execution_count": null,
      "outputs": [
        {
          "output_type": "stream",
          "text": [
            "5\n",
            "3\n",
            "4\n",
            "6\n"
          ],
          "name": "stdout"
        }
      ]
    },
    {
      "cell_type": "markdown",
      "metadata": {
        "id": "e8c3xEKQS-uM"
      },
      "source": [
        "Como hemos visto anteriormente, probar que un algoritmo greedy es correcto suele ser complicado, por lo que hay ocasiones en las que uno puede preferir otro tipo de algoritmo, para ir más a la segura. ¿Podemos resolver este problema usando recursión o programación dinámica? Consideremos la lista ordenada de menor a mayor. Recorremos la lista de izquierda a derecha, hasta encontrar un índice $i$ tal que $L[i] + 1 < L[i+1]$. Tenemos entonces que los primeros $i+1$ elementos cubren a cada entero del intervalo $[L[0], L[i]]$ al menos una vez, y al hacer cambios podremos cubrir a lo más un elemento más, lo que es posible solo si existe elemento repetido en dicho intervalo. Con esto en mente podemos implementar un algoritmo diferente al greedy.\n",
        "\n"
      ]
    },
    {
      "cell_type": "code",
      "metadata": {
        "colab": {
          "base_uri": "https://localhost:8080/"
        },
        "id": "ZeUe3Qh6dJH-",
        "outputId": "4abcef8a-b76c-4ff5-b452-35e5eaaaf418"
      },
      "source": [
        "def max_div2(L):\n",
        "  L.sort()\n",
        "  ans = 0\n",
        "  prev = 0 # guarda el índice de hasta la izquierda de cada intervalo contiguo\n",
        "  rep = False\n",
        "  for i in range(0, len(L) - 1):\n",
        "    if(L[i] + 1 < L[i+1]):\n",
        "      if(rep): \n",
        "        ans += L[i] - L[prev] + 2\n",
        "      else:\n",
        "        ans += L[i] - L[prev] + 1\n",
        "      prev = i + 1\n",
        "      rep = False\n",
        "    else:\n",
        "      if(i > 0 and L[i] == L[i-1]):\n",
        "        rep = True\n",
        "  return ans\n",
        "\n",
        "print(max_div([1, 2, 2, 2, 5, 6]))\n",
        "print(max_div([3,2,2]))\n",
        "print(max_div([2,2,3,3,4,4]))\n",
        "print(max_div([1, 1, 3, 4, 4, 5]))"
      ],
      "execution_count": null,
      "outputs": [
        {
          "output_type": "stream",
          "text": [
            "5\n",
            "3\n",
            "4\n",
            "6\n"
          ],
          "name": "stdout"
        }
      ]
    },
    {
      "cell_type": "markdown",
      "metadata": {
        "id": "wqbb9ff-eqgB"
      },
      "source": [
        "**Ejemplo 3.** Se tiene un tablero de $n \\times 2$, y en cada casilla hay un entero entre $0$ y $1000$ escrito en ella. Se quieren 'eliminar' $k$ de estas casillas de modo que la suma de las casillas removidas sea la menor posible, y que se pueda llegar de un extremo del tablero al otro, caminando por casillas que son adyacentes por lado. \n",
        "\n",
        "¿Cómo proceder con este problema? Una primera observación importante es notar que si hay $m$ columnas consecutivas tales que en cada una de ellas se remueve alguna casilla (notemos que en cada columna se elimina a lo más una de sus casillas), entonces todas las casillas que se remueven de esas $m$ columnas pertenecen a la misma fila. \n",
        "\n",
        "Esta observación nos va a permitir crear una recursión en términos de la longitud del tablero y la cantidad de casillas por eliminar, si $f(l,e)$ nos dice la respuesta al problema considerando las primeras $l$ columnas, eliminando $e$ casillas en ese subtablero, se tiene la recursión:\n",
        "\n",
        "$$f(l,e) = min_{i = 0}^{e}\\{(f(l-1-i, e-i)) + min(S1(l-i, l), S2(l-i,l))\\}$$\n",
        "\n",
        "Donde $S1(a,b), S2(a,b)$ son las sumas de los elementos de la primer y segunda fila comprendidos en las columnas $a, a+1, \\dots, b$, respectivamente.\n",
        "\n",
        "Con esto en mente podemos implementar el algoritmo."
      ]
    },
    {
      "cell_type": "code",
      "metadata": {
        "colab": {
          "base_uri": "https://localhost:8080/"
        },
        "id": "M8xdK1LWdu3n",
        "outputId": "ebb6e15a-5ac3-4871-88d8-6035c0e003ca"
      },
      "source": [
        "tablero = [[3,2,1,1,3,0],[1,1,2,3,3,0]]\n",
        "# tablero = [[7,4,3,5,7,10,0,3,6,7],[8,9,7,9,2,3,10,2,3,9]]\n",
        "n = len(tablero[0])\n",
        "k = 5\n",
        "\n",
        "acum = [[0],[0]]\n",
        "for i in range(0, n): # Esto nos permitirá calcular las sumas S1, S2 de manera rápida\n",
        "  acum[0].append(tablero[0][i] + acum[0][-1])\n",
        "  acum[1].append(tablero[1][i] + acum[1][-1])\n",
        "\n",
        "S = acum[0][-1] + acum[1][-1]\n",
        "\n",
        "dp =  [[-1 for x in range(k+1)] for y in range(n+1)]\n",
        "\n",
        "def quitar_casillas(l,e):\n",
        "  if(dp[l][e] != -1):\n",
        "    return dp[l][e]\n",
        "  if(e == 0):\n",
        "    return 0\n",
        "  if(e == l):\n",
        "    dp[l][e] = min(acum[0][l] - acum[0][0], acum[1][l] - acum[0][0])\n",
        "  else:\n",
        "    mini = 2000*n + 2 # Ponemos un 'infinito'\n",
        "    for i in range(0, e+1):\n",
        "      aux = quitar_casillas(l-1-i, e-i) + min(acum[0][l] - acum[0][l-i], acum[1][l] - acum[1][l-i])\n",
        "      mini = min(mini, aux)\n",
        "      # print(aux, i, mini)\n",
        "    dp[l][e] = mini\n",
        "  # print(l,e, dp[l][e])\n",
        "  return dp[l][e]\n",
        "\n",
        "print(quitar_casillas(n, k))\n",
        "print(S)\n"
      ],
      "execution_count": null,
      "outputs": [
        {
          "output_type": "stream",
          "text": [
            "6\n",
            "20\n"
          ],
          "name": "stdout"
        }
      ]
    },
    {
      "cell_type": "markdown",
      "metadata": {
        "id": "u4w9b7XM8_0f"
      },
      "source": [
        "**Ejercicios.**\n",
        "\n",
        "1.   Describe otro algoritmo probabilístico que se pueda utilizar para aproximar la integral de cierta función. Implementa tu algoritmo para aproximar la integral de la función $log(x)$ en el intervalo $[1,2]$.\n",
        "2.   Decimos que un entero es súper divisible si es múltiplio de cada uno de sus dígitos distintos de $0$. Por ejemplo, $102$ y $132$ son súper divisibles, pero $282$ y $119$ no lo son. Describe un algoritmo tal que dado un entero positivo $n$, encuentre el menor entero $m$ tal que $n < m$ y $m$ es súper divisible. Implementa tu algoritmo (comprueba los casos $n= 14, 28, 119, 282, 102, 132, 209$) y analiza su complejidad en tiempo.\n",
        "(Hint: ¿Qué pasa si un número es múltiplo de $mcd(1,2,\\dots,9)$)?\n",
        "\n"
      ]
    },
    {
      "cell_type": "markdown",
      "metadata": {
        "id": "DMMF-HrV4UaY"
      },
      "source": [
        "*Ejercicio 1*. Describe a continuación el algoritmo solicitado."
      ]
    },
    {
      "cell_type": "code",
      "metadata": {
        "id": "R_fcLEF_4Zm0"
      },
      "source": [
        "# Aquí va la implementación de tu algoritmo"
      ],
      "execution_count": null,
      "outputs": []
    },
    {
      "cell_type": "markdown",
      "metadata": {
        "id": "onU6c62L4cSc"
      },
      "source": [
        "*Ejercicio 2.* Describe aquí tu algoritmo y analiza su complejidad en tiempo."
      ]
    },
    {
      "cell_type": "code",
      "metadata": {
        "id": "TFn4Vxhu5SxA"
      },
      "source": [
        "# Aquí va la implementación de tu algoritmo, recuerda comprobarlo para los casos n = 14, 28, 119, 282, 102, 132, 209"
      ],
      "execution_count": null,
      "outputs": []
    }
  ]
}